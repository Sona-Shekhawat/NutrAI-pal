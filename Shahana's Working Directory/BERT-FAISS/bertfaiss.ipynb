{
 "cells": [
  {
   "cell_type": "markdown",
   "id": "58f72b27",
   "metadata": {},
   "source": [
    "using the bert for embedding and FAISS for the nearest neighbour search"
   ]
  },
  {
   "cell_type": "code",
   "execution_count": 2,
   "id": "77dad6a7",
   "metadata": {},
   "outputs": [],
   "source": [
    "!pip install -q sentence-transformers faiss-cpu pandas"
   ]
  },
  {
   "cell_type": "code",
   "execution_count": 3,
   "id": "5d06b017",
   "metadata": {},
   "outputs": [
    {
     "name": "stderr",
     "output_type": "stream",
     "text": [
      "c:\\Users\\Shahana\\AppData\\Local\\Programs\\Python\\Python313\\Lib\\site-packages\\tqdm\\auto.py:21: TqdmWarning: IProgress not found. Please update jupyter and ipywidgets. See https://ipywidgets.readthedocs.io/en/stable/user_install.html\n",
      "  from .autonotebook import tqdm as notebook_tqdm\n"
     ]
    }
   ],
   "source": [
    "import pandas as pd\n",
    "import faiss\n",
    "from sentence_transformers import SentenceTransformer\n",
    "import numpy as np"
   ]
  },
  {
   "cell_type": "code",
   "execution_count": 4,
   "id": "cc40c579",
   "metadata": {},
   "outputs": [],
   "source": [
    "# all-MIniLM-L6-v2 "
   ]
  },
  {
   "cell_type": "code",
   "execution_count": 5,
   "id": "f1e40ad2",
   "metadata": {},
   "outputs": [],
   "source": [
    "model = SentenceTransformer('all-MiniLM-L6-v2')  "
   ]
  },
  {
   "cell_type": "markdown",
   "id": "03a28c7d",
   "metadata": {},
   "source": [
    "Combine the text data that has to be embedded into a single column in data frame and then to list ."
   ]
  },
  {
   "cell_type": "code",
   "execution_count": 6,
   "id": "aebfd080",
   "metadata": {},
   "outputs": [],
   "source": [
    "df = pd.read_csv(\"PreProcessedData.csv\") \n",
    "df['text'] = df['name'] + \". \" + df['ingredients'] + \". \" + df['instructions']+\".\"+df['tags']"
   ]
  },
  {
   "cell_type": "code",
   "execution_count": 7,
   "id": "b19256b9",
   "metadata": {},
   "outputs": [],
   "source": [
    "texts=df['text'].tolist()"
   ]
  },
  {
   "cell_type": "code",
   "execution_count": 8,
   "id": "95dd6496",
   "metadata": {},
   "outputs": [
    {
     "name": "stderr",
     "output_type": "stream",
     "text": [
      "Batches: 100%|██████████| 110/110 [00:09<00:00, 11.61it/s]\n"
     ]
    }
   ],
   "source": [
    "embeddings = model.encode(texts, show_progress_bar=True, convert_to_numpy=True)"
   ]
  },
  {
   "cell_type": "markdown",
   "id": "b850ba42",
   "metadata": {},
   "source": [
    "The below cell is to scale the nutritions "
   ]
  },
  {
   "cell_type": "code",
   "execution_count": 9,
   "id": "4111c51e",
   "metadata": {},
   "outputs": [],
   "source": [
    "from sklearn.preprocessing import MinMaxScaler\n",
    "\n",
    "nutrients = df[['calories', 'protein', 'carbohydrates','fiber','fat', 'sodium']].fillna(0)\n",
    "scaler = MinMaxScaler()\n",
    "nutrient_scaled = scaler.fit_transform(nutrients)\n"
   ]
  },
  {
   "cell_type": "code",
   "execution_count": 10,
   "id": "c663a04a",
   "metadata": {},
   "outputs": [],
   "source": [
    "# combining the text embeddings and the scaled nutritions\n",
    "combined_embeddings = np.hstack((embeddings, nutrient_scaled))"
   ]
  },
  {
   "cell_type": "code",
   "execution_count": 11,
   "id": "8300c6b0",
   "metadata": {},
   "outputs": [],
   "source": [
    "import faiss\n",
    "\n",
    "dim = combined_embeddings.shape[1] \n",
    "index = faiss.IndexFlatL2(dim)\n",
    "index.add(combined_embeddings)\n"
   ]
  },
  {
   "cell_type": "code",
   "execution_count": 12,
   "id": "87bab4bc",
   "metadata": {},
   "outputs": [],
   "source": [
    "import pickle \n",
    "# Save combined embeddings\n",
    "np.save(\"combined_embeddings.npy\", combined_embeddings)\n",
    "\n",
    "# Save scaler\n",
    "with open(\"scaler.pkl\", \"wb\") as f:\n",
    "    pickle.dump(scaler, f)\n",
    "\n",
    "# Save FAISS index\n",
    "faiss.write_index(index,\"faiss_index.bin\")"
   ]
  },
  {
   "cell_type": "code",
   "execution_count": 13,
   "id": "2f15c5c9",
   "metadata": {},
   "outputs": [
    {
     "name": "stderr",
     "output_type": "stream",
     "text": [
      "c:\\Users\\Shahana\\AppData\\Local\\Programs\\Python\\Python313\\Lib\\site-packages\\sklearn\\utils\\validation.py:2739: UserWarning: X does not have valid feature names, but MinMaxScaler was fitted with feature names\n",
      "  warnings.warn(\n"
     ]
    }
   ],
   "source": [
    "query_text = \"oats , banana milk\"\n",
    "query_embed = model.encode([query_text])\n",
    "\n",
    "# example nutrient goals\n",
    "query_nutrient = scaler.transform([[550, 30, 35, 15, 10, 300]])  # scale same as train\n",
    "\n",
    "# combine\n",
    "query_vector = np.hstack((query_embed, query_nutrient))\n",
    "D, I = index.search(query_vector.reshape(1, -1), k=3)\n"
   ]
  },
  {
   "cell_type": "code",
   "execution_count": 14,
   "id": "06497035",
   "metadata": {},
   "outputs": [],
   "source": [
    "df1=pd.read_csv(\"Dataset_combined.csv\")"
   ]
  },
  {
   "cell_type": "code",
   "execution_count": 15,
   "id": "a849a875",
   "metadata": {},
   "outputs": [
    {
     "name": "stdout",
     "output_type": "stream",
     "text": [
      "      Unnamed: 0                            name  \\\n",
      "1476        1476     banana oats smoothie recipe   \n",
      "2670         714  Sweet and spicy barbecue sauce   \n",
      "1412        1412        Blueberry Banana Oatmeal   \n",
      "\n",
      "                                            ingredients  \\\n",
      "1476  ['1 cup chilled and roughly chopped bananas', ...   \n",
      "2670  ['1 cup no-added-salt tomato purée', '2 tables...   \n",
      "1412  ['1/2 cup Rolled Oats', '', '1/2 mashed medium...   \n",
      "\n",
      "                                           instructions  \\\n",
      "1476  For banana oats smoothieTo make banana oats sm...   \n",
      "2670  ['1 Combine all ingredients in a small saucepa...   \n",
      "1412  For blueberry banana oatmeal Place oats, mashe...   \n",
      "\n",
      "                                              nutrition     time  \\\n",
      "1476  {'Energy': '201 cal', 'Protein': '6 g', 'Carbo...   2 Mins   \n",
      "2670  {'Calories ': '14 cal', 'Kilojoules ': '60 kJ'...  20 mins   \n",
      "1412  {'Energy': '402 cal', 'Protein': '15.1 g', 'Ca...  15 Mins   \n",
      "\n",
      "           serving_size                                               tags  \n",
      "1476         4 servings  ['Mixer', 'Indian Breakfast Recipes', 'Quick b...  \n",
      "2670  makes about 1 cup  ['Dairy free', 'Low kilojoule', 'Vegetarian', ...  \n",
      "1412         4 servings  ['American', 'American Breakfast', 'Antioxidan...  \n"
     ]
    }
   ],
   "source": [
    "for i in I:\n",
    "    print(df1.iloc[i])"
   ]
  },
  {
   "cell_type": "code",
   "execution_count": null,
   "id": "bfab69a9",
   "metadata": {},
   "outputs": [],
   "source": []
  }
 ],
 "metadata": {
  "kernelspec": {
   "display_name": "Python 3",
   "language": "python",
   "name": "python3"
  },
  "language_info": {
   "codemirror_mode": {
    "name": "ipython",
    "version": 3
   },
   "file_extension": ".py",
   "mimetype": "text/x-python",
   "name": "python",
   "nbconvert_exporter": "python",
   "pygments_lexer": "ipython3",
   "version": "3.13.2"
  }
 },
 "nbformat": 4,
 "nbformat_minor": 5
}
