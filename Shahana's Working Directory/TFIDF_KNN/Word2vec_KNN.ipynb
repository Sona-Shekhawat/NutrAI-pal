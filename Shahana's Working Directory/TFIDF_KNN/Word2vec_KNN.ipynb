{
 "cells": [
  {
   "cell_type": "code",
   "execution_count": null,
   "id": "a15edbb5",
   "metadata": {},
   "outputs": [],
   "source": [
    "from sentence_transformers import SentenceTransformer\n",
    "\n",
    "bert = SentenceTransformer('all-MiniLM-L6-v2')\n",
    "\n",
    "bert_vectors = bert.encode(df['combined'].tolist(), convert_to_numpy=True)\n",
    "\n",
    "X_bert = np.concatenate([X_scaled, bert_vectors], axis=1)\n",
    "\n",
    "knn_bert = NearestNeighbors(n_neighbors=5, metric='cosine').fit(X_bert)\n",
    "\n",
    "def recommend_items_bert(user_input, nutritions, df, scaler, bert_model, knn_model):\n",
    "    # 1. Generate BERT embedding for input text\n",
    "    text_vec = bert.encode([user_input], convert_to_numpy=True)  # shape: (1, D)\n",
    "    df_test=pd.DataFrame.from_dict(nutritions)\n",
    "    # 2. Scale nutrition input to match training distribution\n",
    "    nutrition_vec = scaler.transform(df_test.values)  # shape: (1, 4)\n",
    "\n",
    "    # 3. Concatenate scaled nutrition + text embeddings\n",
    "    query_vec = np.concatenate([nutrition_vec, text_vec], axis=1)  # shape: (1, D+4)\n",
    "\n",
    "    # 4. Retrieve top_k nearest neighbors\n",
    "    distances, indices = knn_model.kneighbors(query_vec, n_neighbors=5)\n",
    "\n",
    "    # 5. Create results DataFrame\n",
    "    recommendations = [\n",
    "        (df1.iloc[idx], distances[0][i])\n",
    "        for i, idx in enumerate(indices[0])\n",
    "    ]\n",
    "    return recommendations\n",
    "\n",
    "\n",
    "user_input = \"oats banana, salad , sweet\"\n",
    "  # calories, protein, fat, carbs\n",
    "nutritions_goals={\"calories\":[100],\"proteins\":[40.0],\"carbohydrates\":[45.00],\"fiber\":[15.00],\"fat\":[16.00],\"sodium\":[8.00]}\n",
    "recommendations = recommend_items_bert(user_input,nutritions_goals,df1,scaler,bert,knn_bert)\n",
    "# print(recommendations)\n",
    "for i, (name, distance) in enumerate(recommendations):\n",
    "    print(f\"{i+1}. {name}\")"
   ]
  }
 ],
 "metadata": {
  "kernelspec": {
   "display_name": "Python 3",
   "language": "python",
   "name": "python3"
  },
  "language_info": {
   "codemirror_mode": {
    "name": "ipython",
    "version": 3
   },
   "file_extension": ".py",
   "mimetype": "text/x-python",
   "name": "python",
   "nbconvert_exporter": "python",
   "pygments_lexer": "ipython3",
   "version": "3.13.2"
  }
 },
 "nbformat": 4,
 "nbformat_minor": 5
}
