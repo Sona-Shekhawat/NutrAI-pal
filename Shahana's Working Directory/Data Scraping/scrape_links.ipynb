{
 "cells": [
  {
   "cell_type": "markdown",
   "id": "5bd17499",
   "metadata": {},
   "source": [
    "import the pre rquisites "
   ]
  },
  {
   "cell_type": "code",
   "execution_count": null,
   "id": "39689af2",
   "metadata": {},
   "outputs": [],
   "source": [
    "import pandas as pd\n",
    "from bs4 import BeautifulSoup\n",
    "import requests\n",
    "import lxml\n",
    "from selenium import webdriver\n",
    "from selenium.webdriver.common.keys import Keys\n",
    "import time\n",
    "from selenium.webdriver.chrome.service import Service\n",
    "from webdriver_manager.chrome import ChromeDriverManager"
   ]
  },
  {
   "cell_type": "markdown",
   "id": "0cea365c",
   "metadata": {},
   "source": [
    "set up the web driver"
   ]
  },
  {
   "cell_type": "code",
   "execution_count": null,
   "id": "3ca1a98a",
   "metadata": {},
   "outputs": [],
   "source": [
    "driver = webdriver.Chrome(service=Service(ChromeDriverManager().install()))"
   ]
  },
  {
   "cell_type": "markdown",
   "id": "821d5fe5",
   "metadata": {},
   "source": [
    "open the web page using selenium"
   ]
  },
  {
   "cell_type": "code",
   "execution_count": null,
   "id": "6443e050",
   "metadata": {},
   "outputs": [],
   "source": [
    "driver.get(\"https://www.healthyfood.com/healthy-recipes/\")\n"
   ]
  },
  {
   "cell_type": "code",
   "execution_count": null,
   "id": "423c4bf6",
   "metadata": {},
   "outputs": [],
   "source": [
    "scroll_times = 100"
   ]
  },
  {
   "cell_type": "markdown",
   "id": "88f6fa9c",
   "metadata": {},
   "source": [
    "scroll the webpage to load the data"
   ]
  },
  {
   "cell_type": "code",
   "execution_count": null,
   "id": "23d30b4b",
   "metadata": {},
   "outputs": [],
   "source": [
    "for _ in range(scroll_times):\n",
    "    driver.execute_script(\"window.scrollTo(0, document.body.scrollHeight);\")\n",
    "    time.sleep(7) "
   ]
  },
  {
   "cell_type": "markdown",
   "id": "ab534946",
   "metadata": {},
   "source": [
    "To get the source code after scrolling"
   ]
  },
  {
   "cell_type": "code",
   "execution_count": null,
   "id": "acbed87e",
   "metadata": {},
   "outputs": [],
   "source": [
    "html = driver.page_source\n",
    "soup = BeautifulSoup(html, 'lxml')\n"
   ]
  },
  {
   "cell_type": "code",
   "execution_count": null,
   "id": "de5e3c2f",
   "metadata": {},
   "outputs": [],
   "source": [
    "links = [\n",
    "    h3.a['href']\n",
    "    for h3 in soup.find_all('h3', class_='entry-title')\n",
    "    if h3.a and h3.a.has_attr('href')\n",
    "]"
   ]
  },
  {
   "cell_type": "code",
   "execution_count": null,
   "id": "7237598a",
   "metadata": {},
   "outputs": [],
   "source": [
    "links"
   ]
  },
  {
   "cell_type": "code",
   "execution_count": null,
   "id": "93f372e1",
   "metadata": {},
   "outputs": [],
   "source": [
    "len(links)"
   ]
  },
  {
   "cell_type": "code",
   "execution_count": null,
   "id": "840dd181",
   "metadata": {},
   "outputs": [],
   "source": [
    "driver.quit()"
   ]
  },
  {
   "cell_type": "code",
   "execution_count": null,
   "id": "35c58af9",
   "metadata": {},
   "outputs": [],
   "source": [
    "import json\n",
    "with open(\"links.json\",\"w\") as f:\n",
    "    json.dump(links,f)"
   ]
  }
 ],
 "metadata": {
  "kernelspec": {
   "display_name": "Python 3",
   "language": "python",
   "name": "python3"
  },
  "language_info": {
   "codemirror_mode": {
    "name": "ipython",
    "version": 3
   },
   "file_extension": ".py",
   "mimetype": "text/x-python",
   "name": "python",
   "nbconvert_exporter": "python",
   "pygments_lexer": "ipython3",
   "version": "3.13.2"
  }
 },
 "nbformat": 4,
 "nbformat_minor": 5
}
