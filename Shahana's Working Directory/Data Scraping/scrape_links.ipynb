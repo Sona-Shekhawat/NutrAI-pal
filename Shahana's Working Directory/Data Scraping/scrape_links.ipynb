{
 "cells": [
  {
   "cell_type": "markdown",
   "id": "5bd17499",
   "metadata": {},
   "source": [
    "import the pre rquisites "
   ]
  },
  {
   "cell_type": "code",
   "execution_count": null,
   "id": "39689af2",
   "metadata": {},
   "outputs": [],
   "source": [
    "import pandas as pd\n",
    "from bs4 import BeautifulSoup\n",
    "import requests\n",
    "import lxml\n",
    "from selenium import webdriver\n",
    "from selenium.webdriver.common.keys import Keys\n",
    "import time\n",
    "from selenium.webdriver.chrome.service import Service\n",
    "from webdriver_manager.chrome import ChromeDriverManager"
   ]
  },
  {
   "cell_type": "markdown",
   "id": "0cea365c",
   "metadata": {},
   "source": [
    "set up the web driver"
   ]
  },
  {
   "cell_type": "code",
   "execution_count": null,
   "id": "3ca1a98a",
   "metadata": {},
   "outputs": [],
   "source": [
    "driver = webdriver.Chrome(service=Service(ChromeDriverManager().install()))"
   ]
  },
  {
   "cell_type": "markdown",
   "id": "821d5fe5",
   "metadata": {},
   "source": [
    "open the web page using selenium"
   ]
  },
  {
   "cell_type": "code",
   "execution_count": null,
   "id": "6443e050",
   "metadata": {},
   "outputs": [],
   "source": [
    "driver.get(\"https://www.healthyfood.com/healthy-recipes/\")\n"
   ]
  },
  {
   "cell_type": "code",
   "execution_count": null,
   "id": "423c4bf6",
   "metadata": {},
   "outputs": [],
   "source": [
    "scroll_times = 100"
   ]
  },
  {
   "cell_type": "markdown",
   "id": "88f6fa9c",
   "metadata": {},
   "source": [
    "scroll the webpage to load the data"
   ]
  },
  {
   "cell_type": "code",
   "execution_count": null,
   "id": "23d30b4b",
   "metadata": {},
   "outputs": [],
   "source": [
    "for _ in range(scroll_times):\n",
    "    driver.execute_script(\"window.scrollTo(0, document.body.scrollHeight);\")\n",
    "    time.sleep(7) "
   ]
  },
  {
   "cell_type": "markdown",
   "id": "ab534946",
   "metadata": {},
   "source": [
    "To get the source code after scrolling"
   ]
  },
  {
   "cell_type": "code",
   "execution_count": null,
   "id": "acbed87e",
   "metadata": {},
   "outputs": [],
   "source": [
    "html = driver.page_source\n",
    "soup = BeautifulSoup(html, 'lxml')\n"
   ]
  },
  {
   "cell_type": "code",
   "execution_count": null,
   "id": "de5e3c2f",
   "metadata": {},
   "outputs": [],
   "source": [
    "links = [\n",
    "    h3.a['href']\n",
    "    for h3 in soup.find_all('h3', class_='entry-title')\n",
    "    if h3.a and h3.a.has_attr('href')\n",
    "]"
   ]
  },
  {
   "cell_type": "code",
   "execution_count": null,
   "id": "7237598a",
   "metadata": {},
   "outputs": [],
   "source": [
    "links"
   ]
  },
  {
   "cell_type": "code",
   "execution_count": null,
   "id": "93f372e1",
   "metadata": {},
   "outputs": [],
   "source": [
    "len(links)"
   ]
  },
  {
   "cell_type": "code",
   "execution_count": null,
   "id": "840dd181",
   "metadata": {},
   "outputs": [],
   "source": [
    "driver.quit()"
   ]
  },
  {
   "cell_type": "code",
   "execution_count": null,
   "id": "35c58af9",
   "metadata": {},
   "outputs": [],
   "source": [
    "import json\n",
    "with open(\"links.json\",\"w\") as f:\n",
    "    json.dump(links,f)"
   ]
  },
  {
   "cell_type": "code",
   "execution_count": null,
   "id": "16eda6c0",
   "metadata": {},
   "outputs": [],
   "source": [
    "def get_name(link):\n",
    "    name_recipe=[]\n",
    "    webpage=requests.get(link).text\n",
    "    soup=BeautifulSoup(webpage,'lxml')\n",
    "    name_recipe.append(soup.find_all(\"h1\",class_=\"title fn\")[0].text)\n",
    "    return name_recipe\n"
   ]
  },
  {
   "cell_type": "code",
   "execution_count": null,
   "id": "3d11f952",
   "metadata": {},
   "outputs": [],
   "source": [
    "# Find the div with class 'ingredient_list'\n",
    "def get_ingredients(link):\n",
    "    webpage=requests.get(link).text\n",
    "    soup=BeautifulSoup(webpage,'lxml')\n",
    "    ingredient_section = soup.find('div', id='ingredients-list')\n",
    "    ingredient = [li.get_text(strip=True) for li in ingredient_section.find_all('li', class_='ingredient')]\n",
    "    return ingredient\n"
   ]
  },
  {
   "cell_type": "code",
   "execution_count": null,
   "id": "bce46b4d",
   "metadata": {},
   "outputs": [],
   "source": [
    "def get_nutrients(link):\n",
    "        webpage=requests.get(link).text\n",
    "        soup=BeautifulSoup(webpage,'lxml')\n",
    "        nutritients={}\n",
    "        nutritional_section=soup.find('div',class_=\"nutritional\")\n",
    "        for li in nutritional_section.find_all('li'):\n",
    "                # Extract nutrient name and value (grams)\n",
    "                nutrient_name = li.find('span', class_='big-nut').text\n",
    "                nutrient_value = li.get_text(strip=True).replace(nutrient_name, '').strip()  # Remove the nutrient name to get the value\n",
    "        \n",
    "                # Add the nutrient and its value to the dictionary\n",
    "                nutritients[nutrient_name] = nutrient_value\n",
    "        return nutritients"
   ]
  },
  {
   "cell_type": "code",
   "execution_count": null,
   "id": "765efb55",
   "metadata": {},
   "outputs": [],
   "source": [
    "def get_instruction(link):\n",
    "    webpage=requests.get(link).text\n",
    "    soup=BeautifulSoup(webpage,'lxml')\n",
    "    instructions_section = soup.find('div', id='fld_instructions_and_steps')\n",
    "    instruction = []\n",
    "    for step in instructions_section.find_all('p'):\n",
    "        instruction.append(step.get_text(strip=True))\n",
    "    return instruction"
   ]
  },
  {
   "cell_type": "code",
   "execution_count": null,
   "id": "39ccb5a5",
   "metadata": {},
   "outputs": [],
   "source": [
    "def get_time(link):\n",
    "    webpage=requests.get(link).text\n",
    "    soup=BeautifulSoup(webpage,'lxml')\n",
    "    time_tag = soup.find('div', class_='cooking_time_text')\n",
    "    if time_tag:\n",
    "        time_to_make = time_tag.get_text(strip=True).replace(\"Time to make:\", \"\").strip()\n",
    "    return time_to_make\n"
   ]
  },
  {
   "cell_type": "code",
   "execution_count": null,
   "id": "025b1106",
   "metadata": {},
   "outputs": [],
   "source": [
    "def servesize(link):\n",
    "    webpage = requests.get(link).text\n",
    "    soup = BeautifulSoup(webpage, 'lxml')\n",
    "    serves = soup.find('span', class_='serves')\n",
    "    if serves:\n",
    "        serve_size = serves.get_text(strip=True).replace(\"Serves:\", \"\").strip()\n",
    "    else:\n",
    "        serve_size=\"null\"\n",
    "    return serve_size\n"
   ]
  },
  {
   "cell_type": "code",
   "execution_count": null,
   "id": "9789325f",
   "metadata": {},
   "outputs": [],
   "source": [
    "def gettags(link):\n",
    "    webpage=requests.get(link).text\n",
    "    soup=BeautifulSoup(webpage,'lxml')\n",
    "    health_tags = []\n",
    "    health_info_div = soup.find('div', class_='inner health-info')\n",
    "    if health_info_div:\n",
    "        for a in health_info_div.find_all('a', class_='recipe_circle'):\n",
    "            title = a.get('title')\n",
    "            if title and \"Click for more\" in title:\n",
    "                tag = title.replace(\"Click for more\", \"\").replace(\"recipes\", \"\").strip()\n",
    "                health_tags.append(tag)\n",
    "    return health_tags \n",
    "\n"
   ]
  },
  {
   "cell_type": "code",
   "execution_count": null,
   "id": "3d6cd656",
   "metadata": {},
   "outputs": [],
   "source": [
    "len(links)"
   ]
  },
  {
   "cell_type": "code",
   "execution_count": null,
   "id": "a02a3795",
   "metadata": {},
   "outputs": [],
   "source": [
    "name=[]\n",
    "tags=[]\n",
    "ingredients=[]\n",
    "serving_size=[]\n",
    "make_time=[]\n",
    "nutrition=[]\n",
    "instructions=[]  "
   ]
  },
  {
   "cell_type": "code",
   "execution_count": null,
   "id": "43bafc20",
   "metadata": {},
   "outputs": [],
   "source": [
    "for link in links:\n",
    "    name.append(get_name(link))\n",
    "    tags.append(gettags(link))\n",
    "    ingredients.append(get_ingredients(link))\n",
    "    serving_size.append(servesize(link))\n",
    "    make_time.append(get_time(link))\n",
    "    nutrition.append(get_nutrients(link))\n",
    "    instructions.append(get_instruction(link))"
   ]
  },
  {
   "cell_type": "code",
   "execution_count": null,
   "id": "33d76cf8",
   "metadata": {},
   "outputs": [],
   "source": [
    "recipes={\n",
    "    \"name\":name,\n",
    "    \"tags\":tags,\n",
    "    \"ingredients\":ingredients,\n",
    "    \"serving_size\":serving_size,\n",
    "    \"make_time\":make_time,\n",
    "    \"nutrition\":nutrition,\n",
    "    \"instructions\":instructions\n",
    "}"
   ]
  },
  {
   "cell_type": "code",
   "execution_count": null,
   "id": "e8a60e56",
   "metadata": {},
   "outputs": [],
   "source": [
    "df=pd.DataFrame(recipes)"
   ]
  },
  {
   "cell_type": "code",
   "execution_count": null,
   "id": "b446f30c",
   "metadata": {},
   "outputs": [],
   "source": [
    "df.head()"
   ]
  },
  {
   "cell_type": "code",
   "execution_count": null,
   "id": "37bfefea",
   "metadata": {},
   "outputs": [],
   "source": [
    "df.to_csv('recipes.csv',index=False)"
   ]
  },
  {
   "cell_type": "code",
   "execution_count": null,
   "id": "73436d8e",
   "metadata": {},
   "outputs": [],
   "source": [
    "df.info()"
   ]
  },
  {
   "cell_type": "code",
   "execution_count": null,
   "id": "f1b1926f",
   "metadata": {},
   "outputs": [],
   "source": []
  }
 ],
 "metadata": {
  "kernelspec": {
   "display_name": "Python 3",
   "language": "python",
   "name": "python3"
  },
  "language_info": {
   "codemirror_mode": {
    "name": "ipython",
    "version": 3
   },
   "file_extension": ".py",
   "mimetype": "text/x-python",
   "name": "python",
   "nbconvert_exporter": "python",
   "pygments_lexer": "ipython3",
   "version": "3.13.2"
  }
 },
 "nbformat": 4,
 "nbformat_minor": 5
}
