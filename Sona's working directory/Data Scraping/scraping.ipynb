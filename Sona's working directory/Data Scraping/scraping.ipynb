{
 "cells": [
  {
   "cell_type": "markdown",
   "id": "90235827",
   "metadata": {},
   "source": [
    "### Using beautiful soup to scrape \n",
    "- Recipe name\n",
    "- Ingredients list\n",
    "- Cooking time\n",
    "- Instructions\n",
    "- Nutrient info \n",
    "- Tags (e.g., vegan, keto, veg/non veg)"
   ]
  },
  {
   "cell_type": "markdown",
   "id": "1b976236",
   "metadata": {},
   "source": [
    "- The website we're currently using is https://www.bbcgoodfood.com/recipes/collection/healthy-indian-recipes\n",
    "It has nutient breakdown also available \n"
   ]
  },
  {
   "cell_type": "code",
   "execution_count": null,
   "id": "2b4aea7f",
   "metadata": {},
   "outputs": [],
   "source": []
  },
  {
   "cell_type": "markdown",
   "id": "af326306",
   "metadata": {},
   "source": [
    "#### Import dependencies"
   ]
  },
  {
   "cell_type": "code",
   "execution_count": null,
   "id": "933e5ed4",
   "metadata": {},
   "outputs": [],
   "source": [
    "# pip install pandas\n",
    "# pip install requests\n",
    "# pip install beautifulsoup4\n",
    "# pip install lxml"
   ]
  },
  {
   "cell_type": "code",
   "execution_count": 1,
   "id": "307f4646",
   "metadata": {},
   "outputs": [],
   "source": [
    "import pandas as pd\n",
    "import requests \n",
    "from bs4 import BeautifulSoup"
   ]
  },
  {
   "cell_type": "markdown",
   "id": "53ca5377",
   "metadata": {},
   "source": [
    "#### Fetching the page"
   ]
  },
  {
   "cell_type": "code",
   "execution_count": 36,
   "id": "abda6fb5",
   "metadata": {},
   "outputs": [],
   "source": [
    "webpage = requests.get(\"https://www.bbcgoodfood.com/recipes/collection/healthy-indian-recipes\").text"
   ]
  },
  {
   "cell_type": "code",
   "execution_count": 37,
   "id": "f96cb0f3",
   "metadata": {},
   "outputs": [],
   "source": [
    "# parsing \n",
    "soup = BeautifulSoup(webpage, 'lxml')  #lxml for html parsing"
   ]
  },
  {
   "cell_type": "code",
   "execution_count": null,
   "id": "ae77788b",
   "metadata": {},
   "outputs": [
    {
     "data": {
      "text/plain": [
       "'Kitchari'"
      ]
     },
     "execution_count": 39,
     "metadata": {},
     "output_type": "execute_result"
    }
   ],
   "source": [
    "soup.find_all('h2')[0].text  # hence, here we have the name"
   ]
  },
  {
   "cell_type": "code",
   "execution_count": 40,
   "id": "bda949b8",
   "metadata": {},
   "outputs": [],
   "source": [
    "names = []\n",
    "for i in soup.find_all('h2'):\n",
    "    names.append(i.text)"
   ]
  },
  {
   "cell_type": "code",
   "execution_count": null,
   "id": "c712dbec",
   "metadata": {},
   "outputs": [
    {
     "data": {
      "text/plain": [
       "24"
      ]
     },
     "execution_count": 180,
     "metadata": {},
     "output_type": "execute_result"
    }
   ],
   "source": [
    "len(names) # total recipies available at the fist page"
   ]
  },
  {
   "cell_type": "markdown",
   "id": "03ec093d",
   "metadata": {},
   "source": [
    "- to get the links of all the recipies\n",
    "- they are stored in a tags of class \"link d block\""
   ]
  },
  {
   "cell_type": "code",
   "execution_count": 51,
   "id": "898f50e5",
   "metadata": {},
   "outputs": [
    {
     "data": {
      "text/plain": [
       "<a class=\"link d-block\" data-component=\"Link\" href=\"https://www.bbcgoodfood.com/recipes/kitchari\"><h2 class=\"heading-4\" style=\"color:inherit\">Kitchari</h2></a>"
      ]
     },
     "execution_count": 51,
     "metadata": {},
     "output_type": "execute_result"
    }
   ],
   "source": [
    "soup.find_all('a',class_= \"link d-block\")"
   ]
  },
  {
   "cell_type": "code",
   "execution_count": 57,
   "id": "0b629fff",
   "metadata": {},
   "outputs": [],
   "source": [
    "links = []\n",
    "for i in soup.find_all('a',class_= \"link d-block\"):\n",
    "    links.append(i.get(\"href\"))"
   ]
  },
  {
   "cell_type": "code",
   "execution_count": null,
   "id": "c4e0eb47",
   "metadata": {},
   "outputs": [],
   "source": [
    "# now, from every link, we will be getting our information, let's start form the first link\n",
    "# store- name, serving size, cooking time, tags, ingredients, nutrition, instructions"
   ]
  },
  {
   "cell_type": "markdown",
   "id": "2e7fd636",
   "metadata": {},
   "source": [
    "### For the first webpage"
   ]
  },
  {
   "cell_type": "code",
   "execution_count": 62,
   "id": "c1c44773",
   "metadata": {},
   "outputs": [],
   "source": [
    "webpage = requests.get(\"https://www.bbcgoodfood.com/recipes/kitchari\").text"
   ]
  },
  {
   "cell_type": "code",
   "execution_count": 63,
   "id": "9a762c93",
   "metadata": {},
   "outputs": [],
   "source": [
    "soup = BeautifulSoup(webpage, 'lxml')"
   ]
  },
  {
   "cell_type": "code",
   "execution_count": 67,
   "id": "3abce6a8",
   "metadata": {},
   "outputs": [
    {
     "data": {
      "text/plain": [
       "'Kitchari'"
      ]
     },
     "execution_count": 67,
     "metadata": {},
     "output_type": "execute_result"
    }
   ],
   "source": [
    "soup.find_all('h1')[0].text"
   ]
  },
  {
   "cell_type": "code",
   "execution_count": 69,
   "id": "4a0248d9",
   "metadata": {},
   "outputs": [
    {
     "data": {
      "text/plain": [
       "'Serves 4'"
      ]
     },
     "execution_count": 69,
     "metadata": {},
     "output_type": "execute_result"
    }
   ],
   "source": [
    "# serving size\n",
    "soup.find_all('div', class_=\"recipe-cook-and-prep-details__item\")[0].text"
   ]
  },
  {
   "cell_type": "code",
   "execution_count": 226,
   "id": "c634a981",
   "metadata": {},
   "outputs": [
    {
     "data": {
      "text/plain": [
       "[<div class=\"recipe-cook-and-prep-details__item\"><strong>Serves 4</strong></div>,\n",
       " <div class=\"recipe-cook-and-prep-details__item\"><strong>Easy</strong></div>,\n",
       " <div class=\"recipe-cook-and-prep-details__item\">Prep:<!-- --> <strong><span><time datetime=\"PT0H10M\">10 mins</time></span></strong></div>,\n",
       " <div class=\"recipe-cook-and-prep-details__item\">Cook:<!-- --> <strong><span><time datetime=\"PT1H0M\">1 hr</time></span></strong></div>]"
      ]
     },
     "execution_count": 226,
     "metadata": {},
     "output_type": "execute_result"
    }
   ],
   "source": [
    "# cooking time \n",
    "soup.find_all('div', class_=\"recipe-cook-and-prep-details__item\")"
   ]
  },
  {
   "cell_type": "code",
   "execution_count": 233,
   "id": "763f17e7",
   "metadata": {},
   "outputs": [
    {
     "name": "stdout",
     "output_type": "stream",
     "text": [
      "serves 4\n",
      "easy\n",
      "prep:10 mins\n",
      "cook:1 hr\n"
     ]
    }
   ],
   "source": [
    "# Find all detail items\n",
    "cook_prep_items = soup.find_all('div', class_=\"recipe-cook-and-prep-details__item\")\n",
    "\n",
    "# Initialize variables\n",
    "serving_size = None\n",
    "cook_time = None\n",
    "\n",
    "# Loop through items and extract based on content\n",
    "for item in cook_prep_items:\n",
    "    text = item.get_text(strip=True).lower()\n",
    "    print(text)\n",
    "    if 'serves' in text:\n",
    "        serving_size = text\n",
    "    elif 'cook' in text and item.find('time'):\n",
    "        cook_time = item.find('time').text.strip()"
   ]
  },
  {
   "cell_type": "code",
   "execution_count": 232,
   "id": "455fc894",
   "metadata": {},
   "outputs": [
    {
     "name": "stdout",
     "output_type": "stream",
     "text": [
      "1 hr\n"
     ]
    }
   ],
   "source": [
    "print(cook_time)"
   ]
  },
  {
   "cell_type": "code",
   "execution_count": 79,
   "id": "c70b34df",
   "metadata": {},
   "outputs": [],
   "source": [
    "# tags \n",
    "soup_tags = soup.find_all('div', class_ = \"post-header--masthead__tags-item\")"
   ]
  },
  {
   "cell_type": "code",
   "execution_count": 80,
   "id": "a825816f",
   "metadata": {},
   "outputs": [],
   "source": [
    "tags = [tag.text for tag in soup_tags]"
   ]
  },
  {
   "cell_type": "code",
   "execution_count": 147,
   "id": "27ca10e4",
   "metadata": {},
   "outputs": [
    {
     "data": {
      "text/plain": [
       "['Gluten-free', 'Healthy', 'Low calorie', 'Low fat', 'Vegetarian']"
      ]
     },
     "execution_count": 147,
     "metadata": {},
     "output_type": "execute_result"
    }
   ],
   "source": [
    "tags"
   ]
  },
  {
   "cell_type": "code",
   "execution_count": 85,
   "id": "737670cc",
   "metadata": {},
   "outputs": [
    {
     "data": {
      "text/plain": [
       "'1 tbsp ghee'"
      ]
     },
     "execution_count": 85,
     "metadata": {},
     "output_type": "execute_result"
    }
   ],
   "source": [
    "# ingredients\n",
    "soup.find_all(\"li\", class_ = \"ingredients-list__item list-item\")[0].text"
   ]
  },
  {
   "cell_type": "code",
   "execution_count": 97,
   "id": "ad7d391e",
   "metadata": {},
   "outputs": [
    {
     "name": "stdout",
     "output_type": "stream",
     "text": [
      "<ul class=\"ingredients-list list\">\n",
      " <li class=\"ingredients-list__item list-item\">\n",
      "  1 tbsp\n",
      "  <a class=\"link link--styled\" data-component=\"Link\" href=\"/glossary/ghee-glossary\">\n",
      "   ghee\n",
      "  </a>\n",
      " </li>\n",
      " <li class=\"ingredients-list__item list-item list-item--separator-top\">\n",
      "  1\n",
      "  <a class=\"link link--styled\" data-component=\"Link\" href=\"/glossary/cauliflower-glossary\">\n",
      "   small cauliflower\n",
      "  </a>\n",
      "  <div class=\"ingredients-list__item-note\">\n",
      "   stalks and florets finely chopped\n",
      "  </div>\n",
      " </li>\n",
      " <li class=\"ingredients-list__item list-item list-item--separator-top\">\n",
      "  2\n",
      "  <a class=\"link link--styled\" data-component=\"Link\" href=\"/glossary/carrots-glossary\">\n",
      "   carrots\n",
      "  </a>\n",
      "  <div class=\"ingredients-list__item-note\">\n",
      "   finely chopped\n",
      "  </div>\n",
      " </li>\n",
      " <li class=\"ingredients-list__item list-item list-item--separator-top\">\n",
      "  15g\n",
      "  <a class=\"link link--styled\" data-component=\"Link\" href=\"/glossary/ginger-glossary\">\n",
      "   piece of ginger\n",
      "  </a>\n",
      "  <div class=\"ingredients-list__item-note\">\n",
      "   peeled and grated\n",
      "  </div>\n",
      " </li>\n",
      " <li class=\"ingredients-list__item list-item list-item--separator-top\">\n",
      "  1 tsp\n",
      "  <a class=\"link link--styled\" data-component=\"Link\" href=\"/glossary/cumin-glossary\">\n",
      "   ground cumin\n",
      "  </a>\n",
      " </li>\n",
      " <li class=\"ingredients-list__item list-item list-item--separator-top\">\n",
      "  ½ tsp\n",
      "  <a class=\"link link--styled\" data-component=\"Link\" href=\"/glossary/mustard-glossary\">\n",
      "   black mustard seeds\n",
      "  </a>\n",
      " </li>\n",
      " <li class=\"ingredients-list__item list-item list-item--separator-top\">\n",
      "  ½ tsp\n",
      "  <a class=\"link link--styled\" data-component=\"Link\" href=\"/glossary/fennel-seeds-glossary\">\n",
      "   fennel seeds\n",
      "  </a>\n",
      " </li>\n",
      " <li class=\"ingredients-list__item list-item list-item--separator-top\">\n",
      "  ½ tsp\n",
      "  <!-- -->\n",
      "  ground coriander\n",
      " </li>\n",
      " <li class=\"ingredients-list__item list-item list-item--separator-top\">\n",
      "  ½ tsp\n",
      "  <a class=\"link link--styled\" data-component=\"Link\" href=\"/glossary/turmeric-glossary\">\n",
      "   ground turmeric\n",
      "  </a>\n",
      " </li>\n",
      " <li class=\"ingredients-list__item list-item list-item--separator-top\">\n",
      "  150g\n",
      "  <!-- -->\n",
      "  moong dal\n",
      "  <div class=\"ingredients-list__item-note\">\n",
      "   rinsed and drained (available in specialist shops and large supermarkets)\n",
      "  </div>\n",
      " </li>\n",
      " <li class=\"ingredients-list__item list-item list-item--separator-top\">\n",
      "  100g\n",
      "  <a class=\"link link--styled\" data-component=\"Link\" href=\"/glossary/rice-glossary\">\n",
      "   basmati rice\n",
      "  </a>\n",
      "  <div class=\"ingredients-list__item-note\">\n",
      "   rinsed and drained\n",
      "  </div>\n",
      " </li>\n",
      " <li class=\"ingredients-list__item list-item list-item--separator-top\">\n",
      "  small handful of coriander\n",
      "  <div class=\"ingredients-list__item-note\">\n",
      "   finely chopped\n",
      "  </div>\n",
      " </li>\n",
      " <li class=\"ingredients-list__item list-item list-item--separator-top\">\n",
      "  1\n",
      "  <a class=\"link link--styled\" data-component=\"Link\" href=\"/glossary/lime-glossary\">\n",
      "   lime\n",
      "  </a>\n",
      "  <div class=\"ingredients-list__item-note\">\n",
      "   cut into wedges\n",
      "  </div>\n",
      " </li>\n",
      "</ul>\n",
      "\n"
     ]
    }
   ],
   "source": [
    "ul = soup.find('ul',class_ = 'ingredients-list')\n",
    "print(ul.prettify())"
   ]
  },
  {
   "cell_type": "code",
   "execution_count": 94,
   "id": "971edfbf",
   "metadata": {},
   "outputs": [
    {
     "data": {
      "text/plain": [
       "[<li class=\"ingredients-list__item list-item\">1 tbsp <a class=\"link link--styled\" data-component=\"Link\" href=\"/glossary/ghee-glossary\">ghee</a></li>,\n",
       " <li class=\"ingredients-list__item list-item list-item--separator-top\">1 <a class=\"link link--styled\" data-component=\"Link\" href=\"/glossary/cauliflower-glossary\">small cauliflower</a><div class=\"ingredients-list__item-note\"> stalks and florets finely chopped</div></li>,\n",
       " <li class=\"ingredients-list__item list-item list-item--separator-top\">2 <a class=\"link link--styled\" data-component=\"Link\" href=\"/glossary/carrots-glossary\">carrots</a><div class=\"ingredients-list__item-note\"> finely chopped</div></li>,\n",
       " <li class=\"ingredients-list__item list-item list-item--separator-top\">15g <a class=\"link link--styled\" data-component=\"Link\" href=\"/glossary/ginger-glossary\">piece of ginger</a><div class=\"ingredients-list__item-note\"> peeled and grated</div></li>,\n",
       " <li class=\"ingredients-list__item list-item list-item--separator-top\">1 tsp <a class=\"link link--styled\" data-component=\"Link\" href=\"/glossary/cumin-glossary\">ground cumin</a></li>,\n",
       " <li class=\"ingredients-list__item list-item list-item--separator-top\">½ tsp <a class=\"link link--styled\" data-component=\"Link\" href=\"/glossary/mustard-glossary\">black mustard seeds</a></li>,\n",
       " <li class=\"ingredients-list__item list-item list-item--separator-top\">½ tsp <a class=\"link link--styled\" data-component=\"Link\" href=\"/glossary/fennel-seeds-glossary\">fennel seeds</a></li>,\n",
       " <li class=\"ingredients-list__item list-item list-item--separator-top\">½ tsp <!-- -->ground coriander</li>,\n",
       " <li class=\"ingredients-list__item list-item list-item--separator-top\">½ tsp <a class=\"link link--styled\" data-component=\"Link\" href=\"/glossary/turmeric-glossary\">ground turmeric</a></li>,\n",
       " <li class=\"ingredients-list__item list-item list-item--separator-top\">150g <!-- -->moong dal<div class=\"ingredients-list__item-note\"> rinsed and drained (available in specialist shops and large supermarkets)</div></li>,\n",
       " <li class=\"ingredients-list__item list-item list-item--separator-top\">100g <a class=\"link link--styled\" data-component=\"Link\" href=\"/glossary/rice-glossary\">basmati rice</a><div class=\"ingredients-list__item-note\"> rinsed and drained</div></li>,\n",
       " <li class=\"ingredients-list__item list-item list-item--separator-top\">small handful of coriander<div class=\"ingredients-list__item-note\"> finely chopped</div></li>,\n",
       " <li class=\"ingredients-list__item list-item list-item--separator-top\">1 <a class=\"link link--styled\" data-component=\"Link\" href=\"/glossary/lime-glossary\">lime</a><div class=\"ingredients-list__item-note\"> cut into wedges</div></li>]"
      ]
     },
     "execution_count": 94,
     "metadata": {},
     "output_type": "execute_result"
    }
   ],
   "source": [
    "ul.find_all('li')"
   ]
  },
  {
   "cell_type": "code",
   "execution_count": 98,
   "id": "e32962e1",
   "metadata": {},
   "outputs": [],
   "source": [
    "ingredients = [li.text for li in ul.find_all('li')]"
   ]
  },
  {
   "cell_type": "code",
   "execution_count": 99,
   "id": "628aa057",
   "metadata": {},
   "outputs": [
    {
     "data": {
      "text/plain": [
       "['1 tbsp ghee',\n",
       " '1 small cauliflower stalks and florets finely chopped',\n",
       " '2 carrots finely chopped',\n",
       " '15g piece of ginger peeled and grated',\n",
       " '1 tsp ground cumin',\n",
       " '½ tsp black mustard seeds',\n",
       " '½ tsp fennel seeds',\n",
       " '½ tsp ground coriander',\n",
       " '½ tsp ground turmeric',\n",
       " '150g moong dal rinsed and drained (available in specialist shops and large supermarkets)',\n",
       " '100g basmati rice rinsed and drained',\n",
       " 'small handful of coriander finely chopped',\n",
       " '1 lime cut into wedges']"
      ]
     },
     "execution_count": 99,
     "metadata": {},
     "output_type": "execute_result"
    }
   ],
   "source": [
    "ingredients"
   ]
  },
  {
   "cell_type": "code",
   "execution_count": 100,
   "id": "2527153f",
   "metadata": {},
   "outputs": [],
   "source": [
    "ul = soup.find('ul', class_ = \"nutrition-list\")"
   ]
  },
  {
   "cell_type": "code",
   "execution_count": 104,
   "id": "d4c843eb",
   "metadata": {},
   "outputs": [
    {
     "data": {
      "text/plain": [
       "[<li class=\"nutrition-list__item\"><span class=\"fw-600 mr-1\">kcal</span>271<div class=\"nutrition-list__additional-text\">low<div class=\"nutrition-list__additional-text-icon\"><i class=\"icon\" style=\"width:12px;min-width:12px;height:12px;min-height:12px;animation-duration:1000ms;transform:rotate(180deg)\"><svg aria-hidden=\"true\" class=\"icon__svg\" focusable=\"false\" style=\"color:rgba(255, 255, 255, 1);fill:rgba(255, 255, 255, 1)\"><use xlink:href=\"/static/icons/base/sprite-maps/arrows-71cd4ec91a6536f2abcc71183b8f0de8.svg#arrow-light\"></use></svg></i></div></div></li>,\n",
       " <li class=\"nutrition-list__item\"><span class=\"fw-600 mr-1\">fat</span>6<!-- -->g<div class=\"nutrition-list__additional-text\">low<div class=\"nutrition-list__additional-text-icon\"><i class=\"icon\" style=\"width:12px;min-width:12px;height:12px;min-height:12px;animation-duration:1000ms;transform:rotate(180deg)\"><svg aria-hidden=\"true\" class=\"icon__svg\" focusable=\"false\" style=\"color:rgba(255, 255, 255, 1);fill:rgba(255, 255, 255, 1)\"><use xlink:href=\"/static/icons/base/sprite-maps/arrows-71cd4ec91a6536f2abcc71183b8f0de8.svg#arrow-light\"></use></svg></i></div></div></li>,\n",
       " <li class=\"nutrition-list__item\"><span class=\"fw-600 mr-1\">saturates</span>3<!-- -->g</li>,\n",
       " <li class=\"nutrition-list__item\"><span class=\"fw-600 mr-1\">carbs</span>40<!-- -->g</li>,\n",
       " <li class=\"nutrition-list__item\"><span class=\"fw-600 mr-1\">sugars</span>4<!-- -->g</li>,\n",
       " <li class=\"nutrition-list__item\"><span class=\"fw-600 mr-1\">fibre</span>4<!-- -->g</li>,\n",
       " <li class=\"nutrition-list__item\"><span class=\"fw-600 mr-1\">protein</span>13<!-- -->g</li>,\n",
       " <li class=\"nutrition-list__item\"><span class=\"fw-600 mr-1\">salt</span>0.1<!-- -->g</li>]"
      ]
     },
     "execution_count": 104,
     "metadata": {},
     "output_type": "execute_result"
    }
   ],
   "source": [
    "ul.find_all('li')"
   ]
  },
  {
   "cell_type": "code",
   "execution_count": 116,
   "id": "b46f0ee4",
   "metadata": {},
   "outputs": [],
   "source": [
    "nutrition = {}\n",
    "\n",
    "for li in ul.find_all('li'):\n",
    "    label = li.find('span').text\n",
    "    quantity =  li.contents[1]\n",
    "    nutrition[label]=f\"{quantity} g\""
   ]
  },
  {
   "cell_type": "code",
   "execution_count": 117,
   "id": "c3489ca9",
   "metadata": {},
   "outputs": [
    {
     "data": {
      "text/plain": [
       "{'kcal': '271 g',\n",
       " 'fat': '6 g',\n",
       " 'saturates': '3 g',\n",
       " 'carbs': '40 g',\n",
       " 'sugars': '4 g',\n",
       " 'fibre': '4 g',\n",
       " 'protein': '13 g',\n",
       " 'salt': '0.1 g'}"
      ]
     },
     "execution_count": 117,
     "metadata": {},
     "output_type": "execute_result"
    }
   ],
   "source": [
    "nutrition # add grams"
   ]
  },
  {
   "cell_type": "code",
   "execution_count": 123,
   "id": "b2fc171d",
   "metadata": {},
   "outputs": [],
   "source": [
    "# instructions\n",
    "uls = soup.find('ul', class_ = \"method-steps__list\")"
   ]
  },
  {
   "cell_type": "code",
   "execution_count": 139,
   "id": "0215c0c6",
   "metadata": {},
   "outputs": [],
   "source": [
    "instructions=[]\n",
    "for li in uls.find_all('li', class_=\"method-steps__list-item\"):\n",
    "    step_no = li.find(\"h3\", class_=\"method-steps__item-heading heading-5\").text # step o is stored in the h3 tag\n",
    "    step_content = li.find('p').text\n",
    "    instructions.append(step_no)\n",
    "    instructions.append(step_content)"
   ]
  },
  {
   "cell_type": "code",
   "execution_count": 140,
   "id": "d5f8649f",
   "metadata": {},
   "outputs": [
    {
     "data": {
      "text/plain": [
       "['step 1',\n",
       " 'Melt the ghee in a large flameproof casserole or saucepan over a medium heat. Stir in all the cauliflower and carrots, and season lightly. Fry gently for 10 mins until the vegetables have softened and taken on a bit of colour.',\n",
       " 'step 2',\n",
       " 'Tip in all the spices and fry for a further 2 mins until fragrant. Pour in the moong dal and rice, and stir to coat in the spices. Season with salt and pour in 1.25 litres water. Bring to a simmer and cook for 45 mins, stirring occasionally until the beans and rice are fully tender and have broken down. The texture should be porridge-like. Season to taste and sprinkle over the coriander. Serve with the lime wedges on the side for squeezing over.']"
      ]
     },
     "execution_count": 140,
     "metadata": {},
     "output_type": "execute_result"
    }
   ],
   "source": [
    "instructions"
   ]
  },
  {
   "cell_type": "markdown",
   "id": "ae89295f",
   "metadata": {},
   "source": [
    "### now, let's create functions to get data similarly from all the pages"
   ]
  },
  {
   "cell_type": "code",
   "execution_count": 237,
   "id": "f33b3270",
   "metadata": {},
   "outputs": [],
   "source": [
    "def get_data(link):\n",
    "    # requesting webpage\n",
    "    webpage = requests.get(link).text\n",
    "    soup = BeautifulSoup(webpage, 'lxml')\n",
    "    name = soup.find('h1').text\n",
    "\n",
    "    # serving size and cooking time\n",
    "    cook_prep_items = soup.find_all('div', class_=\"recipe-cook-and-prep-details__item\")\n",
    "\n",
    "    # Initialize variables\n",
    "    serving_size = None\n",
    "    cook_time = None\n",
    "\n",
    "    # Loop through items and extract based on content\n",
    "    for item in cook_prep_items:\n",
    "        text = item.get_text(strip=True).lower()\n",
    "        if 'serves' in text:\n",
    "            serving_size = text\n",
    "        elif 'cook' in text and item.find('time'):\n",
    "            cook_time = item.find('time').text.strip()\n",
    "\n",
    "    #tags\n",
    "    soup_tags = soup.find_all('div', class_ = \"post-header--masthead__tags-item\")\n",
    "    tags = [tag.text for tag in soup_tags]\n",
    "\n",
    "    #ingredients\n",
    "    ul_ingredients = soup.find('ul',class_ = 'ingredients-list')\n",
    "    ingredients = [li.text for li in ul_ingredients.find_all('li')]\n",
    "\n",
    "    #nutrition\n",
    "    ul_nutr = soup.find('ul', class_ = \"nutrition-list\")\n",
    "    nutrition = {}\n",
    "    for li in ul_nutr.find_all('li'):\n",
    "        label = li.find('span').text\n",
    "        quantity =  li.contents[1]\n",
    "        nutrition[label]=f\"{quantity} g\"\n",
    "\n",
    "    # instructions\n",
    "    uls = soup.find('ul', class_ = \"method-steps__list\")\n",
    "    instructions=[]\n",
    "    for li in uls.find_all('li', class_=\"method-steps__list-item\"):\n",
    "        step_no = li.find(\"h3\", class_=\"method-steps__item-heading heading-5\").text # step o is stored in the h3 tag\n",
    "        step_content = li.find('p').text\n",
    "        instructions.append(step_no)\n",
    "        instructions.append(step_content)\n",
    "\n",
    "    return {\"name\":name, \"tags\":tags, \"ingredients\":ingredients,\"serving_size\":serving_size,\"cook_time\":cook_time, \"nutrition\":nutrition, \"instructions\":instructions}\n",
    "    "
   ]
  },
  {
   "cell_type": "code",
   "execution_count": 254,
   "id": "16eebe74",
   "metadata": {},
   "outputs": [],
   "source": [
    "recipes_pg1 = [get_data(href) for href in links[:-3]]"
   ]
  },
  {
   "cell_type": "code",
   "execution_count": 255,
   "id": "77d9853e",
   "metadata": {},
   "outputs": [],
   "source": [
    "# function for getting all the available recipes\n",
    "def get_recipe_links(main_page_addr):\n",
    "    webpage = requests.get(main_page_addr).text\n",
    "    soup = BeautifulSoup(webpage, 'lxml')\n",
    "    links = [i.get(\"href\") for i in soup.find_all('a',class_= \"link d-block\")]\n",
    "    return links"
   ]
  },
  {
   "cell_type": "markdown",
   "id": "11ca3708",
   "metadata": {},
   "source": [
    "### Next page"
   ]
  },
  {
   "cell_type": "code",
   "execution_count": 246,
   "id": "bcc368e3",
   "metadata": {},
   "outputs": [],
   "source": [
    "links = get_recipe_links(\"https://www.bbcgoodfood.com/recipes/collection/healthy-indian-recipes?page=2\")"
   ]
  },
  {
   "cell_type": "code",
   "execution_count": 256,
   "id": "3eea0540",
   "metadata": {},
   "outputs": [],
   "source": [
    "recipes_pg2 = [get_data(href) for href in links[:-3]]"
   ]
  },
  {
   "cell_type": "markdown",
   "id": "40e6ff33",
   "metadata": {},
   "source": [
    "### Final Page"
   ]
  },
  {
   "cell_type": "code",
   "execution_count": 258,
   "id": "72366503",
   "metadata": {},
   "outputs": [],
   "source": [
    "links = get_recipe_links(\"https://www.bbcgoodfood.com/recipes/collection/healthy-indian-recipes?page=3\")"
   ]
  },
  {
   "cell_type": "code",
   "execution_count": 260,
   "id": "2a93f09a",
   "metadata": {},
   "outputs": [],
   "source": [
    "recipes_pg3 = [get_data(href) for href in links[:-3]]"
   ]
  },
  {
   "cell_type": "code",
   "execution_count": 261,
   "id": "121633c4",
   "metadata": {},
   "outputs": [],
   "source": [
    "recipes = recipes_pg1 + recipes_pg2 + recipes_pg3"
   ]
  },
  {
   "cell_type": "code",
   "execution_count": 262,
   "id": "365cfed3",
   "metadata": {},
   "outputs": [
    {
     "data": {
      "text/plain": [
       "52"
      ]
     },
     "execution_count": 262,
     "metadata": {},
     "output_type": "execute_result"
    }
   ],
   "source": [
    "len(recipes)"
   ]
  },
  {
   "cell_type": "code",
   "execution_count": 263,
   "id": "5e1f2196",
   "metadata": {},
   "outputs": [],
   "source": [
    "df = pd.DataFrame(recipes)"
   ]
  },
  {
   "cell_type": "code",
   "execution_count": 265,
   "id": "7d045351",
   "metadata": {},
   "outputs": [
    {
     "data": {
      "text/html": [
       "<div>\n",
       "<style scoped>\n",
       "    .dataframe tbody tr th:only-of-type {\n",
       "        vertical-align: middle;\n",
       "    }\n",
       "\n",
       "    .dataframe tbody tr th {\n",
       "        vertical-align: top;\n",
       "    }\n",
       "\n",
       "    .dataframe thead th {\n",
       "        text-align: right;\n",
       "    }\n",
       "</style>\n",
       "<table border=\"1\" class=\"dataframe\">\n",
       "  <thead>\n",
       "    <tr style=\"text-align: right;\">\n",
       "      <th></th>\n",
       "      <th>name</th>\n",
       "      <th>tags</th>\n",
       "      <th>ingredients</th>\n",
       "      <th>serving_size</th>\n",
       "      <th>cook_time</th>\n",
       "      <th>nutrition</th>\n",
       "      <th>instructions</th>\n",
       "    </tr>\n",
       "  </thead>\n",
       "  <tbody>\n",
       "    <tr>\n",
       "      <th>0</th>\n",
       "      <td>Chicken madras</td>\n",
       "      <td>[Dairy-free, Egg-free, Gluten-free, Healthy, L...</td>\n",
       "      <td>[1 onion peeled and quartered, 2 garlic cloves...</td>\n",
       "      <td>serves 3 - 4</td>\n",
       "      <td>35 mins</td>\n",
       "      <td>{'kcal': '373 g', 'fat': '17 g', 'saturates': ...</td>\n",
       "      <td>[step 1, Blitz 1 quartered onion, 2 garlic clo...</td>\n",
       "    </tr>\n",
       "    <tr>\n",
       "      <th>1</th>\n",
       "      <td>Pani puris</td>\n",
       "      <td>[Healthy, Vegan, Vegetarian]</td>\n",
       "      <td>[150g chakki atta (chapatti flour), 30g fine s...</td>\n",
       "      <td>serves 4 - 6</td>\n",
       "      <td>40 mins</td>\n",
       "      <td>{'kcal': '385 g', 'fat': '20 g', 'saturates': ...</td>\n",
       "      <td>[step 1, Make the pani water. Place the corian...</td>\n",
       "    </tr>\n",
       "    <tr>\n",
       "      <th>2</th>\n",
       "      <td>Easy veggie biryani</td>\n",
       "      <td>[Healthy, Vegetarian]</td>\n",
       "      <td>[250g basmati rice, 400g special mixed frozen ...</td>\n",
       "      <td>serves 4</td>\n",
       "      <td>None</td>\n",
       "      <td>{'kcal': '305 g', 'fat': '6 g', 'saturates': '...</td>\n",
       "      <td>[step 1, Boil the kettle. Get out a large micr...</td>\n",
       "    </tr>\n",
       "    <tr>\n",
       "      <th>3</th>\n",
       "      <td>Onion &amp; butternut bhajis with rotis, mango rai...</td>\n",
       "      <td>[Freezable (Freeze cooked bhajis only), Healthy]</td>\n",
       "      <td>[10 rotis sprinkled with water, wrapped in bak...</td>\n",
       "      <td>None</td>\n",
       "      <td>25 mins</td>\n",
       "      <td>{'kcal': '328 g', 'fat': '11 g', 'saturates': ...</td>\n",
       "      <td>[step 1, For the bhajis, mix the korma paste w...</td>\n",
       "    </tr>\n",
       "    <tr>\n",
       "      <th>4</th>\n",
       "      <td>Prawn jalfrezi</td>\n",
       "      <td>[Freezable, Gluten-free, Healthy]</td>\n",
       "      <td>[2 tsp rapeseed oil, 2 medium onions chopped, ...</td>\n",
       "      <td>serves 2</td>\n",
       "      <td>22 mins</td>\n",
       "      <td>{'kcal': '335 g', 'fat': '7 g', 'saturates': '...</td>\n",
       "      <td>[step 1, Heat the oil in a non-stick pan and f...</td>\n",
       "    </tr>\n",
       "  </tbody>\n",
       "</table>\n",
       "</div>"
      ],
      "text/plain": [
       "                                                name  \\\n",
       "0                                     Chicken madras   \n",
       "1                                         Pani puris   \n",
       "2                                Easy veggie biryani   \n",
       "3  Onion & butternut bhajis with rotis, mango rai...   \n",
       "4                                     Prawn jalfrezi   \n",
       "\n",
       "                                                tags  \\\n",
       "0  [Dairy-free, Egg-free, Gluten-free, Healthy, L...   \n",
       "1                       [Healthy, Vegan, Vegetarian]   \n",
       "2                              [Healthy, Vegetarian]   \n",
       "3   [Freezable (Freeze cooked bhajis only), Healthy]   \n",
       "4                  [Freezable, Gluten-free, Healthy]   \n",
       "\n",
       "                                         ingredients  serving_size cook_time  \\\n",
       "0  [1 onion peeled and quartered, 2 garlic cloves...  serves 3 - 4   35 mins   \n",
       "1  [150g chakki atta (chapatti flour), 30g fine s...  serves 4 - 6   40 mins   \n",
       "2  [250g basmati rice, 400g special mixed frozen ...      serves 4      None   \n",
       "3  [10 rotis sprinkled with water, wrapped in bak...          None   25 mins   \n",
       "4  [2 tsp rapeseed oil, 2 medium onions chopped, ...      serves 2   22 mins   \n",
       "\n",
       "                                           nutrition  \\\n",
       "0  {'kcal': '373 g', 'fat': '17 g', 'saturates': ...   \n",
       "1  {'kcal': '385 g', 'fat': '20 g', 'saturates': ...   \n",
       "2  {'kcal': '305 g', 'fat': '6 g', 'saturates': '...   \n",
       "3  {'kcal': '328 g', 'fat': '11 g', 'saturates': ...   \n",
       "4  {'kcal': '335 g', 'fat': '7 g', 'saturates': '...   \n",
       "\n",
       "                                        instructions  \n",
       "0  [step 1, Blitz 1 quartered onion, 2 garlic clo...  \n",
       "1  [step 1, Make the pani water. Place the corian...  \n",
       "2  [step 1, Boil the kettle. Get out a large micr...  \n",
       "3  [step 1, For the bhajis, mix the korma paste w...  \n",
       "4  [step 1, Heat the oil in a non-stick pan and f...  "
      ]
     },
     "execution_count": 265,
     "metadata": {},
     "output_type": "execute_result"
    }
   ],
   "source": [
    "df.head()"
   ]
  },
  {
   "cell_type": "code",
   "execution_count": 266,
   "id": "e881a874",
   "metadata": {},
   "outputs": [
    {
     "name": "stdout",
     "output_type": "stream",
     "text": [
      "<class 'pandas.core.frame.DataFrame'>\n",
      "RangeIndex: 52 entries, 0 to 51\n",
      "Data columns (total 7 columns):\n",
      " #   Column        Non-Null Count  Dtype \n",
      "---  ------        --------------  ----- \n",
      " 0   name          52 non-null     object\n",
      " 1   tags          52 non-null     object\n",
      " 2   ingredients   52 non-null     object\n",
      " 3   serving_size  50 non-null     object\n",
      " 4   cook_time     45 non-null     object\n",
      " 5   nutrition     52 non-null     object\n",
      " 6   instructions  52 non-null     object\n",
      "dtypes: object(7)\n",
      "memory usage: 3.0+ KB\n"
     ]
    }
   ],
   "source": [
    "df.info()"
   ]
  },
  {
   "cell_type": "code",
   "execution_count": 267,
   "id": "f4a9c6d1",
   "metadata": {},
   "outputs": [],
   "source": [
    "df.to_csv(\"recipies 1.csv\")"
   ]
  },
  {
   "cell_type": "code",
   "execution_count": null,
   "id": "b9c6dbf4",
   "metadata": {},
   "outputs": [],
   "source": []
  }
 ],
 "metadata": {
  "kernelspec": {
   "display_name": "Python 3",
   "language": "python",
   "name": "python3"
  },
  "language_info": {
   "codemirror_mode": {
    "name": "ipython",
    "version": 3
   },
   "file_extension": ".py",
   "mimetype": "text/x-python",
   "name": "python",
   "nbconvert_exporter": "python",
   "pygments_lexer": "ipython3",
   "version": "3.13.2"
  }
 },
 "nbformat": 4,
 "nbformat_minor": 5
}
