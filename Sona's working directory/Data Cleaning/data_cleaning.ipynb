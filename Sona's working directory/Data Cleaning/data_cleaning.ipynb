{
 "cells": [
  {
   "cell_type": "markdown",
   "id": "a7687f87",
   "metadata": {},
   "source": [
    "### Data Cleaning"
   ]
  },
  {
   "cell_type": "markdown",
   "id": "074482bc",
   "metadata": {},
   "source": [
    "- Getting the scraped files and cleaning them for any inconsistencies \n",
    "- We'll be following through all the stages of data cleaning process, as follows "
   ]
  },
  {
   "cell_type": "markdown",
   "id": "642a117c",
   "metadata": {},
   "source": [
    "#### Pre-requisites"
   ]
  },
  {
   "cell_type": "code",
   "execution_count": 2,
   "id": "4f667bd7",
   "metadata": {},
   "outputs": [],
   "source": [
    "import warnings \n",
    "warnings.filterwarnings(action=\"ignore\")"
   ]
  },
  {
   "cell_type": "markdown",
   "id": "4c6f6c62",
   "metadata": {},
   "source": [
    "#### Import the dependencies"
   ]
  },
  {
   "cell_type": "code",
   "execution_count": 3,
   "id": "5f925dda",
   "metadata": {},
   "outputs": [],
   "source": [
    "import pandas as pd\n",
    "import numpy as np"
   ]
  },
  {
   "cell_type": "markdown",
   "id": "36e38a16",
   "metadata": {},
   "source": [
    "#### Load the data"
   ]
  },
  {
   "cell_type": "code",
   "execution_count": 6,
   "id": "6a0199a2",
   "metadata": {},
   "outputs": [],
   "source": [
    "df_bbc = pd.read_csv(\"../Data Scraping/recipies 1.csv\")\n",
    "df_tarladal_1 = pd.read_csv(\"../Data Scraping/indian_recipies_1.csv\")\n",
    "df_tarladal_2 = pd.read_csv(\"../Data Scraping/indian_recipies_2.csv\")\n",
    "df_healthyfood = pd.read_csv(\"../../Shahana's Working Directory/Data Cleaning/recipes_final.csv\")"
   ]
  },
  {
   "cell_type": "markdown",
   "id": "aeb11e0c",
   "metadata": {},
   "source": [
    "- We had three diffrerent sources of our data, lets clean the three datasets separately"
   ]
  },
  {
   "cell_type": "markdown",
   "id": "030575dc",
   "metadata": {},
   "source": [
    "##### Concat tarladal's data"
   ]
  },
  {
   "cell_type": "code",
   "execution_count": 8,
   "id": "73a45f20",
   "metadata": {},
   "outputs": [],
   "source": [
    "df_tarladal  = pd.concat([df_tarladal_1,df_tarladal_2], ignore_index=True)"
   ]
  },
  {
   "cell_type": "markdown",
   "id": "b060d642",
   "metadata": {},
   "source": [
    "#### Exploratory Data Analysis"
   ]
  },
  {
   "cell_type": "code",
   "execution_count": 9,
   "id": "51b5cd1f",
   "metadata": {},
   "outputs": [
    {
     "name": "stdout",
     "output_type": "stream",
     "text": [
      "<class 'pandas.core.frame.DataFrame'>\n",
      "RangeIndex: 2114 entries, 0 to 2113\n",
      "Data columns (total 9 columns):\n",
      " #   Column        Non-Null Count  Dtype \n",
      "---  ------        --------------  ----- \n",
      " 0   Unnamed: 0    2114 non-null   int64 \n",
      " 1   name          2114 non-null   object\n",
      " 2   tags          2114 non-null   object\n",
      " 3   ingredients   2114 non-null   object\n",
      " 4   serving_size  2114 non-null   object\n",
      " 5   cook_time     2114 non-null   object\n",
      " 6   nutrition     1997 non-null   object\n",
      " 7   instructions  2033 non-null   object\n",
      " 8   link          2114 non-null   object\n",
      "dtypes: int64(1), object(8)\n",
      "memory usage: 148.8+ KB\n"
     ]
    }
   ],
   "source": [
    "df_tarladal.info()"
   ]
  },
  {
   "cell_type": "markdown",
   "id": "96e9e402",
   "metadata": {},
   "source": [
    "- Without instructions the recipies are of no use, since there are only 81 such recipes, we drop them.\n",
    "- Let's keep the nutrition column for now, we'll try to calculate the nutrions based on ingredients later "
   ]
  },
  {
   "cell_type": "code",
   "execution_count": 10,
   "id": "8ee35c01",
   "metadata": {},
   "outputs": [],
   "source": [
    "df_dropped = df_tarladal.drop([\"Unnamed: 0\",\"link\"], axis=1).dropna()"
   ]
  },
  {
   "cell_type": "code",
   "execution_count": 11,
   "id": "e0367e2a",
   "metadata": {},
   "outputs": [
    {
     "name": "stdout",
     "output_type": "stream",
     "text": [
      "<class 'pandas.core.frame.DataFrame'>\n",
      "Index: 1917 entries, 0 to 2113\n",
      "Data columns (total 7 columns):\n",
      " #   Column        Non-Null Count  Dtype \n",
      "---  ------        --------------  ----- \n",
      " 0   name          1917 non-null   object\n",
      " 1   tags          1917 non-null   object\n",
      " 2   ingredients   1917 non-null   object\n",
      " 3   serving_size  1917 non-null   object\n",
      " 4   cook_time     1917 non-null   object\n",
      " 5   nutrition     1917 non-null   object\n",
      " 6   instructions  1917 non-null   object\n",
      "dtypes: object(7)\n",
      "memory usage: 119.8+ KB\n"
     ]
    }
   ],
   "source": [
    "df_dropped.info()"
   ]
  },
  {
   "cell_type": "code",
   "execution_count": 12,
   "id": "2fe90278",
   "metadata": {},
   "outputs": [
    {
     "data": {
      "text/html": [
       "<div>\n",
       "<style scoped>\n",
       "    .dataframe tbody tr th:only-of-type {\n",
       "        vertical-align: middle;\n",
       "    }\n",
       "\n",
       "    .dataframe tbody tr th {\n",
       "        vertical-align: top;\n",
       "    }\n",
       "\n",
       "    .dataframe thead th {\n",
       "        text-align: right;\n",
       "    }\n",
       "</style>\n",
       "<table border=\"1\" class=\"dataframe\">\n",
       "  <thead>\n",
       "    <tr style=\"text-align: right;\">\n",
       "      <th></th>\n",
       "      <th>name</th>\n",
       "      <th>tags</th>\n",
       "      <th>ingredients</th>\n",
       "      <th>serving_size</th>\n",
       "      <th>cook_time</th>\n",
       "      <th>nutrition</th>\n",
       "      <th>instructions</th>\n",
       "    </tr>\n",
       "  </thead>\n",
       "  <tbody>\n",
       "    <tr>\n",
       "      <th>0</th>\n",
       "      <td>vaal ki usal recipe</td>\n",
       "      <td>['Non-stick Pan', 'Boiled Indian recipes', 'Sa...</td>\n",
       "      <td>['2 cups sprouted vaal (field beans/ butter be...</td>\n",
       "      <td>4 servings</td>\n",
       "      <td>34 Mins</td>\n",
       "      <td>{'Energy': '195 cal', 'Protein': '10.3 g', 'Ca...</td>\n",
       "      <td>For vaal ki usal To make vaal ki usal recipe, ...</td>\n",
       "    </tr>\n",
       "    <tr>\n",
       "      <th>1</th>\n",
       "      <td>capsicum paneer sabzi recipe</td>\n",
       "      <td>['Non Stick Kadai Veg', 'Antioxidant Rich Indi...</td>\n",
       "      <td>['2 1/2 cups capsicum cubes', '1/2 cup low-fat...</td>\n",
       "      <td>4 servings</td>\n",
       "      <td>26 Mins</td>\n",
       "      <td>{'Energy': '74 cal', 'Protein': '2.6 g', 'Carb...</td>\n",
       "      <td>For capsicum paneer sabziTo make capsicum pane...</td>\n",
       "    </tr>\n",
       "    <tr>\n",
       "      <th>3</th>\n",
       "      <td>restaurant style palak paneer recipe</td>\n",
       "      <td>['Non-stick Pan', 'Indian Dinner', 'Indian Lun...</td>\n",
       "      <td>['1 cup sliced onions', '3 tbsp roughly choppe...</td>\n",
       "      <td>4 servings</td>\n",
       "      <td>46 Mins</td>\n",
       "      <td>{'Energy': '374 cal', 'Protein': '13.3 g', 'Ca...</td>\n",
       "      <td>For the onion-cashew paste Combine all the ing...</td>\n",
       "    </tr>\n",
       "    <tr>\n",
       "      <th>4</th>\n",
       "      <td>beetroot and dill salad recipe</td>\n",
       "      <td>['Refrigerator', 'Indian Salads', 'Indian Sala...</td>\n",
       "      <td>['1 tbsp olive oil', '1 tsp vinegar', 'a pinch...</td>\n",
       "      <td>4 servings</td>\n",
       "      <td>15 Mins</td>\n",
       "      <td>{'Energy': '92 cal', 'Protein': '0.1 g', 'Carb...</td>\n",
       "      <td>For beetroot and dill saladTo make beetroot an...</td>\n",
       "    </tr>\n",
       "    <tr>\n",
       "      <th>5</th>\n",
       "      <td>how to eat flaxseeds</td>\n",
       "      <td>['Indian Dinner', 'Indian Veg Recipes', 'High ...</td>\n",
       "      <td>['1 cup flax seeds', '1 tbsp lemon juice', '1/...</td>\n",
       "      <td>4 servings</td>\n",
       "      <td>5 Mins</td>\n",
       "      <td>{'Energy': '68 cal', 'Protein': '2.3 g', 'Carb...</td>\n",
       "      <td>For flaxseeds mukhwas Combine all the ingredie...</td>\n",
       "    </tr>\n",
       "    <tr>\n",
       "      <th>...</th>\n",
       "      <td>...</td>\n",
       "      <td>...</td>\n",
       "      <td>...</td>\n",
       "      <td>...</td>\n",
       "      <td>...</td>\n",
       "      <td>...</td>\n",
       "      <td>...</td>\n",
       "    </tr>\n",
       "    <tr>\n",
       "      <th>2109</th>\n",
       "      <td>Penne and Fruit Salad</td>\n",
       "      <td>['No Cooking Veg Indian', 'Indian Salads', 'In...</td>\n",
       "      <td>['1 cup cooked penne , cut diagonally', '1/4 c...</td>\n",
       "      <td>4 servings</td>\n",
       "      <td>20 Mins</td>\n",
       "      <td>{'Energy': '103 cal', 'Protein': '4.6 g', 'Car...</td>\n",
       "      <td>Combine all the ingredients for the salad in a...</td>\n",
       "    </tr>\n",
       "    <tr>\n",
       "      <th>2110</th>\n",
       "      <td>eggless vegan chocolate cake</td>\n",
       "      <td>['Oven', 'different kinds of Indian Eggless Ca...</td>\n",
       "      <td>['1/2 cup oil', '1 1/2 tsp vinegar', '1 tsp va...</td>\n",
       "      <td>4 servings</td>\n",
       "      <td>5 Mins</td>\n",
       "      <td>{'Energy': '186 cal', 'Protein': '2 g', 'Carbo...</td>\n",
       "      <td>For vegan chocolate cake To make vegan chocola...</td>\n",
       "    </tr>\n",
       "    <tr>\n",
       "      <th>2111</th>\n",
       "      <td>ginger garlic soup recipe</td>\n",
       "      <td>['Indian Soups', 'Chunky Indian Soups', 'India...</td>\n",
       "      <td>['1 tsp oil', '1/2 tbsp finely chopped garlic ...</td>\n",
       "      <td>4 servings</td>\n",
       "      <td>25 Mins</td>\n",
       "      <td>{'Energy': '54 cal', 'Protein': '1.4 g', 'Carb...</td>\n",
       "      <td>For ginger garlic soup To make ginger garlic s...</td>\n",
       "    </tr>\n",
       "    <tr>\n",
       "      <th>2112</th>\n",
       "      <td>broccoli broth</td>\n",
       "      <td>['Deep Pan', 'Boiled Indian recipes', 'Indian ...</td>\n",
       "      <td>['1 cup broccoli floret', '1 tsp olive oil', '...</td>\n",
       "      <td>4 servings</td>\n",
       "      <td>16 Mins</td>\n",
       "      <td>{'Energy': '27 cal', 'Protein': '0.7 g', 'Carb...</td>\n",
       "      <td>For broccoli broth To make broccoli broth, hea...</td>\n",
       "    </tr>\n",
       "    <tr>\n",
       "      <th>2113</th>\n",
       "      <td>soya vegetable pulao recipe</td>\n",
       "      <td>['Pressure Cooker', 'Indian Pressure Cooker', ...</td>\n",
       "      <td>['1/4 cup soy granules', '1/4 cup long grain r...</td>\n",
       "      <td>4 servings</td>\n",
       "      <td>23 Mins</td>\n",
       "      <td>{'Energy': '108 cal', 'Protein': '5.2 g', 'Car...</td>\n",
       "      <td>For soya and vegetable pulao To make soya vege...</td>\n",
       "    </tr>\n",
       "  </tbody>\n",
       "</table>\n",
       "<p>1917 rows × 7 columns</p>\n",
       "</div>"
      ],
      "text/plain": [
       "                                      name  \\\n",
       "0                      vaal ki usal recipe   \n",
       "1             capsicum paneer sabzi recipe   \n",
       "3     restaurant style palak paneer recipe   \n",
       "4           beetroot and dill salad recipe   \n",
       "5                     how to eat flaxseeds   \n",
       "...                                    ...   \n",
       "2109                 Penne and Fruit Salad   \n",
       "2110          eggless vegan chocolate cake   \n",
       "2111             ginger garlic soup recipe   \n",
       "2112                        broccoli broth   \n",
       "2113           soya vegetable pulao recipe   \n",
       "\n",
       "                                                   tags  \\\n",
       "0     ['Non-stick Pan', 'Boiled Indian recipes', 'Sa...   \n",
       "1     ['Non Stick Kadai Veg', 'Antioxidant Rich Indi...   \n",
       "3     ['Non-stick Pan', 'Indian Dinner', 'Indian Lun...   \n",
       "4     ['Refrigerator', 'Indian Salads', 'Indian Sala...   \n",
       "5     ['Indian Dinner', 'Indian Veg Recipes', 'High ...   \n",
       "...                                                 ...   \n",
       "2109  ['No Cooking Veg Indian', 'Indian Salads', 'In...   \n",
       "2110  ['Oven', 'different kinds of Indian Eggless Ca...   \n",
       "2111  ['Indian Soups', 'Chunky Indian Soups', 'India...   \n",
       "2112  ['Deep Pan', 'Boiled Indian recipes', 'Indian ...   \n",
       "2113  ['Pressure Cooker', 'Indian Pressure Cooker', ...   \n",
       "\n",
       "                                            ingredients serving_size  \\\n",
       "0     ['2 cups sprouted vaal (field beans/ butter be...   4 servings   \n",
       "1     ['2 1/2 cups capsicum cubes', '1/2 cup low-fat...   4 servings   \n",
       "3     ['1 cup sliced onions', '3 tbsp roughly choppe...   4 servings   \n",
       "4     ['1 tbsp olive oil', '1 tsp vinegar', 'a pinch...   4 servings   \n",
       "5     ['1 cup flax seeds', '1 tbsp lemon juice', '1/...   4 servings   \n",
       "...                                                 ...          ...   \n",
       "2109  ['1 cup cooked penne , cut diagonally', '1/4 c...   4 servings   \n",
       "2110  ['1/2 cup oil', '1 1/2 tsp vinegar', '1 tsp va...   4 servings   \n",
       "2111  ['1 tsp oil', '1/2 tbsp finely chopped garlic ...   4 servings   \n",
       "2112  ['1 cup broccoli floret', '1 tsp olive oil', '...   4 servings   \n",
       "2113  ['1/4 cup soy granules', '1/4 cup long grain r...   4 servings   \n",
       "\n",
       "     cook_time                                          nutrition  \\\n",
       "0      34 Mins  {'Energy': '195 cal', 'Protein': '10.3 g', 'Ca...   \n",
       "1      26 Mins  {'Energy': '74 cal', 'Protein': '2.6 g', 'Carb...   \n",
       "3      46 Mins  {'Energy': '374 cal', 'Protein': '13.3 g', 'Ca...   \n",
       "4      15 Mins  {'Energy': '92 cal', 'Protein': '0.1 g', 'Carb...   \n",
       "5       5 Mins  {'Energy': '68 cal', 'Protein': '2.3 g', 'Carb...   \n",
       "...        ...                                                ...   \n",
       "2109   20 Mins  {'Energy': '103 cal', 'Protein': '4.6 g', 'Car...   \n",
       "2110    5 Mins  {'Energy': '186 cal', 'Protein': '2 g', 'Carbo...   \n",
       "2111   25 Mins  {'Energy': '54 cal', 'Protein': '1.4 g', 'Carb...   \n",
       "2112   16 Mins  {'Energy': '27 cal', 'Protein': '0.7 g', 'Carb...   \n",
       "2113   23 Mins  {'Energy': '108 cal', 'Protein': '5.2 g', 'Car...   \n",
       "\n",
       "                                           instructions  \n",
       "0     For vaal ki usal To make vaal ki usal recipe, ...  \n",
       "1     For capsicum paneer sabziTo make capsicum pane...  \n",
       "3     For the onion-cashew paste Combine all the ing...  \n",
       "4     For beetroot and dill saladTo make beetroot an...  \n",
       "5     For flaxseeds mukhwas Combine all the ingredie...  \n",
       "...                                                 ...  \n",
       "2109  Combine all the ingredients for the salad in a...  \n",
       "2110  For vegan chocolate cake To make vegan chocola...  \n",
       "2111  For ginger garlic soup To make ginger garlic s...  \n",
       "2112  For broccoli broth To make broccoli broth, hea...  \n",
       "2113  For soya and vegetable pulao To make soya vege...  \n",
       "\n",
       "[1917 rows x 7 columns]"
      ]
     },
     "execution_count": 12,
     "metadata": {},
     "output_type": "execute_result"
    }
   ],
   "source": [
    "df_dropped"
   ]
  },
  {
   "cell_type": "markdown",
   "id": "671afed6",
   "metadata": {},
   "source": [
    "#### Claning BBC"
   ]
  },
  {
   "cell_type": "code",
   "execution_count": 13,
   "id": "bf1a5ddd",
   "metadata": {},
   "outputs": [
    {
     "data": {
      "text/html": [
       "<div>\n",
       "<style scoped>\n",
       "    .dataframe tbody tr th:only-of-type {\n",
       "        vertical-align: middle;\n",
       "    }\n",
       "\n",
       "    .dataframe tbody tr th {\n",
       "        vertical-align: top;\n",
       "    }\n",
       "\n",
       "    .dataframe thead th {\n",
       "        text-align: right;\n",
       "    }\n",
       "</style>\n",
       "<table border=\"1\" class=\"dataframe\">\n",
       "  <thead>\n",
       "    <tr style=\"text-align: right;\">\n",
       "      <th></th>\n",
       "      <th>Unnamed: 0</th>\n",
       "      <th>name</th>\n",
       "      <th>tags</th>\n",
       "      <th>ingredients</th>\n",
       "      <th>serving_size</th>\n",
       "      <th>cook_time</th>\n",
       "      <th>nutrition</th>\n",
       "      <th>instructions</th>\n",
       "    </tr>\n",
       "  </thead>\n",
       "  <tbody>\n",
       "    <tr>\n",
       "      <th>0</th>\n",
       "      <td>0</td>\n",
       "      <td>Chicken madras</td>\n",
       "      <td>['Dairy-free', 'Egg-free', 'Gluten-free', 'Hea...</td>\n",
       "      <td>['1 onion peeled and quartered', '2 garlic clo...</td>\n",
       "      <td>serves 3 - 4</td>\n",
       "      <td>35 mins</td>\n",
       "      <td>{'kcal': '373 g', 'fat': '17 g', 'saturates': ...</td>\n",
       "      <td>['step 1', 'Blitz 1 quartered onion, 2 garlic ...</td>\n",
       "    </tr>\n",
       "    <tr>\n",
       "      <th>1</th>\n",
       "      <td>1</td>\n",
       "      <td>Pani puris</td>\n",
       "      <td>['Healthy', 'Vegan', 'Vegetarian']</td>\n",
       "      <td>['150g chakki atta (chapatti flour)', '30g fin...</td>\n",
       "      <td>serves 4 - 6</td>\n",
       "      <td>40 mins</td>\n",
       "      <td>{'kcal': '385 g', 'fat': '20 g', 'saturates': ...</td>\n",
       "      <td>['step 1', 'Make the pani water. Place the cor...</td>\n",
       "    </tr>\n",
       "    <tr>\n",
       "      <th>2</th>\n",
       "      <td>2</td>\n",
       "      <td>Easy veggie biryani</td>\n",
       "      <td>['Healthy', 'Vegetarian']</td>\n",
       "      <td>['250g basmati rice', '400g special mixed froz...</td>\n",
       "      <td>serves 4</td>\n",
       "      <td>NaN</td>\n",
       "      <td>{'kcal': '305 g', 'fat': '6 g', 'saturates': '...</td>\n",
       "      <td>['step 1', 'Boil the kettle. Get out a large m...</td>\n",
       "    </tr>\n",
       "  </tbody>\n",
       "</table>\n",
       "</div>"
      ],
      "text/plain": [
       "   Unnamed: 0                 name  \\\n",
       "0           0       Chicken madras   \n",
       "1           1           Pani puris   \n",
       "2           2  Easy veggie biryani   \n",
       "\n",
       "                                                tags  \\\n",
       "0  ['Dairy-free', 'Egg-free', 'Gluten-free', 'Hea...   \n",
       "1                 ['Healthy', 'Vegan', 'Vegetarian']   \n",
       "2                          ['Healthy', 'Vegetarian']   \n",
       "\n",
       "                                         ingredients  serving_size cook_time  \\\n",
       "0  ['1 onion peeled and quartered', '2 garlic clo...  serves 3 - 4   35 mins   \n",
       "1  ['150g chakki atta (chapatti flour)', '30g fin...  serves 4 - 6   40 mins   \n",
       "2  ['250g basmati rice', '400g special mixed froz...      serves 4       NaN   \n",
       "\n",
       "                                           nutrition  \\\n",
       "0  {'kcal': '373 g', 'fat': '17 g', 'saturates': ...   \n",
       "1  {'kcal': '385 g', 'fat': '20 g', 'saturates': ...   \n",
       "2  {'kcal': '305 g', 'fat': '6 g', 'saturates': '...   \n",
       "\n",
       "                                        instructions  \n",
       "0  ['step 1', 'Blitz 1 quartered onion, 2 garlic ...  \n",
       "1  ['step 1', 'Make the pani water. Place the cor...  \n",
       "2  ['step 1', 'Boil the kettle. Get out a large m...  "
      ]
     },
     "execution_count": 13,
     "metadata": {},
     "output_type": "execute_result"
    }
   ],
   "source": [
    "df_bbc.head(3)"
   ]
  },
  {
   "cell_type": "code",
   "execution_count": 14,
   "id": "8a950b8c",
   "metadata": {},
   "outputs": [
    {
     "name": "stdout",
     "output_type": "stream",
     "text": [
      "<class 'pandas.core.frame.DataFrame'>\n",
      "RangeIndex: 52 entries, 0 to 51\n",
      "Data columns (total 8 columns):\n",
      " #   Column        Non-Null Count  Dtype \n",
      "---  ------        --------------  ----- \n",
      " 0   Unnamed: 0    52 non-null     int64 \n",
      " 1   name          52 non-null     object\n",
      " 2   tags          52 non-null     object\n",
      " 3   ingredients   52 non-null     object\n",
      " 4   serving_size  50 non-null     object\n",
      " 5   cook_time     45 non-null     object\n",
      " 6   nutrition     52 non-null     object\n",
      " 7   instructions  52 non-null     object\n",
      "dtypes: int64(1), object(7)\n",
      "memory usage: 3.4+ KB\n"
     ]
    }
   ],
   "source": [
    "df_bbc.info()"
   ]
  },
  {
   "cell_type": "code",
   "execution_count": 15,
   "id": "4dbeb466",
   "metadata": {},
   "outputs": [],
   "source": [
    "df_cleaned = df_bbc.drop([\"Unnamed: 0\"], axis=1)"
   ]
  },
  {
   "cell_type": "markdown",
   "id": "90844205",
   "metadata": {},
   "source": [
    "#### Merging both"
   ]
  },
  {
   "cell_type": "code",
   "execution_count": 16,
   "id": "90546c61",
   "metadata": {},
   "outputs": [],
   "source": [
    "df = pd.concat([df_dropped,df_cleaned], ignore_index= True)"
   ]
  },
  {
   "cell_type": "code",
   "execution_count": 17,
   "id": "eb63c9a5",
   "metadata": {},
   "outputs": [
    {
     "name": "stdout",
     "output_type": "stream",
     "text": [
      "<class 'pandas.core.frame.DataFrame'>\n",
      "RangeIndex: 1969 entries, 0 to 1968\n",
      "Data columns (total 7 columns):\n",
      " #   Column        Non-Null Count  Dtype \n",
      "---  ------        --------------  ----- \n",
      " 0   name          1969 non-null   object\n",
      " 1   tags          1969 non-null   object\n",
      " 2   ingredients   1969 non-null   object\n",
      " 3   serving_size  1967 non-null   object\n",
      " 4   cook_time     1962 non-null   object\n",
      " 5   nutrition     1969 non-null   object\n",
      " 6   instructions  1969 non-null   object\n",
      "dtypes: object(7)\n",
      "memory usage: 107.8+ KB\n"
     ]
    }
   ],
   "source": [
    "df.info()"
   ]
  },
  {
   "cell_type": "markdown",
   "id": "2a2705db",
   "metadata": {},
   "source": [
    "- Before saving, to maintain a consistent format, reordering and correcting attribute names\n",
    "- Final data should be in this order : [\"name\", \"ingredients\",\"instructions\",\"nutrition\",\"time\",\"serving_size\",\"tags\"]"
   ]
  },
  {
   "cell_type": "code",
   "execution_count": 18,
   "id": "45f8720d",
   "metadata": {},
   "outputs": [],
   "source": [
    "df = df.rename(columns={\"cook_time\":\"time\"})"
   ]
  },
  {
   "cell_type": "code",
   "execution_count": 19,
   "id": "d42deacc",
   "metadata": {},
   "outputs": [
    {
     "data": {
      "text/html": [
       "<div>\n",
       "<style scoped>\n",
       "    .dataframe tbody tr th:only-of-type {\n",
       "        vertical-align: middle;\n",
       "    }\n",
       "\n",
       "    .dataframe tbody tr th {\n",
       "        vertical-align: top;\n",
       "    }\n",
       "\n",
       "    .dataframe thead th {\n",
       "        text-align: right;\n",
       "    }\n",
       "</style>\n",
       "<table border=\"1\" class=\"dataframe\">\n",
       "  <thead>\n",
       "    <tr style=\"text-align: right;\">\n",
       "      <th></th>\n",
       "      <th>name</th>\n",
       "      <th>tags</th>\n",
       "      <th>ingredients</th>\n",
       "      <th>serving_size</th>\n",
       "      <th>time</th>\n",
       "      <th>nutrition</th>\n",
       "      <th>instructions</th>\n",
       "    </tr>\n",
       "  </thead>\n",
       "  <tbody>\n",
       "    <tr>\n",
       "      <th>0</th>\n",
       "      <td>vaal ki usal recipe</td>\n",
       "      <td>['Non-stick Pan', 'Boiled Indian recipes', 'Sa...</td>\n",
       "      <td>['2 cups sprouted vaal (field beans/ butter be...</td>\n",
       "      <td>4 servings</td>\n",
       "      <td>34 Mins</td>\n",
       "      <td>{'Energy': '195 cal', 'Protein': '10.3 g', 'Ca...</td>\n",
       "      <td>For vaal ki usal To make vaal ki usal recipe, ...</td>\n",
       "    </tr>\n",
       "    <tr>\n",
       "      <th>1</th>\n",
       "      <td>capsicum paneer sabzi recipe</td>\n",
       "      <td>['Non Stick Kadai Veg', 'Antioxidant Rich Indi...</td>\n",
       "      <td>['2 1/2 cups capsicum cubes', '1/2 cup low-fat...</td>\n",
       "      <td>4 servings</td>\n",
       "      <td>26 Mins</td>\n",
       "      <td>{'Energy': '74 cal', 'Protein': '2.6 g', 'Carb...</td>\n",
       "      <td>For capsicum paneer sabziTo make capsicum pane...</td>\n",
       "    </tr>\n",
       "    <tr>\n",
       "      <th>2</th>\n",
       "      <td>restaurant style palak paneer recipe</td>\n",
       "      <td>['Non-stick Pan', 'Indian Dinner', 'Indian Lun...</td>\n",
       "      <td>['1 cup sliced onions', '3 tbsp roughly choppe...</td>\n",
       "      <td>4 servings</td>\n",
       "      <td>46 Mins</td>\n",
       "      <td>{'Energy': '374 cal', 'Protein': '13.3 g', 'Ca...</td>\n",
       "      <td>For the onion-cashew paste Combine all the ing...</td>\n",
       "    </tr>\n",
       "  </tbody>\n",
       "</table>\n",
       "</div>"
      ],
      "text/plain": [
       "                                   name  \\\n",
       "0                   vaal ki usal recipe   \n",
       "1          capsicum paneer sabzi recipe   \n",
       "2  restaurant style palak paneer recipe   \n",
       "\n",
       "                                                tags  \\\n",
       "0  ['Non-stick Pan', 'Boiled Indian recipes', 'Sa...   \n",
       "1  ['Non Stick Kadai Veg', 'Antioxidant Rich Indi...   \n",
       "2  ['Non-stick Pan', 'Indian Dinner', 'Indian Lun...   \n",
       "\n",
       "                                         ingredients serving_size     time  \\\n",
       "0  ['2 cups sprouted vaal (field beans/ butter be...   4 servings  34 Mins   \n",
       "1  ['2 1/2 cups capsicum cubes', '1/2 cup low-fat...   4 servings  26 Mins   \n",
       "2  ['1 cup sliced onions', '3 tbsp roughly choppe...   4 servings  46 Mins   \n",
       "\n",
       "                                           nutrition  \\\n",
       "0  {'Energy': '195 cal', 'Protein': '10.3 g', 'Ca...   \n",
       "1  {'Energy': '74 cal', 'Protein': '2.6 g', 'Carb...   \n",
       "2  {'Energy': '374 cal', 'Protein': '13.3 g', 'Ca...   \n",
       "\n",
       "                                        instructions  \n",
       "0  For vaal ki usal To make vaal ki usal recipe, ...  \n",
       "1  For capsicum paneer sabziTo make capsicum pane...  \n",
       "2  For the onion-cashew paste Combine all the ing...  "
      ]
     },
     "execution_count": 19,
     "metadata": {},
     "output_type": "execute_result"
    }
   ],
   "source": [
    "df.head(3)"
   ]
  },
  {
   "cell_type": "code",
   "execution_count": 20,
   "id": "2418fbd6",
   "metadata": {},
   "outputs": [],
   "source": [
    "df = df[[\"name\", \"ingredients\",\"instructions\",\"nutrition\",\"time\",\"serving_size\",\"tags\"]]"
   ]
  },
  {
   "cell_type": "code",
   "execution_count": 23,
   "id": "ca70f787",
   "metadata": {},
   "outputs": [
    {
     "data": {
      "text/plain": [
       "0    ['2 cups sprouted vaal (field beans/ butter be...\n",
       "1    ['2 1/2 cups capsicum cubes', '1/2 cup low-fat...\n",
       "2    ['1 cup sliced onions', '3 tbsp roughly choppe...\n",
       "Name: ingredients, dtype: object"
      ]
     },
     "execution_count": 23,
     "metadata": {},
     "output_type": "execute_result"
    }
   ],
   "source": [
    "df[\"ingredients\"].head(3)"
   ]
  },
  {
   "cell_type": "markdown",
   "id": "7523b244",
   "metadata": {},
   "source": [
    "3. Cleaning Healthy foods dataframe"
   ]
  },
  {
   "cell_type": "code",
   "execution_count": 24,
   "id": "6501358c",
   "metadata": {},
   "outputs": [
    {
     "name": "stdout",
     "output_type": "stream",
     "text": [
      "<class 'pandas.core.frame.DataFrame'>\n",
      "RangeIndex: 1818 entries, 0 to 1817\n",
      "Data columns (total 7 columns):\n",
      " #   Column        Non-Null Count  Dtype \n",
      "---  ------        --------------  ----- \n",
      " 0   name          1818 non-null   object\n",
      " 1   ingredients   1818 non-null   object\n",
      " 2   instructions  1818 non-null   object\n",
      " 3   nutrition     1818 non-null   object\n",
      " 4   time          1813 non-null   object\n",
      " 5   serving_size  1795 non-null   object\n",
      " 6   tags          1818 non-null   object\n",
      "dtypes: object(7)\n",
      "memory usage: 99.6+ KB\n"
     ]
    }
   ],
   "source": [
    "df_healthyfood.info()"
   ]
  },
  {
   "cell_type": "code",
   "execution_count": 25,
   "id": "d00beb01",
   "metadata": {},
   "outputs": [
    {
     "data": {
      "text/html": [
       "<div>\n",
       "<style scoped>\n",
       "    .dataframe tbody tr th:only-of-type {\n",
       "        vertical-align: middle;\n",
       "    }\n",
       "\n",
       "    .dataframe tbody tr th {\n",
       "        vertical-align: top;\n",
       "    }\n",
       "\n",
       "    .dataframe thead th {\n",
       "        text-align: right;\n",
       "    }\n",
       "</style>\n",
       "<table border=\"1\" class=\"dataframe\">\n",
       "  <thead>\n",
       "    <tr style=\"text-align: right;\">\n",
       "      <th></th>\n",
       "      <th>name</th>\n",
       "      <th>ingredients</th>\n",
       "      <th>instructions</th>\n",
       "      <th>nutrition</th>\n",
       "      <th>time</th>\n",
       "      <th>serving_size</th>\n",
       "      <th>tags</th>\n",
       "    </tr>\n",
       "  </thead>\n",
       "  <tbody>\n",
       "    <tr>\n",
       "      <th>0</th>\n",
       "      <td>Vegan one-pot zucchini, pea and spinach pasta</td>\n",
       "      <td>['2 tablespoons olive oil, plus extra to drizz...</td>\n",
       "      <td>['1 Warm the olive oil in a large saucepan. Ad...</td>\n",
       "      <td>{'Calories ': '393 cal', 'Kilojoules ': '1644 ...</td>\n",
       "      <td>30 mins</td>\n",
       "      <td>4</td>\n",
       "      <td>['Dairy free', 'Low kilojoule', 'Low sodium', ...</td>\n",
       "    </tr>\n",
       "    <tr>\n",
       "      <th>1</th>\n",
       "      <td>Gluten-free Thai fishcakes with crunchy rice s...</td>\n",
       "      <td>['500g skinless and boneless hoki fillets or s...</td>\n",
       "      <td>['1 Put the haddock, egg white, fish sauce, gi...</td>\n",
       "      <td>{'Calories ': '270 cal', 'Kilojoules ': '1130 ...</td>\n",
       "      <td>30 mins</td>\n",
       "      <td>4</td>\n",
       "      <td>['Dairy free', 'Gluten free', 'High protein', ...</td>\n",
       "    </tr>\n",
       "    <tr>\n",
       "      <th>2</th>\n",
       "      <td>Vegetarian okonomiyaki (Japanese pancake)</td>\n",
       "      <td>['1½ cups  ', '½ teaspoon baking powder', '1 t...</td>\n",
       "      <td>['1 Into a large bowl sift flour, baking powde...</td>\n",
       "      <td>{'Calories ': '371 cal', 'Kilojoules ': '1562 ...</td>\n",
       "      <td>35 mins</td>\n",
       "      <td>4</td>\n",
       "      <td>['Diabetes-friendly', 'High fibre', 'Low sodiu...</td>\n",
       "    </tr>\n",
       "  </tbody>\n",
       "</table>\n",
       "</div>"
      ],
      "text/plain": [
       "                                                name  \\\n",
       "0      Vegan one-pot zucchini, pea and spinach pasta   \n",
       "1  Gluten-free Thai fishcakes with crunchy rice s...   \n",
       "2          Vegetarian okonomiyaki (Japanese pancake)   \n",
       "\n",
       "                                         ingredients  \\\n",
       "0  ['2 tablespoons olive oil, plus extra to drizz...   \n",
       "1  ['500g skinless and boneless hoki fillets or s...   \n",
       "2  ['1½ cups  ', '½ teaspoon baking powder', '1 t...   \n",
       "\n",
       "                                        instructions  \\\n",
       "0  ['1 Warm the olive oil in a large saucepan. Ad...   \n",
       "1  ['1 Put the haddock, egg white, fish sauce, gi...   \n",
       "2  ['1 Into a large bowl sift flour, baking powde...   \n",
       "\n",
       "                                           nutrition     time serving_size  \\\n",
       "0  {'Calories ': '393 cal', 'Kilojoules ': '1644 ...  30 mins            4   \n",
       "1  {'Calories ': '270 cal', 'Kilojoules ': '1130 ...  30 mins            4   \n",
       "2  {'Calories ': '371 cal', 'Kilojoules ': '1562 ...  35 mins            4   \n",
       "\n",
       "                                                tags  \n",
       "0  ['Dairy free', 'Low kilojoule', 'Low sodium', ...  \n",
       "1  ['Dairy free', 'Gluten free', 'High protein', ...  \n",
       "2  ['Diabetes-friendly', 'High fibre', 'Low sodiu...  "
      ]
     },
     "execution_count": 25,
     "metadata": {},
     "output_type": "execute_result"
    }
   ],
   "source": [
    "df_healthyfood.head(3)"
   ]
  },
  {
   "cell_type": "code",
   "execution_count": 26,
   "id": "e5416836",
   "metadata": {},
   "outputs": [],
   "source": [
    "def clean_ingredients(ingredient_str):\n",
    "    try:\n",
    "        items = eval(ingredient_str)  # Convert string to list\n",
    "        return [item.strip() for item in items if item.strip() and '\\t' not in item]\n",
    "    except:\n",
    "        return []"
   ]
  },
  {
   "cell_type": "code",
   "execution_count": 27,
   "id": "b50c99b3",
   "metadata": {},
   "outputs": [],
   "source": [
    "df_healthyfood['ingredients'] = df_healthyfood['ingredients'].apply(clean_ingredients)"
   ]
  },
  {
   "cell_type": "code",
   "execution_count": 28,
   "id": "71da24b6",
   "metadata": {},
   "outputs": [],
   "source": [
    "df_healthyfood = df_healthyfood[df_healthyfood['instructions'].str.strip() != '[]']\n",
    "df_healthyfood=df_healthyfood[df_healthyfood['ingredients'].str.strip()!='[]']"
   ]
  },
  {
   "cell_type": "code",
   "execution_count": 29,
   "id": "516cf905",
   "metadata": {},
   "outputs": [
    {
     "name": "stdout",
     "output_type": "stream",
     "text": [
      "<class 'pandas.core.frame.DataFrame'>\n",
      "Index: 1650 entries, 0 to 1816\n",
      "Data columns (total 7 columns):\n",
      " #   Column        Non-Null Count  Dtype \n",
      "---  ------        --------------  ----- \n",
      " 0   name          1650 non-null   object\n",
      " 1   ingredients   1650 non-null   object\n",
      " 2   instructions  1650 non-null   object\n",
      " 3   nutrition     1650 non-null   object\n",
      " 4   time          1645 non-null   object\n",
      " 5   serving_size  1627 non-null   object\n",
      " 6   tags          1650 non-null   object\n",
      "dtypes: object(7)\n",
      "memory usage: 103.1+ KB\n"
     ]
    }
   ],
   "source": [
    "df_healthyfood.info()"
   ]
  },
  {
   "cell_type": "code",
   "execution_count": 30,
   "id": "c6c8980c",
   "metadata": {},
   "outputs": [
    {
     "data": {
      "text/html": [
       "<div>\n",
       "<style scoped>\n",
       "    .dataframe tbody tr th:only-of-type {\n",
       "        vertical-align: middle;\n",
       "    }\n",
       "\n",
       "    .dataframe tbody tr th {\n",
       "        vertical-align: top;\n",
       "    }\n",
       "\n",
       "    .dataframe thead th {\n",
       "        text-align: right;\n",
       "    }\n",
       "</style>\n",
       "<table border=\"1\" class=\"dataframe\">\n",
       "  <thead>\n",
       "    <tr style=\"text-align: right;\">\n",
       "      <th></th>\n",
       "      <th>name</th>\n",
       "      <th>ingredients</th>\n",
       "      <th>instructions</th>\n",
       "      <th>nutrition</th>\n",
       "      <th>time</th>\n",
       "      <th>serving_size</th>\n",
       "      <th>tags</th>\n",
       "    </tr>\n",
       "  </thead>\n",
       "  <tbody>\n",
       "    <tr>\n",
       "      <th>0</th>\n",
       "      <td>Vegan one-pot zucchini, pea and spinach pasta</td>\n",
       "      <td>[2 tablespoons olive oil, plus extra to drizzl...</td>\n",
       "      <td>['1 Warm the olive oil in a large saucepan. Ad...</td>\n",
       "      <td>{'Calories ': '393 cal', 'Kilojoules ': '1644 ...</td>\n",
       "      <td>30 mins</td>\n",
       "      <td>4</td>\n",
       "      <td>['Dairy free', 'Low kilojoule', 'Low sodium', ...</td>\n",
       "    </tr>\n",
       "    <tr>\n",
       "      <th>1</th>\n",
       "      <td>Gluten-free Thai fishcakes with crunchy rice s...</td>\n",
       "      <td>[500g skinless and boneless hoki fillets or si...</td>\n",
       "      <td>['1 Put the haddock, egg white, fish sauce, gi...</td>\n",
       "      <td>{'Calories ': '270 cal', 'Kilojoules ': '1130 ...</td>\n",
       "      <td>30 mins</td>\n",
       "      <td>4</td>\n",
       "      <td>['Dairy free', 'Gluten free', 'High protein', ...</td>\n",
       "    </tr>\n",
       "    <tr>\n",
       "      <th>2</th>\n",
       "      <td>Vegetarian okonomiyaki (Japanese pancake)</td>\n",
       "      <td>[1½ cups, ½ teaspoon baking powder, 1 teaspoon...</td>\n",
       "      <td>['1 Into a large bowl sift flour, baking powde...</td>\n",
       "      <td>{'Calories ': '371 cal', 'Kilojoules ': '1562 ...</td>\n",
       "      <td>35 mins</td>\n",
       "      <td>4</td>\n",
       "      <td>['Diabetes-friendly', 'High fibre', 'Low sodiu...</td>\n",
       "    </tr>\n",
       "  </tbody>\n",
       "</table>\n",
       "</div>"
      ],
      "text/plain": [
       "                                                name  \\\n",
       "0      Vegan one-pot zucchini, pea and spinach pasta   \n",
       "1  Gluten-free Thai fishcakes with crunchy rice s...   \n",
       "2          Vegetarian okonomiyaki (Japanese pancake)   \n",
       "\n",
       "                                         ingredients  \\\n",
       "0  [2 tablespoons olive oil, plus extra to drizzl...   \n",
       "1  [500g skinless and boneless hoki fillets or si...   \n",
       "2  [1½ cups, ½ teaspoon baking powder, 1 teaspoon...   \n",
       "\n",
       "                                        instructions  \\\n",
       "0  ['1 Warm the olive oil in a large saucepan. Ad...   \n",
       "1  ['1 Put the haddock, egg white, fish sauce, gi...   \n",
       "2  ['1 Into a large bowl sift flour, baking powde...   \n",
       "\n",
       "                                           nutrition     time serving_size  \\\n",
       "0  {'Calories ': '393 cal', 'Kilojoules ': '1644 ...  30 mins            4   \n",
       "1  {'Calories ': '270 cal', 'Kilojoules ': '1130 ...  30 mins            4   \n",
       "2  {'Calories ': '371 cal', 'Kilojoules ': '1562 ...  35 mins            4   \n",
       "\n",
       "                                                tags  \n",
       "0  ['Dairy free', 'Low kilojoule', 'Low sodium', ...  \n",
       "1  ['Dairy free', 'Gluten free', 'High protein', ...  \n",
       "2  ['Diabetes-friendly', 'High fibre', 'Low sodiu...  "
      ]
     },
     "execution_count": 30,
     "metadata": {},
     "output_type": "execute_result"
    }
   ],
   "source": [
    "df_healthyfood.head(3)"
   ]
  },
  {
   "cell_type": "markdown",
   "id": "20de38ce",
   "metadata": {},
   "source": [
    "### Merging "
   ]
  },
  {
   "cell_type": "code",
   "execution_count": 32,
   "id": "b3b33c17",
   "metadata": {},
   "outputs": [],
   "source": [
    "df = pd.concat([df,df_healthyfood], ignore_index=True)"
   ]
  },
  {
   "cell_type": "code",
   "execution_count": 33,
   "id": "47cc4b2f",
   "metadata": {},
   "outputs": [
    {
     "name": "stdout",
     "output_type": "stream",
     "text": [
      "<class 'pandas.core.frame.DataFrame'>\n",
      "RangeIndex: 3619 entries, 0 to 3618\n",
      "Data columns (total 7 columns):\n",
      " #   Column        Non-Null Count  Dtype \n",
      "---  ------        --------------  ----- \n",
      " 0   name          3619 non-null   object\n",
      " 1   ingredients   3619 non-null   object\n",
      " 2   instructions  3619 non-null   object\n",
      " 3   nutrition     3619 non-null   object\n",
      " 4   time          3607 non-null   object\n",
      " 5   serving_size  3594 non-null   object\n",
      " 6   tags          3619 non-null   object\n",
      "dtypes: object(7)\n",
      "memory usage: 198.0+ KB\n"
     ]
    }
   ],
   "source": [
    "df.info()"
   ]
  },
  {
   "cell_type": "code",
   "execution_count": 34,
   "id": "2739e734",
   "metadata": {},
   "outputs": [],
   "source": [
    "df.to_csv(\"all_combined_clean_data.csv\")"
   ]
  },
  {
   "cell_type": "code",
   "execution_count": null,
   "id": "956429e2",
   "metadata": {},
   "outputs": [],
   "source": []
  }
 ],
 "metadata": {
  "kernelspec": {
   "display_name": "Python 3",
   "language": "python",
   "name": "python3"
  },
  "language_info": {
   "codemirror_mode": {
    "name": "ipython",
    "version": 3
   },
   "file_extension": ".py",
   "mimetype": "text/x-python",
   "name": "python",
   "nbconvert_exporter": "python",
   "pygments_lexer": "ipython3",
   "version": "3.13.2"
  }
 },
 "nbformat": 4,
 "nbformat_minor": 5
}
