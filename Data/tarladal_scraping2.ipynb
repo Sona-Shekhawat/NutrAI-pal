{
 "cells": [
  {
   "cell_type": "markdown",
   "id": "0df225ee",
   "metadata": {},
   "source": [
    "### Scraping more healthy indian recipes"
   ]
  },
  {
   "cell_type": "markdown",
   "id": "ae584976",
   "metadata": {},
   "source": [
    "- Recipe name\n",
    "- Ingredients list\n",
    "- Cooking time\n",
    "- Instructions\n",
    "- Nutrient info \n",
    "- Tags (e.g., vegan, keto, veg/non veg)\n",
    "\n",
    "website: https://www.tarladalal.com/\n",
    "-nutrient breakdown avaliable too"
   ]
  },
  {
   "cell_type": "markdown",
   "id": "92b8f5ed",
   "metadata": {},
   "source": [
    "#### Import dependencies"
   ]
  },
  {
   "cell_type": "code",
   "execution_count": 3,
   "id": "9f5a16e2",
   "metadata": {},
   "outputs": [],
   "source": [
    "import pandas as pd\n",
    "import requests\n",
    "from bs4 import BeautifulSoup"
   ]
  },
  {
   "cell_type": "code",
   "execution_count": 4,
   "id": "bc7bef5a",
   "metadata": {},
   "outputs": [],
   "source": [
    "webpage = requests.get(\"https://www.tarladalal.com/category/Healthy-Indian-Recipes/\").text"
   ]
  },
  {
   "cell_type": "code",
   "execution_count": 5,
   "id": "58609d30",
   "metadata": {},
   "outputs": [],
   "source": [
    "soup = BeautifulSoup(webpage, 'lxml')"
   ]
  },
  {
   "cell_type": "code",
   "execution_count": 6,
   "id": "ea040c71",
   "metadata": {},
   "outputs": [
    {
     "data": {
      "text/plain": [
       "[<div class=\"text-center\">\n",
       " <a class=\"btn btn-main primary-bg\" href=\"/recipes/category/Vitamin-B12-Cobalamin-Rich-Foods/\">View All</a>\n",
       " </div>,\n",
       " <div class=\"text-center\">\n",
       " <a class=\"btn btn-main primary-bg\" href=\"/recipes/category/Healthy-Low-Calorie-Weight-Loss/\">View All</a>\n",
       " </div>,\n",
       " <div class=\"text-center\">\n",
       " <a class=\"btn btn-main primary-bg\" href=\"/recipes/category/Insoluble-Fiber-Diet/\">View All</a>\n",
       " </div>,\n",
       " <div class=\"text-center\">\n",
       " <a class=\"btn btn-main primary-bg\" href=\"/recipes/category/Low-Cholesterol-/\">View All</a>\n",
       " </div>,\n",
       " <div class=\"text-center\">\n",
       " <a class=\"btn btn-main primary-bg\" href=\"/recipes/category/Soluble-Fibre-Diet/\">View All</a>\n",
       " </div>]"
      ]
     },
     "execution_count": 6,
     "metadata": {},
     "output_type": "execute_result"
    }
   ],
   "source": [
    "# Getting all recipe links from the main page \n",
    "# thet are stored in div tags of class text-center\n",
    "soup.find_all('div',class_=\"text-center\")[:5]"
   ]
  },
  {
   "cell_type": "code",
   "execution_count": 7,
   "id": "f1fb9687",
   "metadata": {},
   "outputs": [],
   "source": [
    "# getting the tag links from the href attrbute of anchor tag\n",
    "tags_links=[]\n",
    "for div in soup.find_all('div',class_=\"text-center\")[:-1]:\n",
    "    tags_links.append(div.find('a').get(\"href\"))"
   ]
  },
  {
   "cell_type": "code",
   "execution_count": 8,
   "id": "57e1413f",
   "metadata": {},
   "outputs": [
    {
     "data": {
      "text/plain": [
       "['/recipes/category/Vitamin-B12-Cobalamin-Rich-Foods/',\n",
       " '/recipes/category/Healthy-Low-Calorie-Weight-Loss/',\n",
       " '/recipes/category/Insoluble-Fiber-Diet/',\n",
       " '/recipes/category/Low-Cholesterol-/',\n",
       " '/recipes/category/Soluble-Fibre-Diet/']"
      ]
     },
     "execution_count": 8,
     "metadata": {},
     "output_type": "execute_result"
    }
   ],
   "source": [
    "tags_links[:5]"
   ]
  },
  {
   "cell_type": "code",
   "execution_count": 9,
   "id": "c6ba8a72",
   "metadata": {},
   "outputs": [
    {
     "data": {
      "text/plain": [
       "['/recipes/category/Lactose-Free-Dairy-Free-Cake-/',\n",
       " '/recipes/category/Chronic-Kidney-Disease/',\n",
       " '/recipes/category/indian-recipes-for-relief-from-pregnancy-constipation/',\n",
       " '/recipes/category/selenium1/',\n",
       " '/recipes/category/healthy-indian-soups-under-100-calories/']"
      ]
     },
     "execution_count": 9,
     "metadata": {},
     "output_type": "execute_result"
    }
   ],
   "source": [
    "tags_links[-5:]"
   ]
  },
  {
   "cell_type": "markdown",
   "id": "3c46e8fa",
   "metadata": {},
   "source": [
    "- They are in the form of relative address to the main page, so let's prefix them with the address \"https://www.tarladalal.com/\""
   ]
  },
  {
   "cell_type": "code",
   "execution_count": 10,
   "id": "2e24424c",
   "metadata": {},
   "outputs": [],
   "source": [
    "cleaned_tags_links = [\"https://www.tarladalal.com\"+link for link in tags_links ]"
   ]
  },
  {
   "cell_type": "code",
   "execution_count": 11,
   "id": "9678e00b",
   "metadata": {},
   "outputs": [
    {
     "data": {
      "text/plain": [
       "['https://www.tarladalal.com/recipes/category/Vitamin-B12-Cobalamin-Rich-Foods/',\n",
       " 'https://www.tarladalal.com/recipes/category/Healthy-Low-Calorie-Weight-Loss/',\n",
       " 'https://www.tarladalal.com/recipes/category/Insoluble-Fiber-Diet/',\n",
       " 'https://www.tarladalal.com/recipes/category/Low-Cholesterol-/',\n",
       " 'https://www.tarladalal.com/recipes/category/Soluble-Fibre-Diet/']"
      ]
     },
     "execution_count": 11,
     "metadata": {},
     "output_type": "execute_result"
    }
   ],
   "source": [
    "cleaned_tags_links[:5]"
   ]
  },
  {
   "cell_type": "code",
   "execution_count": 12,
   "id": "99030ac1",
   "metadata": {},
   "outputs": [
    {
     "data": {
      "text/plain": [
       "['https://www.tarladalal.com/recipes/category/Lactose-Free-Dairy-Free-Cake-/',\n",
       " 'https://www.tarladalal.com/recipes/category/Chronic-Kidney-Disease/',\n",
       " 'https://www.tarladalal.com/recipes/category/indian-recipes-for-relief-from-pregnancy-constipation/',\n",
       " 'https://www.tarladalal.com/recipes/category/selenium1/',\n",
       " 'https://www.tarladalal.com/recipes/category/healthy-indian-soups-under-100-calories/']"
      ]
     },
     "execution_count": 12,
     "metadata": {},
     "output_type": "execute_result"
    }
   ],
   "source": [
    "cleaned_tags_links[-5:]"
   ]
  },
  {
   "cell_type": "code",
   "execution_count": 13,
   "id": "6ac026e4",
   "metadata": {},
   "outputs": [
    {
     "data": {
      "text/plain": [
       "437"
      ]
     },
     "execution_count": 13,
     "metadata": {},
     "output_type": "execute_result"
    }
   ],
   "source": [
    "# total filters or tags\n",
    "len(cleaned_tags_links)"
   ]
  },
  {
   "cell_type": "markdown",
   "id": "ecceee93",
   "metadata": {},
   "source": [
    "- therefore, now we have 437 different filters or tags \n",
    "- let's go through each link and extract recipes under that category"
   ]
  },
  {
   "cell_type": "code",
   "execution_count": 14,
   "id": "755ed555",
   "metadata": {},
   "outputs": [],
   "source": [
    "# get recipie links from categories\n",
    "def get_recipie_links(category_link):\n",
    "    website = requests.get(category_link).text\n",
    "    soup = BeautifulSoup(website, \"lxml\")\n",
    "    tags_links=[]\n",
    "\n",
    "    # getting links\n",
    "    for div in soup.find_all('div',class_=\"img-block\"):\n",
    "        tags_links.append(div.find('a').get(\"href\"))\n",
    "    \n",
    "    #filtering links\n",
    "    category = category_link.rstrip('/').split('/')[-1] \n",
    "    recipies = [(\"https://www.tarladalal.com\"+link, category) for link in tags_links ]\n",
    "\n",
    "    return recipies "
   ]
  },
  {
   "cell_type": "markdown",
   "id": "fafe30f9",
   "metadata": {},
   "source": [
    "- now we can use this function to extract recipe links from under each category.\n",
    "- Next, we scrape through each recipe page to get our required data"
   ]
  },
  {
   "cell_type": "code",
   "execution_count": 28,
   "id": "3ff3bbb6",
   "metadata": {},
   "outputs": [],
   "source": [
    "recipies_cat = []\n",
    "for category in cleaned_tags_links:\n",
    "    recipies_cat.extend(get_recipie_links(category))"
   ]
  },
  {
   "cell_type": "code",
   "execution_count": null,
   "id": "638f3f0f",
   "metadata": {},
   "outputs": [],
   "source": [
    "recipies=[]\n",
    "for rec, cat in recipies_cat:\n",
    "    recipies.append(rec)"
   ]
  },
  {
   "cell_type": "code",
   "execution_count": 46,
   "id": "72043fbb",
   "metadata": {},
   "outputs": [],
   "source": [
    "from collections import defaultdict\n",
    "\n",
    "recipe_tags = defaultdict(list)\n",
    "\n",
    "for link, tag in recipies_cat:\n",
    "    recipe_tags[link].append(tag)\n"
   ]
  },
  {
   "cell_type": "code",
   "execution_count": 43,
   "id": "69ac17d3",
   "metadata": {},
   "outputs": [
    {
     "data": {
      "text/plain": [
       "2129"
      ]
     },
     "execution_count": 43,
     "metadata": {},
     "output_type": "execute_result"
    }
   ],
   "source": [
    "len(set(recipies))"
   ]
  },
  {
   "cell_type": "markdown",
   "id": "62521f71",
   "metadata": {},
   "source": [
    "- therefore, here we have a list of 2129 unique recipes"
   ]
  },
  {
   "cell_type": "markdown",
   "id": "e3ea1873",
   "metadata": {},
   "source": [
    "#### Scraping through the first recipe page\n"
   ]
  },
  {
   "cell_type": "code",
   "execution_count": 52,
   "id": "4dbff6f5",
   "metadata": {},
   "outputs": [],
   "source": [
    "recipies = list(set(recipies))"
   ]
  },
  {
   "cell_type": "code",
   "execution_count": 53,
   "id": "601cbc0d",
   "metadata": {},
   "outputs": [
    {
     "data": {
      "text/plain": [
       "'https://www.tarladalal.com/sweet-lime-and-pepper-salad-3601r'"
      ]
     },
     "execution_count": 53,
     "metadata": {},
     "output_type": "execute_result"
    }
   ],
   "source": [
    "recipies[0]"
   ]
  },
  {
   "cell_type": "markdown",
   "id": "6c7a8256",
   "metadata": {},
   "source": [
    "- Features we need:\n",
    "- name, serving size, Time to make, tags, ingredients, nutrition, instructions"
   ]
  },
  {
   "cell_type": "code",
   "execution_count": 54,
   "id": "24e1b264",
   "metadata": {},
   "outputs": [],
   "source": [
    "website = requests.get(recipies[0]).text\n",
    "soup = BeautifulSoup(website,'lxml')"
   ]
  },
  {
   "cell_type": "markdown",
   "id": "403c3ca2",
   "metadata": {},
   "source": [
    "##### Getting the name\n"
   ]
  },
  {
   "cell_type": "code",
   "execution_count": 55,
   "id": "4972abed",
   "metadata": {},
   "outputs": [
    {
     "data": {
      "text/plain": [
       "'Sweet Lime and Pepper Salad'"
      ]
     },
     "execution_count": 55,
     "metadata": {},
     "output_type": "execute_result"
    }
   ],
   "source": [
    "soup.find(\"h4\", class_ = \"rec-heading\").text"
   ]
  },
  {
   "cell_type": "code",
   "execution_count": 56,
   "id": "e5dc3aee",
   "metadata": {},
   "outputs": [
    {
     "data": {
      "text/plain": [
       "['Sweet Lime and Pepper Salad']"
      ]
     },
     "execution_count": 56,
     "metadata": {},
     "output_type": "execute_result"
    }
   ],
   "source": [
    "soup.find(\"h4\", class_ = \"rec-heading\").text.split(\"|\")"
   ]
  },
  {
   "cell_type": "code",
   "execution_count": 57,
   "id": "f113060e",
   "metadata": {},
   "outputs": [
    {
     "data": {
      "text/plain": [
       "'Sweet Lime and Pepper Salad'"
      ]
     },
     "execution_count": 57,
     "metadata": {},
     "output_type": "execute_result"
    }
   ],
   "source": [
    "# just taking the first name:\n",
    "soup.find(\"h4\", class_ = \"rec-heading\").text.split(\"|\")[0].strip()"
   ]
  },
  {
   "cell_type": "code",
   "execution_count": 58,
   "id": "32bcbabf",
   "metadata": {},
   "outputs": [],
   "source": [
    "def find_name(rec_soup):\n",
    "    # it will most probably have only one h4 tag so use .find()\n",
    "    return rec_soup.find(\"h4\", class_ = \"rec-heading\").text.split(\"|\")[0].strip()"
   ]
  },
  {
   "cell_type": "code",
   "execution_count": 59,
   "id": "d43a9dbe",
   "metadata": {},
   "outputs": [
    {
     "data": {
      "text/plain": [
       "'Sweet Lime and Pepper Salad'"
      ]
     },
     "execution_count": 59,
     "metadata": {},
     "output_type": "execute_result"
    }
   ],
   "source": [
    "find_name(soup)"
   ]
  },
  {
   "cell_type": "markdown",
   "id": "96a5e9df",
   "metadata": {},
   "source": [
    "##### Getting the Make time"
   ]
  },
  {
   "cell_type": "code",
   "execution_count": 60,
   "id": "0edc06f0",
   "metadata": {},
   "outputs": [
    {
     "data": {
      "text/plain": [
       "[<p class=\"mb-0 font-size-13\"><strong>10 Mins</strong></p>,\n",
       " <p class=\"mb-0 font-size-13\"><strong>None Mins</strong></p>,\n",
       " <p class=\"mb-0 font-size-13\"><strong>10 Mins</strong></p>]"
      ]
     },
     "execution_count": 60,
     "metadata": {},
     "output_type": "execute_result"
    }
   ],
   "source": [
    "soup.find_all('p', class_=\"mb-0 font-size-13\")"
   ]
  },
  {
   "cell_type": "code",
   "execution_count": 61,
   "id": "c0db5330",
   "metadata": {},
   "outputs": [
    {
     "data": {
      "text/plain": [
       "'10 Mins'"
      ]
     },
     "execution_count": 61,
     "metadata": {},
     "output_type": "execute_result"
    }
   ],
   "source": [
    "soup.find_all('p', class_=\"mb-0 font-size-13\")[2].text"
   ]
  },
  {
   "cell_type": "code",
   "execution_count": 62,
   "id": "667ad6ee",
   "metadata": {},
   "outputs": [],
   "source": [
    "def get_make_time(res_soup):\n",
    "    return res_soup.find_all('p', class_=\"mb-0 font-size-13\")[2].text"
   ]
  },
  {
   "cell_type": "code",
   "execution_count": 63,
   "id": "b3e3ce22",
   "metadata": {},
   "outputs": [
    {
     "data": {
      "text/plain": [
       "'10 Mins'"
      ]
     },
     "execution_count": 63,
     "metadata": {},
     "output_type": "execute_result"
    }
   ],
   "source": [
    "get_make_time(soup)"
   ]
  },
  {
   "cell_type": "markdown",
   "id": "3518f1f3",
   "metadata": {},
   "source": [
    "##### Getting serving size"
   ]
  },
  {
   "cell_type": "code",
   "execution_count": 64,
   "id": "740478c5",
   "metadata": {},
   "outputs": [
    {
     "data": {
      "text/plain": [
       "[<p class=\"mb-0 font-size-13 font-size-13\"><strong>4 servings</strong></p>]"
      ]
     },
     "execution_count": 64,
     "metadata": {},
     "output_type": "execute_result"
    }
   ],
   "source": [
    "soup.find_all('p',class_=\"mb-0 font-size-13 font-size-13\")"
   ]
  },
  {
   "cell_type": "code",
   "execution_count": 65,
   "id": "ac9af7a3",
   "metadata": {},
   "outputs": [
    {
     "data": {
      "text/plain": [
       "'4 servings'"
      ]
     },
     "execution_count": 65,
     "metadata": {},
     "output_type": "execute_result"
    }
   ],
   "source": [
    "#using indexing, resolve to .find() if creates a problem later\n",
    "soup.find_all('p',class_=\"mb-0 font-size-13 font-size-13\")[0].text"
   ]
  },
  {
   "cell_type": "code",
   "execution_count": 66,
   "id": "06cf64ff",
   "metadata": {},
   "outputs": [],
   "source": [
    "def get_serving_size(res_soup):\n",
    "    return soup.find_all('p',class_=\"mb-0 font-size-13 font-size-13\")[0].text"
   ]
  },
  {
   "cell_type": "code",
   "execution_count": 67,
   "id": "9c2e969d",
   "metadata": {},
   "outputs": [
    {
     "data": {
      "text/plain": [
       "'4 servings'"
      ]
     },
     "execution_count": 67,
     "metadata": {},
     "output_type": "execute_result"
    }
   ],
   "source": [
    "get_serving_size(soup)"
   ]
  },
  {
   "cell_type": "markdown",
   "id": "a7283ccb",
   "metadata": {},
   "source": [
    "##### Getting the tags"
   ]
  },
  {
   "cell_type": "code",
   "execution_count": 68,
   "id": "bfc92eac",
   "metadata": {},
   "outputs": [
    {
     "data": {
      "text/plain": [
       "<ul class=\"tags-list\">\n",
       "<li><a href=\"/recipes-for-cooking-basics-no-cooking-veg-indian-282\">No Cooking Veg Indian</a></li>\n",
       "<li><a href=\"/recipes-for-salads-Indian-salad-recipes-167\">Indian Salads</a></li>\n",
       "<li><a href=\"/recipes-for-Light-Salads-168\">Light Salads</a></li>\n",
       "<li><a href=\"/recipes-for-Low-Calorie-Salads-Indian-Veg-Low-Cal-Salads-174\">Low Calorie Indian Salad</a></li>\n",
       "<li><a href=\"/recipes-for-Forever-Young-Diet--Anti-Aging-Indian-Diet-376\">Forever Young Diet, Anti Aging Indian Diet</a></li>\n",
       "<li><a href=\"/recipes-for-Beautiful-Skin-Good-Skin-512\">Recipes for glowing skin</a></li>\n",
       "<li><a href=\"/recipes-for-immunity-boosting-Indian-513\">Recipes for Increasing immunity</a></li>\n",
       "</ul>"
      ]
     },
     "execution_count": 68,
     "metadata": {},
     "output_type": "execute_result"
    }
   ],
   "source": [
    "soup.find('ul', class_ = 'tags-list')"
   ]
  },
  {
   "cell_type": "code",
   "execution_count": 69,
   "id": "cbabbe33",
   "metadata": {},
   "outputs": [
    {
     "data": {
      "text/plain": [
       "[<li><a href=\"/recipes-for-cooking-basics-no-cooking-veg-indian-282\">No Cooking Veg Indian</a></li>,\n",
       " <li><a href=\"/recipes-for-salads-Indian-salad-recipes-167\">Indian Salads</a></li>,\n",
       " <li><a href=\"/recipes-for-Light-Salads-168\">Light Salads</a></li>,\n",
       " <li><a href=\"/recipes-for-Low-Calorie-Salads-Indian-Veg-Low-Cal-Salads-174\">Low Calorie Indian Salad</a></li>,\n",
       " <li><a href=\"/recipes-for-Forever-Young-Diet--Anti-Aging-Indian-Diet-376\">Forever Young Diet, Anti Aging Indian Diet</a></li>,\n",
       " <li><a href=\"/recipes-for-Beautiful-Skin-Good-Skin-512\">Recipes for glowing skin</a></li>,\n",
       " <li><a href=\"/recipes-for-immunity-boosting-Indian-513\">Recipes for Increasing immunity</a></li>]"
      ]
     },
     "execution_count": 69,
     "metadata": {},
     "output_type": "execute_result"
    }
   ],
   "source": [
    "li_soup = soup.find('ul', class_ = 'tags-list').find_all('li')\n",
    "li_soup"
   ]
  },
  {
   "cell_type": "code",
   "execution_count": 70,
   "id": "2c920040",
   "metadata": {},
   "outputs": [
    {
     "data": {
      "text/plain": [
       "['No Cooking Veg Indian',\n",
       " 'Indian Salads',\n",
       " 'Light Salads',\n",
       " 'Low Calorie Indian Salad',\n",
       " 'Forever Young Diet, Anti Aging Indian Diet',\n",
       " 'Recipes for glowing skin',\n",
       " 'Recipes for Increasing immunity']"
      ]
     },
     "execution_count": 70,
     "metadata": {},
     "output_type": "execute_result"
    }
   ],
   "source": [
    "tags = [li.text for li in li_soup]\n",
    "tags\n"
   ]
  },
  {
   "cell_type": "code",
   "execution_count": 71,
   "id": "9f16fed5",
   "metadata": {},
   "outputs": [
    {
     "data": {
      "text/plain": [
       "['No Cooking Veg Indian',\n",
       " 'Indian Salads',\n",
       " 'Light Salads',\n",
       " 'Low Calorie Indian Salad',\n",
       " 'Forever Young Diet, Anti Aging Indian Diet',\n",
       " 'Recipes for glowing skin',\n",
       " 'Recipes for Increasing immunity',\n",
       " 'Salads-to-control-Acidity',\n",
       " 'Healthy-Fruit-Based-Salads']"
      ]
     },
     "execution_count": 71,
     "metadata": {},
     "output_type": "execute_result"
    }
   ],
   "source": [
    "# also need to add the category as tag\n",
    "\n",
    "tags.extend(recipe_tags[recipies[0]])\n",
    "tags"
   ]
  },
  {
   "cell_type": "code",
   "execution_count": 72,
   "id": "0518ef79",
   "metadata": {},
   "outputs": [],
   "source": [
    "def get_tags(res_soup):\n",
    "    li_soup = res_soup.find('ul', class_ = 'tags-list').find_all('li')\n",
    "    tags = [li.text for li in li_soup]\n",
    "    tags.extend(recipe_tags[recipy])  # recipy will be the iterator in main function\n",
    "    return tags"
   ]
  },
  {
   "cell_type": "markdown",
   "id": "ae7d2b6f",
   "metadata": {},
   "source": [
    "#### Getting the ingredients"
   ]
  },
  {
   "cell_type": "code",
   "execution_count": 92,
   "id": "f13f1711",
   "metadata": {},
   "outputs": [],
   "source": [
    "ingredient_div = soup.find('div', class_=\"ingredients\")"
   ]
  },
  {
   "cell_type": "code",
   "execution_count": null,
   "id": "cbf515c7",
   "metadata": {},
   "outputs": [
    {
     "name": "stdout",
     "output_type": "stream",
     "text": [
      "1 cup sweet lime (mosambi) segments\n",
      "1 cup yellow and green capsicum cubes\n",
      "2 cups lettuce , torn into pieces\n",
      "1 cup cucumber cubes\n",
      "1/2 tsp mustard (rai / sarson) powder\n",
      "1/2 tsp freshly ground black pepper (kalimirch)\n",
      "1 tbsp lemon juice\n",
      "salt to taste\n"
     ]
    }
   ],
   "source": [
    "\n",
    "for p in ingredient_div.find_all('p'):\n",
    "    text = p.get_text(strip=True,separator=\" \")\n",
    "    print(text)"
   ]
  },
  {
   "cell_type": "code",
   "execution_count": 95,
   "id": "110e4e67",
   "metadata": {},
   "outputs": [],
   "source": [
    "def get_ingredients(res_soup):\n",
    "    ingredient_div = soup.find('div', class_=\"ingredients\")\n",
    "    ingredients=[]\n",
    "    for p in ingredient_div.find_all('p'):\n",
    "        text = p.get_text(strip=True,separator=\" \")\n",
    "        ingredients.append(text)\n",
    "    return ingredients"
   ]
  },
  {
   "cell_type": "code",
   "execution_count": 96,
   "id": "ba76d878",
   "metadata": {},
   "outputs": [
    {
     "data": {
      "text/plain": [
       "['1 cup sweet lime (mosambi) segments',\n",
       " '1 cup yellow and green capsicum cubes',\n",
       " '2 cups lettuce , torn into pieces',\n",
       " '1 cup cucumber cubes',\n",
       " '1/2 tsp mustard (rai / sarson) powder',\n",
       " '1/2 tsp freshly ground black pepper (kalimirch)',\n",
       " '1 tbsp lemon juice',\n",
       " 'salt to taste']"
      ]
     },
     "execution_count": 96,
     "metadata": {},
     "output_type": "execute_result"
    }
   ],
   "source": [
    "get_ingredients(soup)"
   ]
  },
  {
   "cell_type": "markdown",
   "id": "2b895379",
   "metadata": {},
   "source": [
    "#### Getting the instructions"
   ]
  }
 ],
 "metadata": {
  "kernelspec": {
   "display_name": "Python 3",
   "language": "python",
   "name": "python3"
  },
  "language_info": {
   "codemirror_mode": {
    "name": "ipython",
    "version": 3
   },
   "file_extension": ".py",
   "mimetype": "text/x-python",
   "name": "python",
   "nbconvert_exporter": "python",
   "pygments_lexer": "ipython3",
   "version": "3.13.2"
  }
 },
 "nbformat": 4,
 "nbformat_minor": 5
}
