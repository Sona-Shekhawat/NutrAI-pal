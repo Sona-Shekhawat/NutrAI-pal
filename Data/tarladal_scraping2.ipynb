{
 "cells": [
  {
   "cell_type": "markdown",
   "id": "0df225ee",
   "metadata": {},
   "source": [
    "### Scraping more healthy indian recipes"
   ]
  },
  {
   "cell_type": "markdown",
   "id": "ae584976",
   "metadata": {},
   "source": [
    "- Recipe name\n",
    "- Ingredients list\n",
    "- Cooking time\n",
    "- Instructions\n",
    "- Nutrient info \n",
    "- Tags (e.g., vegan, keto, veg/non veg)\n",
    "\n",
    "website: https://www.tarladalal.com/\n",
    "-nutrient breakdown avaliable too"
   ]
  },
  {
   "cell_type": "markdown",
   "id": "92b8f5ed",
   "metadata": {},
   "source": [
    "#### Import dependencies"
   ]
  },
  {
   "cell_type": "code",
   "execution_count": 2,
   "id": "9f5a16e2",
   "metadata": {},
   "outputs": [],
   "source": [
    "import pandas as pd\n",
    "import requests\n",
    "from bs4 import BeautifulSoup"
   ]
  },
  {
   "cell_type": "code",
   "execution_count": 13,
   "id": "bc7bef5a",
   "metadata": {},
   "outputs": [],
   "source": [
    "webpage = requests.get(\"https://www.tarladalal.com/category/Healthy-Indian-Recipes/\").text"
   ]
  },
  {
   "cell_type": "code",
   "execution_count": 14,
   "id": "58609d30",
   "metadata": {},
   "outputs": [],
   "source": [
    "soup = BeautifulSoup(webpage, 'lxml')"
   ]
  },
  {
   "cell_type": "code",
   "execution_count": 102,
   "id": "ea040c71",
   "metadata": {},
   "outputs": [
    {
     "data": {
      "text/plain": [
       "[<div class=\"text-center\">\n",
       " <a class=\"btn btn-main primary-bg\" href=\"/recipes/category/Vitamin-B12-Cobalamin-Rich-Foods/\">View All</a>\n",
       " </div>,\n",
       " <div class=\"text-center\">\n",
       " <a class=\"btn btn-main primary-bg\" href=\"/recipes/category/Healthy-Low-Calorie-Weight-Loss/\">View All</a>\n",
       " </div>,\n",
       " <div class=\"text-center\">\n",
       " <a class=\"btn btn-main primary-bg\" href=\"/recipes/category/Insoluble-Fiber-Diet/\">View All</a>\n",
       " </div>,\n",
       " <div class=\"text-center\">\n",
       " <a class=\"btn btn-main primary-bg\" href=\"/recipes/category/Low-Cholesterol-/\">View All</a>\n",
       " </div>,\n",
       " <div class=\"text-center\">\n",
       " <a class=\"btn btn-main primary-bg\" href=\"/recipes/category/Soluble-Fibre-Diet/\">View All</a>\n",
       " </div>]"
      ]
     },
     "execution_count": 102,
     "metadata": {},
     "output_type": "execute_result"
    }
   ],
   "source": [
    "# Getting all recipe links from the main page \n",
    "# thet are stored in div tags of class text-center\n",
    "soup.find_all('div',class_=\"text-center\")[:5]"
   ]
  },
  {
   "cell_type": "code",
   "execution_count": 99,
   "id": "f1fb9687",
   "metadata": {},
   "outputs": [],
   "source": [
    "# getting the tag links from the href attrbute of anchor tag\n",
    "tags_links=[]\n",
    "for div in soup.find_all('div',class_=\"text-center\")[:-1]:\n",
    "    tags_links.append(div.find('a').get(\"href\"))"
   ]
  },
  {
   "cell_type": "code",
   "execution_count": 103,
   "id": "57e1413f",
   "metadata": {},
   "outputs": [
    {
     "data": {
      "text/plain": [
       "['/recipes/category/Vitamin-B12-Cobalamin-Rich-Foods/',\n",
       " '/recipes/category/Healthy-Low-Calorie-Weight-Loss/',\n",
       " '/recipes/category/Insoluble-Fiber-Diet/',\n",
       " '/recipes/category/Low-Cholesterol-/',\n",
       " '/recipes/category/Soluble-Fibre-Diet/']"
      ]
     },
     "execution_count": 103,
     "metadata": {},
     "output_type": "execute_result"
    }
   ],
   "source": [
    "tags_links[:5]"
   ]
  },
  {
   "cell_type": "code",
   "execution_count": 104,
   "id": "c6ba8a72",
   "metadata": {},
   "outputs": [
    {
     "data": {
      "text/plain": [
       "['/recipes/category/Lactose-Free-Dairy-Free-Cake-/',\n",
       " '/recipes/category/Chronic-Kidney-Disease/',\n",
       " '/recipes/category/indian-recipes-for-relief-from-pregnancy-constipation/',\n",
       " '/recipes/category/healthy-indian-soups-under-100-calories/',\n",
       " '/recipes/category/selenium1/']"
      ]
     },
     "execution_count": 104,
     "metadata": {},
     "output_type": "execute_result"
    }
   ],
   "source": [
    "tags_links[-5:]"
   ]
  },
  {
   "cell_type": "markdown",
   "id": "3c46e8fa",
   "metadata": {},
   "source": [
    "- They are in the form of relative address to the main page, so let's prefix them with the address \"https://www.tarladalal.com/\""
   ]
  },
  {
   "cell_type": "code",
   "execution_count": 105,
   "id": "2e24424c",
   "metadata": {},
   "outputs": [],
   "source": [
    "cleaned_tags_links = [\"https://www.tarladalal.com\"+link for link in tags_links ]"
   ]
  },
  {
   "cell_type": "code",
   "execution_count": 106,
   "id": "9678e00b",
   "metadata": {},
   "outputs": [
    {
     "data": {
      "text/plain": [
       "['https://www.tarladalal.com/recipes/category/Vitamin-B12-Cobalamin-Rich-Foods/',\n",
       " 'https://www.tarladalal.com/recipes/category/Healthy-Low-Calorie-Weight-Loss/',\n",
       " 'https://www.tarladalal.com/recipes/category/Insoluble-Fiber-Diet/',\n",
       " 'https://www.tarladalal.com/recipes/category/Low-Cholesterol-/',\n",
       " 'https://www.tarladalal.com/recipes/category/Soluble-Fibre-Diet/']"
      ]
     },
     "execution_count": 106,
     "metadata": {},
     "output_type": "execute_result"
    }
   ],
   "source": [
    "cleaned_tags_links[:5]"
   ]
  },
  {
   "cell_type": "code",
   "execution_count": 107,
   "id": "99030ac1",
   "metadata": {},
   "outputs": [
    {
     "data": {
      "text/plain": [
       "['https://www.tarladalal.com/recipes/category/Lactose-Free-Dairy-Free-Cake-/',\n",
       " 'https://www.tarladalal.com/recipes/category/Chronic-Kidney-Disease/',\n",
       " 'https://www.tarladalal.com/recipes/category/indian-recipes-for-relief-from-pregnancy-constipation/',\n",
       " 'https://www.tarladalal.com/recipes/category/healthy-indian-soups-under-100-calories/',\n",
       " 'https://www.tarladalal.com/recipes/category/selenium1/']"
      ]
     },
     "execution_count": 107,
     "metadata": {},
     "output_type": "execute_result"
    }
   ],
   "source": [
    "cleaned_tags_links[-5:]"
   ]
  },
  {
   "cell_type": "code",
   "execution_count": 108,
   "id": "6ac026e4",
   "metadata": {},
   "outputs": [
    {
     "data": {
      "text/plain": [
       "437"
      ]
     },
     "execution_count": 108,
     "metadata": {},
     "output_type": "execute_result"
    }
   ],
   "source": [
    "# total filters or tags\n",
    "len(cleaned_tags_links)"
   ]
  },
  {
   "cell_type": "markdown",
   "id": "ecceee93",
   "metadata": {},
   "source": [
    "- therefore, now we have 437 different filters or tags \n",
    "- let's go through each link and extract recipes under that category"
   ]
  },
  {
   "cell_type": "code",
   "execution_count": null,
   "id": "755ed555",
   "metadata": {},
   "outputs": [],
   "source": [
    "# get recipie links from categories\n",
    "def get_recipie_links(category_link):\n",
    "    website = requests.get(category_link).text\n",
    "    soup = BeautifulSoup(website, \"lxml\")\n",
    "    tags_links=[]\n",
    "\n",
    "    # getting links\n",
    "    for div in soup.find_all('div',class_=\"img-block\"):\n",
    "        tags_links.append(div.find('a').get(\"href\"))\n",
    "    \n",
    "    #filtering links\n",
    "    recipies = [\"https://www.tarladalal.com\"+link for link in tags_links ]\n",
    "\n",
    "    return recipies "
   ]
  },
  {
   "cell_type": "markdown",
   "id": "fafe30f9",
   "metadata": {},
   "source": [
    "- now we can use this function to extract recipe links from under each category.\n",
    "- Next, we scrape through each recipe page to get our required data"
   ]
  },
  {
   "cell_type": "code",
   "execution_count": 119,
   "id": "3ff3bbb6",
   "metadata": {},
   "outputs": [],
   "source": [
    "recipies = []\n",
    "for category in cleaned_tags_links:\n",
    "    recipies.extend(get_recipie_links(category))"
   ]
  },
  {
   "cell_type": "code",
   "execution_count": 121,
   "id": "e9b2b6e6",
   "metadata": {},
   "outputs": [
    {
     "data": {
      "text/plain": [
       "13884"
      ]
     },
     "execution_count": 121,
     "metadata": {},
     "output_type": "execute_result"
    }
   ],
   "source": [
    "len(recipies)"
   ]
  },
  {
   "cell_type": "code",
   "execution_count": 122,
   "id": "692551cf",
   "metadata": {},
   "outputs": [
    {
     "data": {
      "text/plain": [
       "['https://www.tarladalal.com/rabri-or-how-to-make-rabdi-1099r',\n",
       " 'https://www.tarladalal.com/paneer-tikka-2754r',\n",
       " 'https://www.tarladalal.com/green-chutney-how-to-make-green-chutney-recipe-22266r',\n",
       " 'https://www.tarladalal.com/rice-noodles-with-vegetables-in-thai-red-curry-sauce-465r',\n",
       " 'https://www.tarladalal.com/dal-dhokli--gujarat-recipe-578r']"
      ]
     },
     "execution_count": 122,
     "metadata": {},
     "output_type": "execute_result"
    }
   ],
   "source": [
    "recipies[-5:]"
   ]
  },
  {
   "cell_type": "markdown",
   "id": "31153f60",
   "metadata": {},
   "source": [
    "- Hence, we have 13884 recipies now"
   ]
  },
  {
   "cell_type": "markdown",
   "id": "e3ea1873",
   "metadata": {},
   "source": [
    "#### Scraping through the first recipe page\n"
   ]
  },
  {
   "cell_type": "code",
   "execution_count": 123,
   "id": "601cbc0d",
   "metadata": {},
   "outputs": [
    {
     "data": {
      "text/plain": [
       "'https://www.tarladalal.com/paneer-masala-2404r'"
      ]
     },
     "execution_count": 123,
     "metadata": {},
     "output_type": "execute_result"
    }
   ],
   "source": [
    "recipies[0]"
   ]
  },
  {
   "cell_type": "markdown",
   "id": "6c7a8256",
   "metadata": {},
   "source": [
    "- Features we need:\n",
    "- name, serving size, Time to make, tags, ingredients, nutrition, instructions"
   ]
  },
  {
   "cell_type": "code",
   "execution_count": 125,
   "id": "24e1b264",
   "metadata": {},
   "outputs": [],
   "source": [
    "website = requests.get(recipies[0]).text\n",
    "soup = BeautifulSoup(website,'lxml')"
   ]
  },
  {
   "cell_type": "markdown",
   "id": "403c3ca2",
   "metadata": {},
   "source": [
    "##### Getting the name\n"
   ]
  },
  {
   "cell_type": "code",
   "execution_count": 131,
   "id": "4972abed",
   "metadata": {},
   "outputs": [
    {
     "data": {
      "text/plain": [
       "'paneer masala recipe | Punjabi paneer masala | dhaba style paneer masala'"
      ]
     },
     "execution_count": 131,
     "metadata": {},
     "output_type": "execute_result"
    }
   ],
   "source": [
    "soup.find(\"h4\", class_ = \"rec-heading\").text"
   ]
  },
  {
   "cell_type": "code",
   "execution_count": 132,
   "id": "e5dc3aee",
   "metadata": {},
   "outputs": [
    {
     "data": {
      "text/plain": [
       "['paneer masala recipe ',\n",
       " ' Punjabi paneer masala ',\n",
       " ' dhaba style paneer masala']"
      ]
     },
     "execution_count": 132,
     "metadata": {},
     "output_type": "execute_result"
    }
   ],
   "source": [
    "soup.find(\"h4\", class_ = \"rec-heading\").text.split(\"|\")"
   ]
  },
  {
   "cell_type": "code",
   "execution_count": 135,
   "id": "f113060e",
   "metadata": {},
   "outputs": [
    {
     "data": {
      "text/plain": [
       "'paneer masala recipe'"
      ]
     },
     "execution_count": 135,
     "metadata": {},
     "output_type": "execute_result"
    }
   ],
   "source": [
    "# just taking the first name:\n",
    "soup.find(\"h4\", class_ = \"rec-heading\").text.split(\"|\")[0].strip()"
   ]
  },
  {
   "cell_type": "code",
   "execution_count": 149,
   "id": "32bcbabf",
   "metadata": {},
   "outputs": [],
   "source": [
    "def find_name(rec_soup):\n",
    "    # it will most probably have only one h4 tag so use .find()\n",
    "    return rec_soup.find(\"h4\", class_ = \"rec-heading\").text.split(\"|\")[0].strip()"
   ]
  },
  {
   "cell_type": "code",
   "execution_count": 151,
   "id": "d43a9dbe",
   "metadata": {},
   "outputs": [
    {
     "data": {
      "text/plain": [
       "'paneer masala recipe'"
      ]
     },
     "execution_count": 151,
     "metadata": {},
     "output_type": "execute_result"
    }
   ],
   "source": [
    "find_name(soup)"
   ]
  },
  {
   "cell_type": "markdown",
   "id": "96a5e9df",
   "metadata": {},
   "source": [
    "##### Getting the Make time"
   ]
  },
  {
   "cell_type": "code",
   "execution_count": 156,
   "id": "0edc06f0",
   "metadata": {},
   "outputs": [
    {
     "data": {
      "text/plain": [
       "[<p class=\"mb-0 font-size-13\"><strong>10 Mins</strong></p>,\n",
       " <p class=\"mb-0 font-size-13\"><strong>12 Mins</strong></p>,\n",
       " <p class=\"mb-0 font-size-13\"><strong>22 Mins</strong></p>]"
      ]
     },
     "execution_count": 156,
     "metadata": {},
     "output_type": "execute_result"
    }
   ],
   "source": [
    "soup.find_all('p', class_=\"mb-0 font-size-13\")"
   ]
  },
  {
   "cell_type": "code",
   "execution_count": 157,
   "id": "c0db5330",
   "metadata": {},
   "outputs": [
    {
     "data": {
      "text/plain": [
       "'22 Mins'"
      ]
     },
     "execution_count": 157,
     "metadata": {},
     "output_type": "execute_result"
    }
   ],
   "source": [
    "soup.find_all('p', class_=\"mb-0 font-size-13\")[2].text"
   ]
  },
  {
   "cell_type": "code",
   "execution_count": 160,
   "id": "667ad6ee",
   "metadata": {},
   "outputs": [],
   "source": [
    "def get_make_time(res_soup):\n",
    "    return res_soup.find_all('p', class_=\"mb-0 font-size-13\")[2].text"
   ]
  },
  {
   "cell_type": "code",
   "execution_count": 161,
   "id": "b3e3ce22",
   "metadata": {},
   "outputs": [
    {
     "data": {
      "text/plain": [
       "'22 Mins'"
      ]
     },
     "execution_count": 161,
     "metadata": {},
     "output_type": "execute_result"
    }
   ],
   "source": [
    "get_make_time(soup)"
   ]
  },
  {
   "cell_type": "markdown",
   "id": "3518f1f3",
   "metadata": {},
   "source": [
    "##### Getting serving size"
   ]
  },
  {
   "cell_type": "code",
   "execution_count": 168,
   "id": "740478c5",
   "metadata": {},
   "outputs": [
    {
     "data": {
      "text/plain": [
       "[<p class=\"mb-0 font-size-13 font-size-13\"><strong>4 servings</strong></p>]"
      ]
     },
     "execution_count": 168,
     "metadata": {},
     "output_type": "execute_result"
    }
   ],
   "source": [
    "soup.find_all('p',class_=\"mb-0 font-size-13 font-size-13\")"
   ]
  },
  {
   "cell_type": "code",
   "execution_count": 170,
   "id": "ac9af7a3",
   "metadata": {},
   "outputs": [
    {
     "data": {
      "text/plain": [
       "'4 servings'"
      ]
     },
     "execution_count": 170,
     "metadata": {},
     "output_type": "execute_result"
    }
   ],
   "source": [
    "#using indexing, resolve to .find() if creates a problem later\n",
    "soup.find_all('p',class_=\"mb-0 font-size-13 font-size-13\")[0].text"
   ]
  },
  {
   "cell_type": "code",
   "execution_count": 171,
   "id": "06cf64ff",
   "metadata": {},
   "outputs": [],
   "source": [
    "def get_serving_size(res_soup):\n",
    "    return soup.find_all('p',class_=\"mb-0 font-size-13 font-size-13\")[0].text"
   ]
  },
  {
   "cell_type": "code",
   "execution_count": 172,
   "id": "9c2e969d",
   "metadata": {},
   "outputs": [
    {
     "data": {
      "text/plain": [
       "'4 servings'"
      ]
     },
     "execution_count": 172,
     "metadata": {},
     "output_type": "execute_result"
    }
   ],
   "source": [
    "get_serving_size(soup)"
   ]
  },
  {
   "cell_type": "markdown",
   "id": "a7283ccb",
   "metadata": {},
   "source": [
    "##### Getting the tags"
   ]
  },
  {
   "cell_type": "code",
   "execution_count": 175,
   "id": "bfc92eac",
   "metadata": {},
   "outputs": [
    {
     "data": {
      "text/plain": [
       "<ul class=\"tags-list\">\n",
       "<li><a href=\"/recipes-for-Indian-dinner-939\">Indian Dinner</a></li>\n",
       "<li><a href=\"/recipes-for-North-Indian-Dinner-948\">North Indian Dinner</a></li>\n",
       "<li><a href=\"/recipes-for-Indian-Lunch-926\">Indian Lunch</a></li>\n",
       "<li><a href=\"/recipes-for-Must-have-Sabzis-for-Lunch-Indian-Veg-929\">Lunch Sabzi</a></li>\n",
       "<li><a href=\"/recipes-for-Subzis-with-Gravies-211\">Sabzis with Gravies</a></li>\n",
       "<li><a href=\"/recipes-for-Sabzi-Curries-Collection--207\">Sabzis, Curries</a></li>\n",
       "<li><a href=\"/recipes-for-main-sabzis-curries-traditional-indian-sabzis-214\">Traditional Indian Sabzis</a></li>\n",
       "</ul>"
      ]
     },
     "execution_count": 175,
     "metadata": {},
     "output_type": "execute_result"
    }
   ],
   "source": [
    "soup.find('ul', class_ = 'tags-list')"
   ]
  },
  {
   "cell_type": "code",
   "execution_count": 178,
   "id": "cbabbe33",
   "metadata": {},
   "outputs": [
    {
     "data": {
      "text/plain": [
       "[<li><a href=\"/recipes-for-Indian-dinner-939\">Indian Dinner</a></li>,\n",
       " <li><a href=\"/recipes-for-North-Indian-Dinner-948\">North Indian Dinner</a></li>,\n",
       " <li><a href=\"/recipes-for-Indian-Lunch-926\">Indian Lunch</a></li>,\n",
       " <li><a href=\"/recipes-for-Must-have-Sabzis-for-Lunch-Indian-Veg-929\">Lunch Sabzi</a></li>,\n",
       " <li><a href=\"/recipes-for-Subzis-with-Gravies-211\">Sabzis with Gravies</a></li>,\n",
       " <li><a href=\"/recipes-for-Sabzi-Curries-Collection--207\">Sabzis, Curries</a></li>,\n",
       " <li><a href=\"/recipes-for-main-sabzis-curries-traditional-indian-sabzis-214\">Traditional Indian Sabzis</a></li>]"
      ]
     },
     "execution_count": 178,
     "metadata": {},
     "output_type": "execute_result"
    }
   ],
   "source": [
    "li_soup = soup.find('ul', class_ = 'tags-list').find_all('li')\n",
    "li_soup"
   ]
  },
  {
   "cell_type": "code",
   "execution_count": 179,
   "id": "2c920040",
   "metadata": {},
   "outputs": [
    {
     "data": {
      "text/plain": [
       "['Indian Dinner',\n",
       " 'North Indian Dinner',\n",
       " 'Indian Lunch',\n",
       " 'Lunch Sabzi',\n",
       " 'Sabzis with Gravies',\n",
       " 'Sabzis, Curries',\n",
       " 'Traditional Indian Sabzis']"
      ]
     },
     "execution_count": 179,
     "metadata": {},
     "output_type": "execute_result"
    }
   ],
   "source": [
    "tags = [li.text for li in li_soup]\n",
    "tags\n"
   ]
  },
  {
   "cell_type": "code",
   "execution_count": 180,
   "id": "9f16fed5",
   "metadata": {},
   "outputs": [
    {
     "data": {
      "text/plain": [
       "['https://www.tarladalal.com/recipes/category/Vitamin-B12-Cobalamin-Rich-Foods/',\n",
       " 'https://www.tarladalal.com/recipes/category/Healthy-Low-Calorie-Weight-Loss/',\n",
       " 'https://www.tarladalal.com/recipes/category/Insoluble-Fiber-Diet/',\n",
       " 'https://www.tarladalal.com/recipes/category/Low-Cholesterol-/',\n",
       " 'https://www.tarladalal.com/recipes/category/Soluble-Fibre-Diet/',\n",
       " 'https://www.tarladalal.com/recipes/category/Healthy-Breakfast/',\n",
       " 'https://www.tarladalal.com/recipes/category/Indian-Diabetic-Recipes/',\n",
       " 'https://www.tarladalal.com/recipes/category/Healthy-Pregnancy-/',\n",
       " 'https://www.tarladalal.com/recipes/category/Healthy-Zero-Oil/',\n",
       " 'https://www.tarladalal.com/recipes/category/Iron-Rich-/',\n",
       " 'https://www.tarladalal.com/recipes/category/Acidity-Heartburn-Acid-Reflux-and-Gerd/',\n",
       " 'https://www.tarladalal.com/recipes/category/Healthy-Sabzis/',\n",
       " 'https://www.tarladalal.com/recipes/category/Healthy-Indian-Snacks/',\n",
       " 'https://www.tarladalal.com/recipes/category/Healthy-Heart/',\n",
       " 'https://www.tarladalal.com/recipes/category/healthy-Indian-soups/',\n",
       " 'https://www.tarladalal.com/recipes/category/Calcium-Rich/',\n",
       " 'https://www.tarladalal.com/recipes/category/High-Blood-Pressure/',\n",
       " 'https://www.tarladalal.com/recipes/category/Healthy-Indian-Salads/',\n",
       " 'https://www.tarladalal.com/recipes/category/Low-Carb-Veg-Indian-Recipes/',\n",
       " 'https://www.tarladalal.com/recipes/category/High-Fiber-Constipation-/',\n",
       " 'https://www.tarladalal.com/recipes/category/Diabetic-Breakfast-Recipes/',\n",
       " 'https://www.tarladalal.com/recipes/category/Hypothyroidism-Veg-Diet-Indian-Recipes/',\n",
       " 'https://www.tarladalal.com/recipes/category/Home-Remedies-for-Diarrhoea-Loose-Motion/',\n",
       " 'https://www.tarladalal.com/recipes/category/Arthritis-Diet-Foods-To-Ease-Arthritis-Pain/',\n",
       " 'https://www.tarladalal.com/recipes/category/Vitamin-K-Diet/',\n",
       " 'https://www.tarladalal.com/recipes/category/Protein-Rich-Foods-Indian-Veg-Protein-Rich-Recipes/',\n",
       " 'https://www.tarladalal.com/recipes/category/Diabetic-Starters-Snacks-Recipes/',\n",
       " 'https://www.tarladalal.com/recipes/category/Low-Calorie-Snacks-Starters/',\n",
       " 'https://www.tarladalal.com/recipes/category/Fatty-Liver-Diet/',\n",
       " 'https://www.tarladalal.com/recipes/category/PCOS/',\n",
       " 'https://www.tarladalal.com/recipes/category/Pregnancy-First-Trimester-/',\n",
       " 'https://www.tarladalal.com/recipes/category/Home-Remedies-to-relieve-Constipation/',\n",
       " 'https://www.tarladalal.com/recipes/category/Gluten-Free-Indian-recipes/',\n",
       " 'https://www.tarladalal.com/recipes/category/Diabetic-Indian-Vegetarian-Salad-Recipes/',\n",
       " 'https://www.tarladalal.com/recipes/category/High-protein-Indian-breakfast-recipes-Healthy-protein-rich-breakfast/',\n",
       " 'https://www.tarladalal.com/recipes/category/Low-Carb-Dinner-Recipes-Veg-Indian-Low-Carb-Meal/',\n",
       " 'https://www.tarladalal.com/recipes/category/Low-Acid-Drinks-Reduce-Acid-Reflux/',\n",
       " 'https://www.tarladalal.com/recipes/category/Zero-Oil-Snacks/',\n",
       " 'https://www.tarladalal.com/recipes/category/Low-Calorie-Indian-Soups/',\n",
       " 'https://www.tarladalal.com/recipes/category/Low-Calorie-Salads/',\n",
       " 'https://www.tarladalal.com/recipes/category/High-Fiber/',\n",
       " 'https://www.tarladalal.com/recipes/category/Home-Remedies-for-Stomach-ache-stomach-pain-Indigestion-Appetite-Loss/',\n",
       " 'https://www.tarladalal.com/recipes/category/Home-Remedies-for-Fever/',\n",
       " 'https://www.tarladalal.com/recipes/category/Iron-Rich-Breakfast/',\n",
       " 'https://www.tarladalal.com/recipes/category/High-Fiber-Breakfast/',\n",
       " 'https://www.tarladalal.com/recipes/category/Indian-Cancer-recipes/',\n",
       " 'https://www.tarladalal.com/recipes/category/Pregnancy-Breakfast-Indian-Healthy/',\n",
       " 'https://www.tarladalal.com/recipes/category/Healthy-Indain-Juices-for-Cancer-Patients/',\n",
       " 'https://www.tarladalal.com/recipes/category/Jaundice-Diet/',\n",
       " 'https://www.tarladalal.com/recipes/category/Senior-Citizen-Easy-to-Chew/',\n",
       " 'https://www.tarladalal.com/recipes/category/Soups-for-Pregnancy-/',\n",
       " 'https://www.tarladalal.com/recipes/category/Home-Remedies-for-Cough-Colds/',\n",
       " 'https://www.tarladalal.com/recipes/category/Gluten-Free-Rotis/',\n",
       " 'https://www.tarladalal.com/recipes/category/PCOS-Breakfast/',\n",
       " 'https://www.tarladalal.com/recipes/category/Healthy-Quick-Snacks/',\n",
       " 'https://www.tarladalal.com/recipes/category/Healthy-Sandwich-Breakfast/',\n",
       " 'https://www.tarladalal.com/recipes/category/Sprouts/',\n",
       " 'https://www.tarladalal.com/recipes/category/Low-Cal-Rotis-Parathas-for-Weight-Loss/',\n",
       " 'https://www.tarladalal.com/recipes/category/Low-Calorie-Dinner/',\n",
       " 'https://www.tarladalal.com/recipes/category/Chemotherapy-Cancer-Patients/',\n",
       " 'https://www.tarladalal.com/recipes/category/Typhoid/',\n",
       " 'https://www.tarladalal.com/recipes/category/Irritable-Bowel-Syndrome/',\n",
       " 'https://www.tarladalal.com/recipes/category/Low-Carb-Indian-Snacks/',\n",
       " 'https://www.tarladalal.com/recipes/category/Kidney-Stone-Diet/',\n",
       " 'https://www.tarladalal.com/recipes/category/Breakfast-Acidity-Snack-Acidity-/',\n",
       " 'https://www.tarladalal.com/recipes/category/Diabetic-Soup-Recipes/',\n",
       " 'https://www.tarladalal.com/recipes/category/Low-Carb-Breakfast/',\n",
       " 'https://www.tarladalal.com/recipes/category/Indian-Diabetic-Dessert/',\n",
       " 'https://www.tarladalal.com/recipes/category/Pregnancy-Snacks-/',\n",
       " 'https://www.tarladalal.com/recipes/category/Low-Calorie-Sabzis/',\n",
       " 'https://www.tarladalal.com/recipes/category/Gluten-Free-Indian-Snacks/',\n",
       " 'https://www.tarladalal.com/recipes/category/Diabetic-Roti-Paratha-Recipes/',\n",
       " 'https://www.tarladalal.com/recipes/category/Home-Remedies/',\n",
       " 'https://www.tarladalal.com/recipes/category/Diabetes-and-Kidney-friendly-recipes/',\n",
       " 'https://www.tarladalal.com/recipes/category/Low-Calorie-Indian-Mithai-Sweets-Desserts/',\n",
       " 'https://www.tarladalal.com/recipes/category/Low-Cholesterol-Breakfast/',\n",
       " 'https://www.tarladalal.com/recipes/category/Healthy-Indian-Dinner-for-Weight-Loss/',\n",
       " 'https://www.tarladalal.com/recipes/category/Diet-Tips-For-Pregnancy-Hypothyroidism/',\n",
       " 'https://www.tarladalal.com/recipes/category/Soft-Diet/',\n",
       " 'https://www.tarladalal.com/recipes/category/Pregnancy-Juices-and-Drinks-/',\n",
       " 'https://www.tarladalal.com/recipes/category/PCOS-Indian-/',\n",
       " 'https://www.tarladalal.com/recipes/category/Diabetes-and-High-Blood-Pressure-Diet/',\n",
       " 'https://www.tarladalal.com/recipes/category/Iron-Deficiency-Anaemia-Hypothyroidism-Diet/',\n",
       " 'https://www.tarladalal.com/recipes/category/Low-Sodium-Breakfast/',\n",
       " 'https://www.tarladalal.com/recipes/category/Senior-Citizens/',\n",
       " 'https://www.tarladalal.com/recipes/category/Senior-Citizen-Easy-to-Swallow/',\n",
       " 'https://www.tarladalal.com/recipes/category/Diet-for-Dialysis-/',\n",
       " 'https://www.tarladalal.com/recipes/category/Full-Fluid-Diet/',\n",
       " 'https://www.tarladalal.com/recipes/category/Cancer-Breakfast/',\n",
       " 'https://www.tarladalal.com/recipes/category/Healthy-Indian-Drinks-Juices-for-Weight-Loss/',\n",
       " 'https://www.tarladalal.com/recipes/category/healthy-Indian-school-snacks-for-kids/',\n",
       " 'https://www.tarladalal.com/recipes/category/indian-salads-for-pregnancy/',\n",
       " 'https://www.tarladalal.com/recipes/category/protein-rich-foods-for-pregnancy/',\n",
       " 'https://www.tarladalal.com/recipes/category/Zero-Oil-Sabzis/',\n",
       " 'https://www.tarladalal.com/recipes/category/Diabetic-Sabzis/',\n",
       " 'https://www.tarladalal.com/recipes/category/High-Protein-Starters-Snacks/',\n",
       " 'https://www.tarladalal.com/recipes/category/Gout-Diet/',\n",
       " 'https://www.tarladalal.com/recipes/category/Soups-to-reduce-Acidity/',\n",
       " 'https://www.tarladalal.com/recipes/category/Home-Remedies-for-sore-throat-throat-pain/',\n",
       " 'https://www.tarladalal.com/recipes/category/Pregnancy-Third-Trimester-/',\n",
       " 'https://www.tarladalal.com/recipes/category/Low-Calorie-Lunch/',\n",
       " 'https://www.tarladalal.com/recipes/category/Calcium-Rich-Breakfast-Recipes/',\n",
       " 'https://www.tarladalal.com/recipes/category/Pregnancy-Dals-and-Vegetables-/',\n",
       " 'https://www.tarladalal.com/recipes/category/Pregnancy-Second-Trimester-/',\n",
       " 'https://www.tarladalal.com/recipes/category/PCOS-Weight-Loss/',\n",
       " 'https://www.tarladalal.com/recipes/category/Soups-to-control-Blood-Pressure/',\n",
       " 'https://www.tarladalal.com/recipes/category/High-Fiber-Dinner-Main-Dish/',\n",
       " 'https://www.tarladalal.com/recipes/category/Iron-Rich-Indian-vegetarian-recipes-for-Pregnancy/',\n",
       " 'https://www.tarladalal.com/recipes/category/Healthy-Indian-Salad-with-Dressings/',\n",
       " 'https://www.tarladalal.com/recipes/category/High-Protein-Rotis-Parathas/',\n",
       " 'https://www.tarladalal.com/recipes/category/High-Cholesterol-Hypothyroidism-Diet/',\n",
       " 'https://www.tarladalal.com/recipes/category/Calcium-Rich-Drinks-Smoothies-Juices/',\n",
       " 'https://www.tarladalal.com/recipes/category/Potassium-Rich-Indian-Foods/',\n",
       " 'https://www.tarladalal.com/recipes/category/Healthy-Heart-Breakfast/',\n",
       " 'https://www.tarladalal.com/recipes/category/Soups-for-Cancer-Patients/',\n",
       " 'https://www.tarladalal.com/recipes/category/Vegan-Recipes-Vegan-Diet/',\n",
       " 'https://www.tarladalal.com/recipes/category/Forever-Young-Diet--Anti-Aging-Indian-Diet/',\n",
       " 'https://www.tarladalal.com/recipes/category/Diabetes-Hypothyroidism-Diet-/',\n",
       " 'https://www.tarladalal.com/recipes/category/to-treat-Vomiting/',\n",
       " 'https://www.tarladalal.com/recipes/category/healthy-Indian-grilled-vegetables/',\n",
       " 'https://www.tarladalal.com/recipes/category/Healthy-Juices-Fresh-Juices/',\n",
       " 'https://www.tarladalal.com/recipes/category/Low-Carb-Indian-Lunch-/',\n",
       " 'https://www.tarladalal.com/recipes/category/Typhoid-Drinks/',\n",
       " 'https://www.tarladalal.com/recipes/category/Iron-rich-Indian-vegetarian-salads/',\n",
       " 'https://www.tarladalal.com/recipes/category/Pregnancy-Desserts-/',\n",
       " 'https://www.tarladalal.com/recipes/category/Diabetic-Khichdi/',\n",
       " 'https://www.tarladalal.com/recipes/category/High-in-Omega-3-Fatty-Acids/',\n",
       " 'https://www.tarladalal.com/recipes/category/Diabetes-and-Healthy-Heart-/',\n",
       " 'https://www.tarladalal.com/recipes/category/Zinc-Rich-Foods/',\n",
       " 'https://www.tarladalal.com/recipes/category/Rich-in-Vitamin-B1-Thiamine/',\n",
       " 'https://www.tarladalal.com/recipes/category/Malaria-Diet/',\n",
       " 'https://www.tarladalal.com/recipes/category/vitamin-a-rich-Indian-vegetarian-recipes/',\n",
       " 'https://www.tarladalal.com/recipes/category/Juices-Rich-in-Vitamin-C/',\n",
       " 'https://www.tarladalal.com/recipes/category/Cancer-Patients-suffering-from-Mouth-Sores/',\n",
       " 'https://www.tarladalal.com/recipes/category/Low-Cholesterol-Salads-Raitas/',\n",
       " 'https://www.tarladalal.com/recipes/category/Low-Calorie-Dal-Kadhis-for-Weight-Loss/',\n",
       " 'https://www.tarladalal.com/recipes/category/Antioxidant-Rich/',\n",
       " 'https://www.tarladalal.com/recipes/category/Gluten-Free-Indian-Breakfast/',\n",
       " 'https://www.tarladalal.com/recipes/category/Pregnancy-rotis-parathas/',\n",
       " 'https://www.tarladalal.com/recipes/category/Rice-to-control-Acidity/',\n",
       " 'https://www.tarladalal.com/recipes/category/Healthy-Heart-Salads-/',\n",
       " 'https://www.tarladalal.com/recipes/category/Pregnancy-Calcium-Rich/',\n",
       " 'https://www.tarladalal.com/recipes/category/Gluten-Free-Parathas/',\n",
       " 'https://www.tarladalal.com/recipes/category/Quick-Low-Calorie/',\n",
       " 'https://www.tarladalal.com/recipes/category/High-Fiber-for-Weight-Loss/',\n",
       " 'https://www.tarladalal.com/recipes/category/Low-Glycemic-Index-Veg/',\n",
       " 'https://www.tarladalal.com/recipes/category/Magnesium-rich-Indian-recipes-Top-10-magnesium-rich-foods/',\n",
       " 'https://www.tarladalal.com/recipes/category/Healthy-Indian-Dinner-Veg/',\n",
       " 'https://www.tarladalal.com/recipes/category/Salads-to-control-Blood-Pressure/',\n",
       " 'https://www.tarladalal.com/recipes/category/healthy-snack-entertaining-ideas/',\n",
       " 'https://www.tarladalal.com/recipes/category/Basic-Low-Calorie-Weight-Loss-/',\n",
       " 'https://www.tarladalal.com/recipes/category/High-Protein-Soups/',\n",
       " 'https://www.tarladalal.com/recipes/category/Calcium-Rich-Desserts/',\n",
       " 'https://www.tarladalal.com/recipes/category/Vitamin-C-Rich-Indian-Recipes/',\n",
       " 'https://www.tarladalal.com/recipes/category/High-Fiber-Indian-vegetarian-Salads/',\n",
       " 'https://www.tarladalal.com/recipes/category/Beautiful-Skin-Good-Skin/',\n",
       " 'https://www.tarladalal.com/recipes/category/Jaundice-Indian-Food/',\n",
       " 'https://www.tarladalal.com/recipes/category/Diabetic-Drink-Recipes/',\n",
       " 'https://www.tarladalal.com/recipes/category/High-Protein-Vegetables-Sabzis/',\n",
       " 'https://www.tarladalal.com/recipes/category/Healthy-Indian-Lunch/',\n",
       " 'https://www.tarladalal.com/recipes/category/Pregnancy-Folic-Acid-Rich/',\n",
       " 'https://www.tarladalal.com/recipes/category/Healthy-Quick-Indian-Breakfast/',\n",
       " 'https://www.tarladalal.com/recipes/category/Low-Cal-Weight-Loss-Rice-Pulao-Khichdi-Biryani/',\n",
       " 'https://www.tarladalal.com/recipes/category/Healthy-Chutney-/',\n",
       " 'https://www.tarladalal.com/recipes/category/Healthy-Breakfast-Pancakes/',\n",
       " 'https://www.tarladalal.com/recipes/category/weight-loss-after-pregnancy/',\n",
       " 'https://www.tarladalal.com/recipes/category/Lactation/',\n",
       " 'https://www.tarladalal.com/recipes/category/Healthy-Heart-Starters-and-Snacks/',\n",
       " 'https://www.tarladalal.com/recipes/category/Antioxidant-Rich-Flavonoids/',\n",
       " 'https://www.tarladalal.com/recipes/category/Iron-Rich-Vegetables-Dals/',\n",
       " 'https://www.tarladalal.com/recipes/category/Jaundice-Recovery-Diet/',\n",
       " 'https://www.tarladalal.com/recipes/category/preconception-Indian-recipes-diet/',\n",
       " 'https://www.tarladalal.com/recipes/category/Typhoid-Breakfast/',\n",
       " 'https://www.tarladalal.com/recipes/category/Sprouts-Weight-Loss/',\n",
       " 'https://www.tarladalal.com/recipes/category/Hyperthyroidism-Diet-Veg-/',\n",
       " 'https://www.tarladalal.com/recipes/category/Low-Carb-Salads/',\n",
       " 'https://www.tarladalal.com/recipes/category/Low-Cholesterol-Rotis-Parathas-/',\n",
       " 'https://www.tarladalal.com/recipes/category/Sprouts-Diabetes/',\n",
       " 'https://www.tarladalal.com/recipes/category/Vegan-Curries/',\n",
       " 'https://www.tarladalal.com/recipes/category/Vitamin-E-Rich-/',\n",
       " 'https://www.tarladalal.com/recipes/category/Zero-Oil--Rice-Biryani-and--Pulao/',\n",
       " 'https://www.tarladalal.com/recipes/category/Vitamin-B3-Niacin-Rich-Recipes/',\n",
       " 'https://www.tarladalal.com/recipes/category/Gluten-Free-Indian-Desserts/',\n",
       " 'https://www.tarladalal.com/recipes/category/High-Fiber-Lunch/',\n",
       " 'https://www.tarladalal.com/recipes/category/Post-Surgery-Diet/',\n",
       " 'https://www.tarladalal.com/recipes/category/Lignans-health-benefits/',\n",
       " 'https://www.tarladalal.com/recipes/category/Healthy-Heart-Soups/',\n",
       " 'https://www.tarladalal.com/recipes/category/High-Fiber-Snacks/',\n",
       " 'https://www.tarladalal.com/recipes/category/Potassium-Rich-Breakfast/',\n",
       " 'https://www.tarladalal.com/recipes/category/Senior-Citizen-Iron-Rich/',\n",
       " 'https://www.tarladalal.com/recipes/category/Low-Cholesterol-Subzis-Dals/',\n",
       " 'https://www.tarladalal.com/recipes/category/Diabetic-Dal-Kadhi-Recipes/',\n",
       " 'https://www.tarladalal.com/recipes/category/Rotis-Parathas-to-control-Acidity/',\n",
       " 'https://www.tarladalal.com/recipes/category/Sweets-Desserts-to-control-Blood-Pressure-/',\n",
       " 'https://www.tarladalal.com/recipes/category/Fiber-Rich-Indian-Pregnancy-vegetarian-recipes/',\n",
       " 'https://www.tarladalal.com/recipes/category/Selenium-Health-Benefits/',\n",
       " 'https://www.tarladalal.com/recipes/category/Weight-Loss-Hypothyroid-Diet-/',\n",
       " 'https://www.tarladalal.com/recipes/category/Pregnancy-to-Overcome-Nausea-Morning-Sickness/',\n",
       " 'https://www.tarladalal.com/recipes/category/Calcium-Rich-Starters-and-Snacks/',\n",
       " 'https://www.tarladalal.com/recipes/category/Pregnancy-to-overcome-heartburn-/',\n",
       " 'https://www.tarladalal.com/recipes/category/Healthy-Heart-Rotis-Parathas/',\n",
       " 'https://www.tarladalal.com/recipes/category/which-idlis-and-dosas-are-healthy/',\n",
       " 'https://www.tarladalal.com/recipes/category/Phosphorus-Rich-Foods/',\n",
       " 'https://www.tarladalal.com/recipes/category/Healthy-Sabzis-with-Leafy-Vegetables/',\n",
       " 'https://www.tarladalal.com/recipes/category/healthy-clear-soups/',\n",
       " 'https://www.tarladalal.com/recipes/category/Low-Cholesterol-Soups/',\n",
       " 'https://www.tarladalal.com/recipes/category/Healthy-Hair-Food-for-Good-Hair/',\n",
       " 'https://www.tarladalal.com/recipes/category/Copper-health-benefits/',\n",
       " 'https://www.tarladalal.com/recipes/category/Home-Remedies-for-Headache/',\n",
       " 'https://www.tarladalal.com/recipes/category/Salads-for-Cancer-Patients-/',\n",
       " 'https://www.tarladalal.com/recipes/category/PCOS-High-Fibre/',\n",
       " 'https://www.tarladalal.com/recipes/category/Low-Calorie-Chutneys/',\n",
       " 'https://www.tarladalal.com/recipes/category/Low-Calorie-Drinks/',\n",
       " 'https://www.tarladalal.com/recipes/category/Recipes-for-Healthy-Eyes-Best-Foods-to-Improve-Eyesight/',\n",
       " 'https://www.tarladalal.com/recipes/category/Vegetables-to-reduce-Acidity/',\n",
       " 'https://www.tarladalal.com/recipes/category/Sprouted-Salads/',\n",
       " 'https://www.tarladalal.com/recipes/category/Healthy-Hot-Indian-Drinks-Beverages/',\n",
       " 'https://www.tarladalal.com/recipes/category/healthy-breakfast-Indian-juices-smoothies/',\n",
       " 'https://www.tarladalal.com/recipes/category/Cancer-Patients-suffering-from-Nausea-/',\n",
       " 'https://www.tarladalal.com/recipes/category/Home-Remedies-to-fight-Fatigue-Tiredness/',\n",
       " 'https://www.tarladalal.com/recipes/category/Foods-Rich-in-Vitamin-B2-Riboflavin/',\n",
       " 'https://www.tarladalal.com/recipes/category/Healthy-Smoothies-and-Milkshakes/',\n",
       " 'https://www.tarladalal.com/recipes/category/healthy-rotis-parathas-theplas/',\n",
       " 'https://www.tarladalal.com/recipes/category/Calcium-Rich-Rotis-Parathas/',\n",
       " 'https://www.tarladalal.com/recipes/category/Healthy-Jar-Snacks/',\n",
       " 'https://www.tarladalal.com/recipes/category/Vitamin-B6-Diet/',\n",
       " 'https://www.tarladalal.com/recipes/category/Low-Calorie-Dips-Sauces/',\n",
       " 'https://www.tarladalal.com/recipes/category/Salads-to-control-Acidity/',\n",
       " 'https://www.tarladalal.com/recipes/category/Pregnancy-Vitamin-A-Rich/',\n",
       " 'https://www.tarladalal.com/recipes/category/Calcium-Rich-Soups/',\n",
       " 'https://www.tarladalal.com/recipes/category/High-Protein-Dals/',\n",
       " 'https://www.tarladalal.com/recipes/category/Typhoid-Low-Fibre/',\n",
       " 'https://www.tarladalal.com/recipes/category/Glowing-Skin-Vitamin-A-Rich-/',\n",
       " 'https://www.tarladalal.com/recipes/category/Typhoid-Soups/',\n",
       " 'https://www.tarladalal.com/recipes/category/quick-healthy-Indian-soups/',\n",
       " 'https://www.tarladalal.com/recipes/category/Healthy-Paneer-Sabzis/',\n",
       " 'https://www.tarladalal.com/recipes/category/Healthy-Dry-Subzis/',\n",
       " 'https://www.tarladalal.com/recipes/category/quick-healthy-salads/',\n",
       " 'https://www.tarladalal.com/recipes/category/top-10-healthy-dhokla-recipes/',\n",
       " 'https://www.tarladalal.com/recipes/category/Healthy-Breakfast-with-Upma-and-Poha/',\n",
       " 'https://www.tarladalal.com/recipes/category/High-Fiber-Diabetes/',\n",
       " 'https://www.tarladalal.com/recipes/category/Aids-Hiv-Diet/',\n",
       " 'https://www.tarladalal.com/recipes/category/Pregnancy-Rice-Khichdi--Pulao-/',\n",
       " 'https://www.tarladalal.com/recipes/category/Dals-and-Kadhis-to-relieve-Acidity/',\n",
       " 'https://www.tarladalal.com/recipes/category/Snacks-for-Cancer-Patients/',\n",
       " 'https://www.tarladalal.com/recipes/category/Diabetic-International-Recipes/',\n",
       " 'https://www.tarladalal.com/recipes/category/Protein-rich-Indian-Milkshakes-Smoothies-Drinks/',\n",
       " 'https://www.tarladalal.com/recipes/category/Calcium-Rich-Vegetables/',\n",
       " 'https://www.tarladalal.com/recipes/category/Zero-Oil-Soups/',\n",
       " 'https://www.tarladalal.com/recipes/category/Oats-Steel-Cut-Oats/',\n",
       " 'https://www.tarladalal.com/recipes/category/home-remedies-for-morning-sickness-/',\n",
       " 'https://www.tarladalal.com/recipes/category/Pregnancy-Vitamin-B-Complex-Rich/',\n",
       " 'https://www.tarladalal.com/recipes/category/Typhoid-Snacks/',\n",
       " 'https://www.tarladalal.com/recipes/category/Low-Cholesterol-Rice--Pulao-Biryani/',\n",
       " 'https://www.tarladalal.com/recipes/category/Strong-Bones-/',\n",
       " 'https://www.tarladalal.com/recipes/category/Healthy-Heart-International/',\n",
       " 'https://www.tarladalal.com/recipes/category/Healthy-Subzis-with-Gravies/',\n",
       " 'https://www.tarladalal.com/recipes/category/Zero-Oil--Rotis-and--Parathas/',\n",
       " 'https://www.tarladalal.com/recipes/category/Low-Cholesterol-Starters-Snacks/',\n",
       " 'https://www.tarladalal.com/recipes/category/Clear-Fluid-Diet/',\n",
       " 'https://www.tarladalal.com/recipes/category/healthy-low-cal-soups/',\n",
       " 'https://www.tarladalal.com/recipes/category/Low-Calorie-International/',\n",
       " 'https://www.tarladalal.com/recipes/category/immunity-boosting-Indian/',\n",
       " 'https://www.tarladalal.com/recipes/category/Vitamin-E-Rich-Recipes-for-Hair-Growth/',\n",
       " 'https://www.tarladalal.com/recipes/category/Low-Carb-Juices-Smoothies-Drinks/',\n",
       " 'https://www.tarladalal.com/recipes/category/Enhancing-Breast-Milk-Production/',\n",
       " 'https://www.tarladalal.com/recipes/category/Calcium-Rich-Indian-Vegetarian-Salads-/',\n",
       " 'https://www.tarladalal.com/recipes/category/Vitamin-B9-Rich-Folate/',\n",
       " 'https://www.tarladalal.com/recipes/category/Vegan-Indian-Breakfast/',\n",
       " 'https://www.tarladalal.com/recipes/category/Healthy-Lunch-Cancer-Patients/',\n",
       " 'https://www.tarladalal.com/recipes/category/Healthy-Heart-Vegetables/',\n",
       " 'https://www.tarladalal.com/recipes/category/Vitamin-B7-Biotin-rich-foods/',\n",
       " 'https://www.tarladalal.com/recipes/category/Healthy-Heart-Rice/',\n",
       " 'https://www.tarladalal.com/recipes/category/B-Vitamins/',\n",
       " 'https://www.tarladalal.com/recipes/category/Low-Cholesterol-Desserts/',\n",
       " 'https://www.tarladalal.com/recipes/category/Healthy-Quick-Indian-dinner/',\n",
       " 'https://www.tarladalal.com/recipes/category/High-Protein-Indian-Vegetarian-Salads/',\n",
       " 'https://www.tarladalal.com/recipes/category/Kids-Gluten-Free-/',\n",
       " 'https://www.tarladalal.com/recipes/category/Healthy-Fruit-Based-Salads/',\n",
       " 'https://www.tarladalal.com/recipes/category/High-Protein-Pulao-Biryani/',\n",
       " 'https://www.tarladalal.com/recipes/category/Diabetic-Accompaniments/',\n",
       " 'https://www.tarladalal.com/recipes/category/Snacks-for-Marathoners-Endurance-Athletes-Triathlete-/',\n",
       " 'https://www.tarladalal.com/recipes/category/High-Blood-Pressure-Hypothyroidism-Diet-/',\n",
       " 'https://www.tarladalal.com/recipes/category/Rotis-Parathas-to-control-Blood-Pressure/',\n",
       " 'https://www.tarladalal.com/recipes/category/Antioxidant-Rich-Juices/',\n",
       " 'https://www.tarladalal.com/recipes/category/Hair-Growth-Hypothyroidism-Diet-/',\n",
       " 'https://www.tarladalal.com/recipes/category/Antioxidant-Rich-Drinks/',\n",
       " 'https://www.tarladalal.com/recipes/category/Indian-healthy-vegetarian-Salads-for-Athletes/',\n",
       " 'https://www.tarladalal.com/recipes/category/healthy-thick-creamy-soups/',\n",
       " 'https://www.tarladalal.com/recipes/category/Healthy-Indian-Fruit-Juices/',\n",
       " 'https://www.tarladalal.com/recipes/category/Healthy-Lunch-Veg-Salads/',\n",
       " 'https://www.tarladalal.com/recipes/category/healthy-recipes-marathoners-endurance-athletes-triathlete/',\n",
       " 'https://www.tarladalal.com/recipes/category/Manganese-Diet/',\n",
       " 'https://www.tarladalal.com/recipes/category/High-Protein-Desserts/',\n",
       " 'https://www.tarladalal.com/recipes/category/Thalassemia-/',\n",
       " 'https://www.tarladalal.com/recipes/category/Zero-Oil-Salads/',\n",
       " 'https://www.tarladalal.com/recipes/category/Dinner-for-Cancer-Patients/',\n",
       " 'https://www.tarladalal.com/recipes/category/Healthy-Breakfast-Cereals-Porridge/',\n",
       " 'https://www.tarladalal.com/recipes/category/Drinks-Beverages-for-Healthy-Heart/',\n",
       " 'https://www.tarladalal.com/recipes/category/Healthy-Sabzis-with-Sprouts-and-Beans/',\n",
       " 'https://www.tarladalal.com/recipes/category/Healthy-Breakfast-Left-Over-Recipes/',\n",
       " 'https://www.tarladalal.com/recipes/category/Vegan-Indian-Sweets-and-Desserts/',\n",
       " 'https://www.tarladalal.com/recipes/category/Detox-Water-fruit-Infused-water/',\n",
       " 'https://www.tarladalal.com/recipes/category/Indian-Vegan-Recipes-for-Kids/',\n",
       " 'https://www.tarladalal.com/recipes/category/healthy-fruit-snacks/',\n",
       " 'https://www.tarladalal.com/recipes/category/Healthy-Heart-Dessert-Recipes/',\n",
       " 'https://www.tarladalal.com/recipes/category/Flavonols-a-type-of-Flavonoids-Antioxidant/',\n",
       " 'https://www.tarladalal.com/recipes/category/Vitamin-A-Rich-Recipes-for-Healthy-Eyes/',\n",
       " 'https://www.tarladalal.com/recipes/category/Healthy-Heart-Dal-Kadhi/',\n",
       " 'https://www.tarladalal.com/recipes/category/Low-Carb-Soups-Indian-Veg-Low-Carb-Soups/',\n",
       " 'https://www.tarladalal.com/recipes/category/Snacks-as-a-Healthy-Meal/',\n",
       " 'https://www.tarladalal.com/recipes/category/Rice-to-control-Blood-Pressure/',\n",
       " 'https://www.tarladalal.com/recipes/category/Vitamin-C-Rich-Indian-Vegetarian-Salads/',\n",
       " 'https://www.tarladalal.com/recipes/category/Lycopene-Indian-Diet/',\n",
       " 'https://www.tarladalal.com/recipes/category/Vitamin-E-Rich-Recipes-for-Glowing-Skin/',\n",
       " 'https://www.tarladalal.com/recipes/category/Healthy-Lunch-Work-Recipes/',\n",
       " 'https://www.tarladalal.com/recipes/category/Vegan-Indian-Recipes/',\n",
       " 'https://www.tarladalal.com/recipes/category/Vegan-Snacks-Indian/',\n",
       " 'https://www.tarladalal.com/recipes/category/Healthy-Chunky-Soups-Broths/',\n",
       " 'https://www.tarladalal.com/recipes/category/Calcium-Rich-Dal-Kadhi-/',\n",
       " 'https://www.tarladalal.com/recipes/category/Healthy-Indian-Lunch-Weight-Loss/',\n",
       " 'https://www.tarladalal.com/recipes/category/Low-Cholesterol-Indian-Drinks-Juices/',\n",
       " 'https://www.tarladalal.com/recipes/category/Zero-Oil-Dals-and-Kadhis/',\n",
       " 'https://www.tarladalal.com/recipes/category/High-Fiber-Pregnancy/',\n",
       " 'https://www.tarladalal.com/recipes/category/Healthy-No-Cook-Salads-just-Toss-Mix/',\n",
       " 'https://www.tarladalal.com/recipes/category/Low-Glycemic-Veg-Lunch/',\n",
       " 'https://www.tarladalal.com/recipes/category/Low-Glycemic-Veg-Breakfast/',\n",
       " 'https://www.tarladalal.com/recipes/category/Senior-Citizen-Diabetes/',\n",
       " 'https://www.tarladalal.com/recipes/category/Senior-Citizen-Healthy-Heart-Low-Cholesterol-/',\n",
       " 'https://www.tarladalal.com/recipes/category/Jaundice-Home-Remedies-Diet/',\n",
       " 'https://www.tarladalal.com/recipes/category/Dals-for-cancer-patients/',\n",
       " 'https://www.tarladalal.com/recipes/category/Healthy-Raita-Kachumber/',\n",
       " 'https://www.tarladalal.com/recipes/category/Lactose-Free-Dairy-Free/',\n",
       " 'https://www.tarladalal.com/recipes/category/healthy-khakhras/',\n",
       " 'https://www.tarladalal.com/recipes/category/Vegetables-for-Marathoners-Endurance-Athletes-Triathlete/',\n",
       " 'https://www.tarladalal.com/recipes/category/Calcium-Rich-Rice-/',\n",
       " 'https://www.tarladalal.com/recipes/category/Omega-6-Fatty-Acids/',\n",
       " 'https://www.tarladalal.com/recipes/category/Healthy-Soya-Sabzis/',\n",
       " 'https://www.tarladalal.com/recipes/category/Quick-Healthy-Lunch/',\n",
       " 'https://www.tarladalal.com/recipes/category/Home-Remedies-Protein-Rich-Recipes/',\n",
       " 'https://www.tarladalal.com/recipes/category/Cancer-Patients-with-No-Appetite-/',\n",
       " 'https://www.tarladalal.com/recipes/category/Home-Remedies-Insomnia-Natural-Sleep-Solutions/',\n",
       " 'https://www.tarladalal.com/recipes/category/Sunstroke-Home-Remedies-/',\n",
       " 'https://www.tarladalal.com/recipes/category/Anorexia-Home-Remedies/',\n",
       " 'https://www.tarladalal.com/recipes/category/Senior-Citizen-Calcium-Rich-for-Osteoporosis/',\n",
       " 'https://www.tarladalal.com/recipes/category/Vegan-Soups/',\n",
       " 'https://www.tarladalal.com/recipes/category/Indoles-health-benefits-/',\n",
       " 'https://www.tarladalal.com/recipes/category/High-Fiber-Vegetables/',\n",
       " 'https://www.tarladalal.com/recipes/category/Healthy-Vegetable-Indian-Juices/',\n",
       " 'https://www.tarladalal.com/recipes/category/High-Protein-International-Western/',\n",
       " 'https://www.tarladalal.com/recipes/category/Healthy-Heart-Accompaniments-/',\n",
       " 'https://www.tarladalal.com/recipes/category/Lactose-Free-Dairy-Free-Gluten-Free-/',\n",
       " 'https://www.tarladalal.com/recipes/category/Pregnancy-International-Western/',\n",
       " 'https://www.tarladalal.com/recipes/category/Sprouts-Snacks/',\n",
       " 'https://www.tarladalal.com/recipes/category/Subzis-Dals-to-control-Blood-Pressure/',\n",
       " 'https://www.tarladalal.com/recipes/category/Vitamin-B5-Pantothenic-Acid-rich-recipes/',\n",
       " 'https://www.tarladalal.com/recipes/category/Vitamin-E-Rich-recipes-for-Eye-Health-and-Vision/',\n",
       " 'https://www.tarladalal.com/recipes/category/High-Calorie-Multi-Nutrient-Food-Hyperthyroidism-Weight-Gain-Diet-/',\n",
       " 'https://www.tarladalal.com/recipes/category/Sabzis-for-cancer-patients/',\n",
       " 'https://www.tarladalal.com/recipes/category/Senior-Citizen-Soups/',\n",
       " 'https://www.tarladalal.com/recipes/category/Typhoid-Protein-Rich/',\n",
       " 'https://www.tarladalal.com/recipes/category/Home-Remedies-for-Pimples-Acne/',\n",
       " 'https://www.tarladalal.com/recipes/category/Magnesium-Rich-Breakfast/',\n",
       " 'https://www.tarladalal.com/recipes/category/Sprouts-Healthy-Heart/',\n",
       " 'https://www.tarladalal.com/recipes/category/Senior-Citizen-Indian/',\n",
       " 'https://www.tarladalal.com/recipes/category/Low-Glycemic-Veg-Dinner-Recipes/',\n",
       " 'https://www.tarladalal.com/recipes/category/Anthocyanins-a-type-of-Flavonoids/',\n",
       " 'https://www.tarladalal.com/recipes/category/Lower-Blood-Pressure-Accompaniments-Side-Dishes/',\n",
       " 'https://www.tarladalal.com/recipes/category/Allium-Sulfur-Compounds/',\n",
       " 'https://www.tarladalal.com/recipes/category/Low-Glycemic-Veg-Snacks-Starters/',\n",
       " 'https://www.tarladalal.com/recipes/category/Antioxidant-Rich-Indian-Desserts/',\n",
       " 'https://www.tarladalal.com/recipes/category/Healthy-Breakfast-for-Athletes-Runners/',\n",
       " 'https://www.tarladalal.com/recipes/category/Calcium-Rich-International-Recipes/',\n",
       " 'https://www.tarladalal.com/recipes/category/Phytonutrients-/',\n",
       " 'https://www.tarladalal.com/recipes/category/Low-Cholesterol-Accompaniments-Side-Dishes/',\n",
       " 'https://www.tarladalal.com/recipes/category/Antioxidant-Rich-Salads/',\n",
       " 'https://www.tarladalal.com/recipes/category/High-Fiber-to-Lower-Cholesterol/',\n",
       " 'https://www.tarladalal.com/recipes/category/cancer-patients-healthy-recipes/',\n",
       " 'https://www.tarladalal.com/recipes/category/Antioxidant-Rich-Indian/',\n",
       " 'https://www.tarladalal.com/recipes/category/Healthy-Green-Juices/',\n",
       " 'https://www.tarladalal.com/recipes/category/Home-Remedies-to-Improve-Eyesight/',\n",
       " 'https://www.tarladalal.com/recipes/category/Lutein-Indian-Diet/',\n",
       " 'https://www.tarladalal.com/recipes/category/Carotenoids-Health-Benefits/',\n",
       " 'https://www.tarladalal.com/recipes/category/Dips-for-Healthy-Breakfast/',\n",
       " 'https://www.tarladalal.com/recipes/category/Vitamin-C-Rich-Smoothies-and-Milkshakes/',\n",
       " 'https://www.tarladalal.com/recipes/category/Resveratrol-Indian-Recipes-Diet/',\n",
       " 'https://www.tarladalal.com/recipes/category/Lactose-Free-Dairy-Free-Breakfast/',\n",
       " 'https://www.tarladalal.com/recipes/category/Senior-Citizen-Vegetables/',\n",
       " 'https://www.tarladalal.com/recipes/category/Antioxidant-Rich-Smoothies/',\n",
       " 'https://www.tarladalal.com/recipes/category/Vegan-Calcium-Rich/',\n",
       " 'https://www.tarladalal.com/recipes/category/Magnesium-Rich-rotis-sabzi-/',\n",
       " 'https://www.tarladalal.com/recipes/category/Isoflavones-a-type-of-Flavonoids-Antioxidant/',\n",
       " 'https://www.tarladalal.com/recipes/category/Cryptoxanthin-Beta-cryptoxanthin/',\n",
       " 'https://www.tarladalal.com/recipes/category/Vegan-Salads/',\n",
       " 'https://www.tarladalal.com/recipes/category/Detox-Water-Fruit-Infused-Water-with-Fruits/',\n",
       " 'https://www.tarladalal.com/recipes/category/Healthy-Lunch-Vegetables/',\n",
       " 'https://www.tarladalal.com/recipes/category/Indian-Desserts-for-Athletes-/',\n",
       " 'https://www.tarladalal.com/recipes/category/Zero-Oil-International/',\n",
       " 'https://www.tarladalal.com/recipes/category/Low-Cholesterol-International/',\n",
       " 'https://www.tarladalal.com/recipes/category/Fertility-Foods-for-Fertility/',\n",
       " 'https://www.tarladalal.com/recipes/category/Low-Sodium-International-Recipes/',\n",
       " 'https://www.tarladalal.com/recipes/category/Senior-Citizen-Weight-Loss/',\n",
       " 'https://www.tarladalal.com/recipes/category/Healthy-Marathoners-Endurance-Athletes-Triathletes-Dips-Raitas/',\n",
       " 'https://www.tarladalal.com/recipes/category/Diet-Tips-For-Pregnancy-During-Hyperthyroidism/',\n",
       " 'https://www.tarladalal.com/recipes/category/Low-Sodium-Snacks/',\n",
       " 'https://www.tarladalal.com/recipes/category/Senior-Citizen-Rice/',\n",
       " 'https://www.tarladalal.com/recipes/category/Soups-for-Marathoners-Endurance-Athletes-Triathlete/',\n",
       " 'https://www.tarladalal.com/recipes/category/Potassium-Rich-Healthy/',\n",
       " 'https://www.tarladalal.com/recipes/category/Salads-High-in-Omega-3-Fatty-Acids/',\n",
       " 'https://www.tarladalal.com/recipes/category/Detox-Water-Fruit-Infused-Water-with-Fruits-Spices-and-Herbs/',\n",
       " 'https://www.tarladalal.com/recipes/category/Vegan-Desserts/',\n",
       " 'https://www.tarladalal.com/recipes/category/Flavanols-a-type-of-Flavonoids-Antioxidant/',\n",
       " 'https://www.tarladalal.com/recipes/category/Lactose-Free-Dairy-Free-Dessert/',\n",
       " 'https://www.tarladalal.com/recipes/category/Senior-Citizen-Quick/',\n",
       " 'https://www.tarladalal.com/recipes/category/Overcoming-Digestive-Problem-during-Lactation/',\n",
       " 'https://www.tarladalal.com/recipes/category/Potassium-Rich-Indian/',\n",
       " 'https://www.tarladalal.com/recipes/category/Healthy-Lunch-Soup-Recipes/',\n",
       " 'https://www.tarladalal.com/recipes/category/Magnesium-Rich-Salads/',\n",
       " 'https://www.tarladalal.com/recipes/category/Lactose-Free-Diary-Free-Baking/',\n",
       " 'https://www.tarladalal.com/recipes/category/Magnesium-Rich-Healthy/',\n",
       " 'https://www.tarladalal.com/recipes/category/Detox-Water-Fruit-Infused-Water-with-Coconut-Water-and-Fruits/',\n",
       " 'https://www.tarladalal.com/recipes/category/Lactose-Free-Dairy-Free-Kids-/',\n",
       " 'https://www.tarladalal.com/recipes/category/roti-parathas-theplas-for-Marathoners-Endurance-Athletes-Triathlete/',\n",
       " 'https://www.tarladalal.com/recipes/category/Magnesium-Rich-Soups/',\n",
       " 'https://www.tarladalal.com/recipes/category/Soups-High-in-Omega-3-Fatty-Acids/',\n",
       " 'https://www.tarladalal.com/recipes/category/Rice-and-Khichdi-Marathoners-Endurance-Athletes-Triathlete-/',\n",
       " 'https://www.tarladalal.com/recipes/category/Detox-Water-Fruit-Infused-Water-with-Fruits-and-Vegetables/',\n",
       " 'https://www.tarladalal.com/recipes/category/Magnesium-Rich-Starters-Snacks-/',\n",
       " 'https://www.tarladalal.com/recipes/category/Lactose-Free-Dairy-Free-Cookie-/',\n",
       " 'https://www.tarladalal.com/recipes/category/Lactose-Free-Dairy-Free-Pasta-/',\n",
       " 'https://www.tarladalal.com/recipes/category/Diarrhea-Hyperthyroidism-Veg-Diet-/',\n",
       " 'https://www.tarladalal.com/recipes/category/Detox-Water-Fruit-Infused-Water-with-Citrus-Fruits/',\n",
       " 'https://www.tarladalal.com/recipes/category/Lactose-Free-Dairy-Free-Cake-/',\n",
       " 'https://www.tarladalal.com/recipes/category/Chronic-Kidney-Disease/',\n",
       " 'https://www.tarladalal.com/recipes/category/indian-recipes-for-relief-from-pregnancy-constipation/',\n",
       " 'https://www.tarladalal.com/recipes/category/healthy-indian-soups-under-100-calories/',\n",
       " 'https://www.tarladalal.com/recipes/category/selenium1/']"
      ]
     },
     "execution_count": 180,
     "metadata": {},
     "output_type": "execute_result"
    }
   ],
   "source": [
    "# also need to add the category as tag\n",
    "\n",
    "cleaned_tags_links"
   ]
  },
  {
   "cell_type": "code",
   "execution_count": null,
   "id": "0518ef79",
   "metadata": {},
   "outputs": [],
   "source": []
  }
 ],
 "metadata": {
  "kernelspec": {
   "display_name": "Python 3",
   "language": "python",
   "name": "python3"
  },
  "language_info": {
   "codemirror_mode": {
    "name": "ipython",
    "version": 3
   },
   "file_extension": ".py",
   "mimetype": "text/x-python",
   "name": "python",
   "nbconvert_exporter": "python",
   "pygments_lexer": "ipython3",
   "version": "3.13.2"
  }
 },
 "nbformat": 4,
 "nbformat_minor": 5
}
