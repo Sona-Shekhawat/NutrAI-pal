{
 "cells": [
  {
   "cell_type": "markdown",
   "id": "0df225ee",
   "metadata": {},
   "source": [
    "### Scraping more healthy indian recipes"
   ]
  },
  {
   "cell_type": "markdown",
   "id": "ae584976",
   "metadata": {},
   "source": [
    "- Recipe name\n",
    "- Ingredients list\n",
    "- Make time\n",
    "- Instructions\n",
    "- Nutrient info \n",
    "- Tags (e.g., vegan, keto, veg/non veg)\n",
    "\n",
    "website: https://www.tarladalal.com/\n",
    "-nutrient breakdown avaliable too"
   ]
  },
  {
   "cell_type": "markdown",
   "id": "92b8f5ed",
   "metadata": {},
   "source": [
    "#### Import dependencies"
   ]
  },
  {
   "cell_type": "code",
   "execution_count": 2,
   "id": "9f5a16e2",
   "metadata": {},
   "outputs": [],
   "source": [
    "import pandas as pd\n",
    "import requests\n",
    "from bs4 import BeautifulSoup"
   ]
  },
  {
   "cell_type": "code",
   "execution_count": 3,
   "id": "bc7bef5a",
   "metadata": {},
   "outputs": [],
   "source": [
    "webpage = requests.get(\"https://www.tarladalal.com/category/Healthy-Indian-Recipes/\").text"
   ]
  },
  {
   "cell_type": "code",
   "execution_count": 4,
   "id": "58609d30",
   "metadata": {},
   "outputs": [],
   "source": [
    "soup = BeautifulSoup(webpage, 'lxml')"
   ]
  },
  {
   "cell_type": "code",
   "execution_count": 5,
   "id": "ea040c71",
   "metadata": {},
   "outputs": [
    {
     "data": {
      "text/plain": [
       "[<div class=\"text-center\">\n",
       " <a class=\"btn btn-main primary-bg\" href=\"/recipes/category/Vitamin-B12-Cobalamin-Rich-Foods/\">View All</a>\n",
       " </div>,\n",
       " <div class=\"text-center\">\n",
       " <a class=\"btn btn-main primary-bg\" href=\"/recipes/category/Healthy-Low-Calorie-Weight-Loss/\">View All</a>\n",
       " </div>,\n",
       " <div class=\"text-center\">\n",
       " <a class=\"btn btn-main primary-bg\" href=\"/recipes/category/Insoluble-Fiber-Diet/\">View All</a>\n",
       " </div>,\n",
       " <div class=\"text-center\">\n",
       " <a class=\"btn btn-main primary-bg\" href=\"/recipes/category/Low-Cholesterol-/\">View All</a>\n",
       " </div>,\n",
       " <div class=\"text-center\">\n",
       " <a class=\"btn btn-main primary-bg\" href=\"/recipes/category/Soluble-Fibre-Diet/\">View All</a>\n",
       " </div>]"
      ]
     },
     "execution_count": 5,
     "metadata": {},
     "output_type": "execute_result"
    }
   ],
   "source": [
    "# Getting all recipe links from the main page \n",
    "# thet are stored in div tags of class text-center\n",
    "soup.find_all('div',class_=\"text-center\")[:5]"
   ]
  },
  {
   "cell_type": "code",
   "execution_count": 6,
   "id": "f1fb9687",
   "metadata": {},
   "outputs": [],
   "source": [
    "# getting the tag links from the href attrbute of anchor tag\n",
    "tags_links=[]\n",
    "for div in soup.find_all('div',class_=\"text-center\")[:-1]:\n",
    "    tags_links.append(div.find('a').get(\"href\"))"
   ]
  },
  {
   "cell_type": "code",
   "execution_count": 7,
   "id": "57e1413f",
   "metadata": {},
   "outputs": [
    {
     "data": {
      "text/plain": [
       "['/recipes/category/Vitamin-B12-Cobalamin-Rich-Foods/',\n",
       " '/recipes/category/Healthy-Low-Calorie-Weight-Loss/',\n",
       " '/recipes/category/Insoluble-Fiber-Diet/',\n",
       " '/recipes/category/Low-Cholesterol-/',\n",
       " '/recipes/category/Soluble-Fibre-Diet/']"
      ]
     },
     "execution_count": 7,
     "metadata": {},
     "output_type": "execute_result"
    }
   ],
   "source": [
    "tags_links[:5]"
   ]
  },
  {
   "cell_type": "code",
   "execution_count": 8,
   "id": "c6ba8a72",
   "metadata": {},
   "outputs": [
    {
     "data": {
      "text/plain": [
       "['/recipes/category/Lactose-Free-Dairy-Free-Cake-/',\n",
       " '/recipes/category/Chronic-Kidney-Disease/',\n",
       " '/recipes/category/indian-recipes-for-relief-from-pregnancy-constipation/',\n",
       " '/recipes/category/selenium1/',\n",
       " '/recipes/category/healthy-indian-soups-under-100-calories/']"
      ]
     },
     "execution_count": 8,
     "metadata": {},
     "output_type": "execute_result"
    }
   ],
   "source": [
    "tags_links[-5:]"
   ]
  },
  {
   "cell_type": "markdown",
   "id": "3c46e8fa",
   "metadata": {},
   "source": [
    "- They are in the form of relative address to the main page, so let's prefix them with the address \"https://www.tarladalal.com/\""
   ]
  },
  {
   "cell_type": "code",
   "execution_count": 9,
   "id": "2e24424c",
   "metadata": {},
   "outputs": [],
   "source": [
    "cleaned_tags_links = [\"https://www.tarladalal.com\"+link for link in tags_links ]"
   ]
  },
  {
   "cell_type": "code",
   "execution_count": 10,
   "id": "9678e00b",
   "metadata": {},
   "outputs": [
    {
     "data": {
      "text/plain": [
       "['https://www.tarladalal.com/recipes/category/Vitamin-B12-Cobalamin-Rich-Foods/',\n",
       " 'https://www.tarladalal.com/recipes/category/Healthy-Low-Calorie-Weight-Loss/',\n",
       " 'https://www.tarladalal.com/recipes/category/Insoluble-Fiber-Diet/',\n",
       " 'https://www.tarladalal.com/recipes/category/Low-Cholesterol-/',\n",
       " 'https://www.tarladalal.com/recipes/category/Soluble-Fibre-Diet/']"
      ]
     },
     "execution_count": 10,
     "metadata": {},
     "output_type": "execute_result"
    }
   ],
   "source": [
    "cleaned_tags_links[:5]"
   ]
  },
  {
   "cell_type": "code",
   "execution_count": 11,
   "id": "99030ac1",
   "metadata": {},
   "outputs": [
    {
     "data": {
      "text/plain": [
       "['https://www.tarladalal.com/recipes/category/Lactose-Free-Dairy-Free-Cake-/',\n",
       " 'https://www.tarladalal.com/recipes/category/Chronic-Kidney-Disease/',\n",
       " 'https://www.tarladalal.com/recipes/category/indian-recipes-for-relief-from-pregnancy-constipation/',\n",
       " 'https://www.tarladalal.com/recipes/category/selenium1/',\n",
       " 'https://www.tarladalal.com/recipes/category/healthy-indian-soups-under-100-calories/']"
      ]
     },
     "execution_count": 11,
     "metadata": {},
     "output_type": "execute_result"
    }
   ],
   "source": [
    "cleaned_tags_links[-5:]"
   ]
  },
  {
   "cell_type": "code",
   "execution_count": 12,
   "id": "6ac026e4",
   "metadata": {},
   "outputs": [
    {
     "data": {
      "text/plain": [
       "437"
      ]
     },
     "execution_count": 12,
     "metadata": {},
     "output_type": "execute_result"
    }
   ],
   "source": [
    "# total filters or tags\n",
    "len(cleaned_tags_links)"
   ]
  },
  {
   "cell_type": "markdown",
   "id": "ecceee93",
   "metadata": {},
   "source": [
    "- therefore, now we have 437 different filters or tags \n",
    "- let's go through each link and extract recipes under that category"
   ]
  },
  {
   "cell_type": "code",
   "execution_count": 13,
   "id": "755ed555",
   "metadata": {},
   "outputs": [],
   "source": [
    "# get recipie links from categories\n",
    "def get_recipie_links(category_link):\n",
    "    website = requests.get(category_link).text\n",
    "    soup = BeautifulSoup(website, \"lxml\")\n",
    "    tags_links=[]\n",
    "\n",
    "    # getting links\n",
    "    for div in soup.find_all('div',class_=\"img-block\"):\n",
    "        tags_links.append(div.find('a').get(\"href\"))\n",
    "    \n",
    "    #filtering links\n",
    "    category = category_link.rstrip('/').split('/')[-1] \n",
    "    recipies = [(\"https://www.tarladalal.com\"+link, category) for link in tags_links ]\n",
    "\n",
    "    return recipies "
   ]
  },
  {
   "cell_type": "markdown",
   "id": "fafe30f9",
   "metadata": {},
   "source": [
    "- now we can use this function to extract recipe links from under each category.\n",
    "- Next, we scrape through each recipe page to get our required data"
   ]
  },
  {
   "cell_type": "code",
   "execution_count": 14,
   "id": "3ff3bbb6",
   "metadata": {},
   "outputs": [],
   "source": [
    "recipies_cat = []\n",
    "for category in cleaned_tags_links:\n",
    "    recipies_cat.extend(get_recipie_links(category))"
   ]
  },
  {
   "cell_type": "code",
   "execution_count": 15,
   "id": "638f3f0f",
   "metadata": {},
   "outputs": [],
   "source": [
    "recipies=[]\n",
    "for rec, cat in recipies_cat:\n",
    "    recipies.append(rec)"
   ]
  },
  {
   "cell_type": "code",
   "execution_count": 16,
   "id": "72043fbb",
   "metadata": {},
   "outputs": [],
   "source": [
    "from collections import defaultdict\n",
    "\n",
    "recipe_tags = defaultdict(list)\n",
    "\n",
    "for link, tag in recipies_cat:\n",
    "    recipe_tags[link].append(tag)\n"
   ]
  },
  {
   "cell_type": "code",
   "execution_count": 17,
   "id": "69ac17d3",
   "metadata": {},
   "outputs": [
    {
     "data": {
      "text/plain": [
       "2129"
      ]
     },
     "execution_count": 17,
     "metadata": {},
     "output_type": "execute_result"
    }
   ],
   "source": [
    "len(set(recipies))"
   ]
  },
  {
   "cell_type": "markdown",
   "id": "62521f71",
   "metadata": {},
   "source": [
    "- therefore, here we have a list of 2129 unique recipes"
   ]
  },
  {
   "cell_type": "markdown",
   "id": "e3ea1873",
   "metadata": {},
   "source": [
    "#### Scraping through the first recipe page\n"
   ]
  },
  {
   "cell_type": "code",
   "execution_count": 18,
   "id": "4dbff6f5",
   "metadata": {},
   "outputs": [],
   "source": [
    "recipies = list(set(recipies))"
   ]
  },
  {
   "cell_type": "code",
   "execution_count": 19,
   "id": "601cbc0d",
   "metadata": {},
   "outputs": [
    {
     "data": {
      "text/plain": [
       "'https://www.tarladalal.com/oats-methi-muthia-39094r'"
      ]
     },
     "execution_count": 19,
     "metadata": {},
     "output_type": "execute_result"
    }
   ],
   "source": [
    "recipies[0]"
   ]
  },
  {
   "cell_type": "markdown",
   "id": "6c7a8256",
   "metadata": {},
   "source": [
    "- Features we need:\n",
    "- name, serving size, Time to make, tags, ingredients, nutrition, instructions"
   ]
  },
  {
   "cell_type": "code",
   "execution_count": 20,
   "id": "24e1b264",
   "metadata": {},
   "outputs": [],
   "source": [
    "website = requests.get(recipies[0]).text\n",
    "soup = BeautifulSoup(website,'lxml')"
   ]
  },
  {
   "cell_type": "markdown",
   "id": "403c3ca2",
   "metadata": {},
   "source": [
    "##### Getting the name\n"
   ]
  },
  {
   "cell_type": "code",
   "execution_count": 21,
   "id": "4972abed",
   "metadata": {},
   "outputs": [
    {
     "data": {
      "text/plain": [
       "'oats methi muthia recipe | steamed Gujarati savoury snack | healthy oats fenugreek dumplings |'"
      ]
     },
     "execution_count": 21,
     "metadata": {},
     "output_type": "execute_result"
    }
   ],
   "source": [
    "soup.find(\"h4\", class_ = \"rec-heading\").text"
   ]
  },
  {
   "cell_type": "code",
   "execution_count": 22,
   "id": "e5dc3aee",
   "metadata": {},
   "outputs": [
    {
     "data": {
      "text/plain": [
       "['oats methi muthia recipe ',\n",
       " ' steamed Gujarati savoury snack ',\n",
       " ' healthy oats fenugreek dumplings ',\n",
       " '']"
      ]
     },
     "execution_count": 22,
     "metadata": {},
     "output_type": "execute_result"
    }
   ],
   "source": [
    "soup.find(\"h4\", class_ = \"rec-heading\").text.split(\"|\")"
   ]
  },
  {
   "cell_type": "code",
   "execution_count": 23,
   "id": "f113060e",
   "metadata": {},
   "outputs": [
    {
     "data": {
      "text/plain": [
       "'oats methi muthia recipe'"
      ]
     },
     "execution_count": 23,
     "metadata": {},
     "output_type": "execute_result"
    }
   ],
   "source": [
    "# just taking the first name:\n",
    "soup.find(\"h4\", class_ = \"rec-heading\").text.split(\"|\")[0].strip()"
   ]
  },
  {
   "cell_type": "code",
   "execution_count": 24,
   "id": "32bcbabf",
   "metadata": {},
   "outputs": [],
   "source": [
    "def find_name(rec_soup):\n",
    "    # it will most probably have only one h4 tag so use .find()\n",
    "    return rec_soup.find(\"h4\", class_ = \"rec-heading\").text.split(\"|\")[0].strip()"
   ]
  },
  {
   "cell_type": "code",
   "execution_count": 25,
   "id": "d43a9dbe",
   "metadata": {},
   "outputs": [
    {
     "data": {
      "text/plain": [
       "'oats methi muthia recipe'"
      ]
     },
     "execution_count": 25,
     "metadata": {},
     "output_type": "execute_result"
    }
   ],
   "source": [
    "find_name(soup)"
   ]
  },
  {
   "cell_type": "markdown",
   "id": "96a5e9df",
   "metadata": {},
   "source": [
    "##### Getting the Make time"
   ]
  },
  {
   "cell_type": "code",
   "execution_count": 26,
   "id": "0edc06f0",
   "metadata": {},
   "outputs": [
    {
     "data": {
      "text/plain": [
       "[<p class=\"mb-0 font-size-13\"><strong>5 Mins</strong></p>,\n",
       " <p class=\"mb-0 font-size-13\"><strong>13 Mins</strong></p>,\n",
       " <p class=\"mb-0 font-size-13\"><strong>18 Mins</strong></p>]"
      ]
     },
     "execution_count": 26,
     "metadata": {},
     "output_type": "execute_result"
    }
   ],
   "source": [
    "soup.find_all('p', class_=\"mb-0 font-size-13\")"
   ]
  },
  {
   "cell_type": "code",
   "execution_count": 27,
   "id": "c0db5330",
   "metadata": {},
   "outputs": [
    {
     "data": {
      "text/plain": [
       "'18 Mins'"
      ]
     },
     "execution_count": 27,
     "metadata": {},
     "output_type": "execute_result"
    }
   ],
   "source": [
    "soup.find_all('p', class_=\"mb-0 font-size-13\")[2].text"
   ]
  },
  {
   "cell_type": "code",
   "execution_count": 28,
   "id": "667ad6ee",
   "metadata": {},
   "outputs": [],
   "source": [
    "def get_make_time(res_soup):\n",
    "    return res_soup.find_all('p', class_=\"mb-0 font-size-13\")[2].text"
   ]
  },
  {
   "cell_type": "code",
   "execution_count": 29,
   "id": "b3e3ce22",
   "metadata": {},
   "outputs": [
    {
     "data": {
      "text/plain": [
       "'18 Mins'"
      ]
     },
     "execution_count": 29,
     "metadata": {},
     "output_type": "execute_result"
    }
   ],
   "source": [
    "get_make_time(soup)"
   ]
  },
  {
   "cell_type": "markdown",
   "id": "3518f1f3",
   "metadata": {},
   "source": [
    "##### Getting serving size"
   ]
  },
  {
   "cell_type": "code",
   "execution_count": 30,
   "id": "740478c5",
   "metadata": {},
   "outputs": [
    {
     "data": {
      "text/plain": [
       "[<p class=\"mb-0 font-size-13 font-size-13\"><strong>3 servings</strong></p>]"
      ]
     },
     "execution_count": 30,
     "metadata": {},
     "output_type": "execute_result"
    }
   ],
   "source": [
    "soup.find_all('p',class_=\"mb-0 font-size-13 font-size-13\")"
   ]
  },
  {
   "cell_type": "code",
   "execution_count": 31,
   "id": "ac9af7a3",
   "metadata": {},
   "outputs": [
    {
     "data": {
      "text/plain": [
       "'3 servings'"
      ]
     },
     "execution_count": 31,
     "metadata": {},
     "output_type": "execute_result"
    }
   ],
   "source": [
    "#using indexing, resolve to .find() if creates a problem later\n",
    "soup.find_all('p',class_=\"mb-0 font-size-13 font-size-13\")[0].text"
   ]
  },
  {
   "cell_type": "code",
   "execution_count": 32,
   "id": "06cf64ff",
   "metadata": {},
   "outputs": [],
   "source": [
    "def get_serving_size(res_soup):\n",
    "    return soup.find_all('p',class_=\"mb-0 font-size-13 font-size-13\")[0].text"
   ]
  },
  {
   "cell_type": "code",
   "execution_count": 33,
   "id": "9c2e969d",
   "metadata": {},
   "outputs": [
    {
     "data": {
      "text/plain": [
       "'3 servings'"
      ]
     },
     "execution_count": 33,
     "metadata": {},
     "output_type": "execute_result"
    }
   ],
   "source": [
    "get_serving_size(soup)"
   ]
  },
  {
   "cell_type": "markdown",
   "id": "a7283ccb",
   "metadata": {},
   "source": [
    "##### Getting the tags"
   ]
  },
  {
   "cell_type": "code",
   "execution_count": 34,
   "id": "bfc92eac",
   "metadata": {},
   "outputs": [
    {
     "data": {
      "text/plain": [
       "<ul class=\"tags-list\">\n",
       "<li><a href=\"/recipes-for-equipment-indian-steamer-recipes-315\">Indian Steamer Recipes</a></li>\n",
       "<li><a href=\"/recipes-for-breakfast--Indian-veg-breakfast-recipes-151\">Indian Breakfast Recipes</a></li>\n",
       "<li><a href=\"/recipes-for-Jain-Breakfast-159\">Jain Breakfast</a></li>\n",
       "<li><a href=\"/recipes-for-Easy-Indian-Veg-Recipes-180-Simple-Vegetarian-Indian-Recipes-964\">Easy Indian Veg</a></li>\n",
       "<li><a href=\"/recipes-for-Indian-Diabetic-Recipes-370\">Indian Diabetic recipes</a></li>\n",
       "<li><a href=\"/recipes-for-Diabetic-Breakfast-Recipes-454\">Diabetic Indian Breakfast</a></li>\n",
       "<li><a href=\"/recipes-for-Diabetic-Starters-Snacks-Recipes-458\">Diabetic Indian Snacks, Starters</a></li>\n",
       "</ul>"
      ]
     },
     "execution_count": 34,
     "metadata": {},
     "output_type": "execute_result"
    }
   ],
   "source": [
    "soup.find('ul', class_ = 'tags-list')"
   ]
  },
  {
   "cell_type": "code",
   "execution_count": 35,
   "id": "cbabbe33",
   "metadata": {},
   "outputs": [
    {
     "data": {
      "text/plain": [
       "[<li><a href=\"/recipes-for-equipment-indian-steamer-recipes-315\">Indian Steamer Recipes</a></li>,\n",
       " <li><a href=\"/recipes-for-breakfast--Indian-veg-breakfast-recipes-151\">Indian Breakfast Recipes</a></li>,\n",
       " <li><a href=\"/recipes-for-Jain-Breakfast-159\">Jain Breakfast</a></li>,\n",
       " <li><a href=\"/recipes-for-Easy-Indian-Veg-Recipes-180-Simple-Vegetarian-Indian-Recipes-964\">Easy Indian Veg</a></li>,\n",
       " <li><a href=\"/recipes-for-Indian-Diabetic-Recipes-370\">Indian Diabetic recipes</a></li>,\n",
       " <li><a href=\"/recipes-for-Diabetic-Breakfast-Recipes-454\">Diabetic Indian Breakfast</a></li>,\n",
       " <li><a href=\"/recipes-for-Diabetic-Starters-Snacks-Recipes-458\">Diabetic Indian Snacks, Starters</a></li>]"
      ]
     },
     "execution_count": 35,
     "metadata": {},
     "output_type": "execute_result"
    }
   ],
   "source": [
    "li_soup = soup.find('ul', class_ = 'tags-list').find_all('li')\n",
    "li_soup"
   ]
  },
  {
   "cell_type": "code",
   "execution_count": 36,
   "id": "2c920040",
   "metadata": {},
   "outputs": [
    {
     "data": {
      "text/plain": [
       "['Indian Steamer Recipes',\n",
       " 'Indian Breakfast Recipes',\n",
       " 'Jain Breakfast',\n",
       " 'Easy Indian Veg',\n",
       " 'Indian Diabetic recipes',\n",
       " 'Diabetic Indian Breakfast',\n",
       " 'Diabetic Indian Snacks, Starters']"
      ]
     },
     "execution_count": 36,
     "metadata": {},
     "output_type": "execute_result"
    }
   ],
   "source": [
    "tags = [li.text for li in li_soup]\n",
    "tags\n"
   ]
  },
  {
   "cell_type": "code",
   "execution_count": 37,
   "id": "9f16fed5",
   "metadata": {},
   "outputs": [
    {
     "data": {
      "text/plain": [
       "['Indian Steamer Recipes',\n",
       " 'Indian Breakfast Recipes',\n",
       " 'Jain Breakfast',\n",
       " 'Easy Indian Veg',\n",
       " 'Indian Diabetic recipes',\n",
       " 'Diabetic Indian Breakfast',\n",
       " 'Diabetic Indian Snacks, Starters',\n",
       " 'Diabetic-Breakfast-Recipes',\n",
       " 'Diabetic-Starters-Snacks-Recipes']"
      ]
     },
     "execution_count": 37,
     "metadata": {},
     "output_type": "execute_result"
    }
   ],
   "source": [
    "# also need to add the category as tag\n",
    "\n",
    "tags.extend(recipe_tags[recipies[0]])\n",
    "tags"
   ]
  },
  {
   "cell_type": "code",
   "execution_count": 38,
   "id": "0518ef79",
   "metadata": {},
   "outputs": [],
   "source": [
    "def get_tags(res_soup):\n",
    "    li_soup = res_soup.find('ul', class_ = 'tags-list').find_all('li')\n",
    "    tags = [li.text for li in li_soup]\n",
    "    tags.extend(recipe_tags[recipy])  # recipy will be the iterator in main function\n",
    "    return tags"
   ]
  },
  {
   "cell_type": "markdown",
   "id": "ae7d2b6f",
   "metadata": {},
   "source": [
    "#### Getting the ingredients"
   ]
  },
  {
   "cell_type": "code",
   "execution_count": 39,
   "id": "f13f1711",
   "metadata": {},
   "outputs": [],
   "source": [
    "ingredient_div = soup.find('div', class_=\"ingredients\")"
   ]
  },
  {
   "cell_type": "code",
   "execution_count": 40,
   "id": "cbf515c7",
   "metadata": {},
   "outputs": [
    {
     "name": "stdout",
     "output_type": "stream",
     "text": [
      "3/4 cup coarsely powdered quick cooking rolled oats\n",
      "2 cups finely chopped fenugreek leaves (methi)\n",
      "2 tbsp semolina (rava / sooji)\n",
      "3 tbsp low fat curds (dahi)\n",
      "1 1/2 tsp chilli powder\n",
      "2 tsp coriander-cumin seeds (dhania-jeera) powder\n",
      "1/4 tsp turmeric powder (haldi)\n",
      "1 tsp green chilli paste\n",
      "a pinch asafoetida (hing)\n",
      "salt to taste\n",
      "1 tsp oil\n",
      "1/2 tsp mustard seeds ( rai / sarson)\n",
      "1/2 tsp sesame seeds (til)\n",
      "1 1/2 tbsp biryani masala\n"
     ]
    }
   ],
   "source": [
    "\n",
    "for p in ingredient_div.find_all('p'):\n",
    "    text = p.get_text(strip=True,separator=\" \")\n",
    "    print(text)"
   ]
  },
  {
   "cell_type": "code",
   "execution_count": 41,
   "id": "110e4e67",
   "metadata": {},
   "outputs": [],
   "source": [
    "def get_ingredients(res_soup):\n",
    "    ingredient_div = soup.find('div', class_=\"ingredients\")\n",
    "    ingredients=[]\n",
    "    for p in ingredient_div.find_all('p'):\n",
    "        text = p.get_text(strip=True,separator=\" \")\n",
    "        ingredients.append(text)\n",
    "    return ingredients"
   ]
  },
  {
   "cell_type": "code",
   "execution_count": 42,
   "id": "ba76d878",
   "metadata": {},
   "outputs": [
    {
     "data": {
      "text/plain": [
       "['3/4 cup coarsely powdered quick cooking rolled oats',\n",
       " '2 cups finely chopped fenugreek leaves (methi)',\n",
       " '2 tbsp semolina (rava / sooji)',\n",
       " '3 tbsp low fat curds (dahi)',\n",
       " '1 1/2 tsp chilli powder',\n",
       " '2 tsp coriander-cumin seeds (dhania-jeera) powder',\n",
       " '1/4 tsp turmeric powder (haldi)',\n",
       " '1 tsp green chilli paste',\n",
       " 'a pinch asafoetida (hing)',\n",
       " 'salt to taste',\n",
       " '1 tsp oil',\n",
       " '1/2 tsp mustard seeds ( rai / sarson)',\n",
       " '1/2 tsp sesame seeds (til)',\n",
       " '1 1/2 tbsp biryani masala']"
      ]
     },
     "execution_count": 42,
     "metadata": {},
     "output_type": "execute_result"
    }
   ],
   "source": [
    "get_ingredients(soup)"
   ]
  },
  {
   "cell_type": "markdown",
   "id": "2b895379",
   "metadata": {},
   "source": [
    "#### Getting the nutrients"
   ]
  },
  {
   "cell_type": "code",
   "execution_count": 43,
   "id": "42aae9dc",
   "metadata": {},
   "outputs": [
    {
     "data": {
      "text/plain": [
       "<table id=\"rcpnutrients\"><tr><td style=\"padding:0px 2px;\">Energy</td><td style=\"padding:0px 4px;\"><span itemprop=\"calories\">133 cal</span></td></tr><tr><td style=\"padding:0px 2px;\">Protein</td><td style=\"padding:0px 4px;\"><span itemprop=\"proteinContent\">5.4 g</span></td></tr><tr><td style=\"padding:0px 2px;\">Carbohydrates</td><td style=\"padding:0px 4px;\"><span itemprop=\"carbohydrateContent\">20.6 g</span></td></tr><tr><td style=\"padding:0px 2px;\">Fiber</td><td style=\"padding:0px 4px;\"><span itemprop=\"fiberContent\">3.7 g</span></td></tr><tr><td style=\"padding:0px 2px;\">Fat</td><td style=\"padding:0px 4px;\"><span itemprop=\"fatContent\">3.3 g</span></td></tr><tr><td style=\"padding:0px 2px;\">Cholesterol</td><td style=\"padding:0px 4px;\"><span itemprop=\"cholesterolContent\">0 mg</span></td></tr><tr><td style=\"padding:0px 2px;\">Sodium</td><td style=\"padding:0px 4px;\"><span itemprop=\"sodiumContent\">23.5 mg</span></td></tr></table>"
      ]
     },
     "execution_count": 43,
     "metadata": {},
     "output_type": "execute_result"
    }
   ],
   "source": [
    "soup.find(\"table\", id=\"rcpnutrients\")"
   ]
  },
  {
   "cell_type": "code",
   "execution_count": 44,
   "id": "702a9a4c",
   "metadata": {},
   "outputs": [
    {
     "data": {
      "text/plain": [
       "[<tr><td style=\"padding:0px 2px;\">Energy</td><td style=\"padding:0px 4px;\"><span itemprop=\"calories\">133 cal</span></td></tr>,\n",
       " <tr><td style=\"padding:0px 2px;\">Protein</td><td style=\"padding:0px 4px;\"><span itemprop=\"proteinContent\">5.4 g</span></td></tr>,\n",
       " <tr><td style=\"padding:0px 2px;\">Carbohydrates</td><td style=\"padding:0px 4px;\"><span itemprop=\"carbohydrateContent\">20.6 g</span></td></tr>,\n",
       " <tr><td style=\"padding:0px 2px;\">Fiber</td><td style=\"padding:0px 4px;\"><span itemprop=\"fiberContent\">3.7 g</span></td></tr>,\n",
       " <tr><td style=\"padding:0px 2px;\">Fat</td><td style=\"padding:0px 4px;\"><span itemprop=\"fatContent\">3.3 g</span></td></tr>,\n",
       " <tr><td style=\"padding:0px 2px;\">Cholesterol</td><td style=\"padding:0px 4px;\"><span itemprop=\"cholesterolContent\">0 mg</span></td></tr>,\n",
       " <tr><td style=\"padding:0px 2px;\">Sodium</td><td style=\"padding:0px 4px;\"><span itemprop=\"sodiumContent\">23.5 mg</span></td></tr>]"
      ]
     },
     "execution_count": 44,
     "metadata": {},
     "output_type": "execute_result"
    }
   ],
   "source": [
    "soup.find(\"table\", id=\"rcpnutrients\").find_all('tr')"
   ]
  },
  {
   "cell_type": "code",
   "execution_count": 52,
   "id": "4c789f9a",
   "metadata": {},
   "outputs": [
    {
     "name": "stdout",
     "output_type": "stream",
     "text": [
      "Energy 133 cal\n",
      "Protein 5.4 g\n",
      "Carbohydrates 20.6 g\n",
      "Fiber 3.7 g\n",
      "Fat 3.3 g\n",
      "Cholesterol 0 mg\n",
      "Sodium 23.5 mg\n"
     ]
    }
   ],
   "source": [
    "for row in soup.find(\"table\", id=\"rcpnutrients\").find_all('tr'):\n",
    "    print(row.find_all(\"td\")[0].text, row.find_all(\"td\")[1].text)"
   ]
  },
  {
   "cell_type": "code",
   "execution_count": 53,
   "id": "fe804a6b",
   "metadata": {},
   "outputs": [
    {
     "data": {
      "text/plain": [
       "{'Energy': '133 cal',\n",
       " 'Protein': '5.4 g',\n",
       " 'Carbohydrates': '20.6 g',\n",
       " 'Fiber': '3.7 g',\n",
       " 'Fat': '3.3 g',\n",
       " 'Cholesterol': '0 mg',\n",
       " 'Sodium': '23.5 mg'}"
      ]
     },
     "execution_count": 53,
     "metadata": {},
     "output_type": "execute_result"
    }
   ],
   "source": [
    "nutrients = {}\n",
    "for row in soup.find(\"table\", id=\"rcpnutrients\").find_all('tr'):\n",
    "    key, value = row.find_all(\"td\")[0].text, row.find_all(\"td\")[1].text\n",
    "    nutrients[key] = value\n",
    "nutrients"
   ]
  },
  {
   "cell_type": "code",
   "execution_count": 54,
   "id": "cdee71dd",
   "metadata": {},
   "outputs": [],
   "source": [
    "def get_nutrients(res_soup):\n",
    "    nutrients = {}\n",
    "    for row in res_soup.find(\"table\", id=\"rcpnutrients\").find_all('tr'):\n",
    "        key, value = row.find_all(\"td\")[0].text, row.find_all(\"td\")[1].text\n",
    "        nutrients[key] = value\n",
    "    return nutrients"
   ]
  },
  {
   "cell_type": "code",
   "execution_count": 55,
   "id": "dfd90607",
   "metadata": {},
   "outputs": [
    {
     "data": {
      "text/plain": [
       "{'Energy': '133 cal',\n",
       " 'Protein': '5.4 g',\n",
       " 'Carbohydrates': '20.6 g',\n",
       " 'Fiber': '3.7 g',\n",
       " 'Fat': '3.3 g',\n",
       " 'Cholesterol': '0 mg',\n",
       " 'Sodium': '23.5 mg'}"
      ]
     },
     "execution_count": 55,
     "metadata": {},
     "output_type": "execute_result"
    }
   ],
   "source": [
    "get_nutrients(soup)"
   ]
  },
  {
   "cell_type": "markdown",
   "id": "882837dc",
   "metadata": {},
   "source": [
    "#### Get the instructions"
   ]
  },
  {
   "cell_type": "code",
   "execution_count": 63,
   "id": "629bd1a6",
   "metadata": {},
   "outputs": [
    {
     "data": {
      "text/plain": [
       "'For oats methi muthiaTo make oats methi muthia, combine the oats, fenugreek leaves, semolina, curds, chilli powder, coriander-cumin seeds powder, turmeric powder, green chilli paste, asafoetida and salt in a bowl, mix well and knead into a soft dough using little water.Divide the dough into 2 equal portions and shape each portion into a cylindrical roll of approximately 150 mm. (6\") in length and 25 mm. (1\") in diameter.Arrange the rolls on a sieve and steam in a steamer on a high flame for 10 minutes. Remove and keep aside to cool slightly for 10 minutes.Cut into 12 mm. (½”) slices and keep aside.For the tempering, heat the oil in a small non-stick pan and add the mustard seeds.When the seeds crackle, add the sesame seeds and cook on a medium flame for 30 seconds.Pour the tempering over the muthia pieces and toss it lightly.Serve the oats methi muthia hot with green chutney.'"
      ]
     },
     "execution_count": 63,
     "metadata": {},
     "output_type": "execute_result"
    }
   ],
   "source": [
    "soup.find(\"div\", class_=\"rsepc\").text.strip()   ## there are no steps here"
   ]
  },
  {
   "cell_type": "code",
   "execution_count": 61,
   "id": "8c1d5fad",
   "metadata": {},
   "outputs": [],
   "source": [
    "def get_instructions(res_soup):\n",
    "    return res_soup.find(\"div\", class_=\"rsepc\").text.strip()"
   ]
  },
  {
   "cell_type": "code",
   "execution_count": 62,
   "id": "7260e94a",
   "metadata": {},
   "outputs": [
    {
     "data": {
      "text/plain": [
       "'For oats methi muthiaTo make oats methi muthia, combine the oats, fenugreek leaves, semolina, curds, chilli powder, coriander-cumin seeds powder, turmeric powder, green chilli paste, asafoetida and salt in a bowl, mix well and knead into a soft dough using little water.Divide the dough into 2 equal portions and shape each portion into a cylindrical roll of approximately 150 mm. (6\") in length and 25 mm. (1\") in diameter.Arrange the rolls on a sieve and steam in a steamer on a high flame for 10 minutes. Remove and keep aside to cool slightly for 10 minutes.Cut into 12 mm. (½”) slices and keep aside.For the tempering, heat the oil in a small non-stick pan and add the mustard seeds.When the seeds crackle, add the sesame seeds and cook on a medium flame for 30 seconds.Pour the tempering over the muthia pieces and toss it lightly.Serve the oats methi muthia hot with green chutney.'"
      ]
     },
     "execution_count": 62,
     "metadata": {},
     "output_type": "execute_result"
    }
   ],
   "source": [
    "get_instructions(soup)"
   ]
  },
  {
   "cell_type": "code",
   "execution_count": null,
   "id": "58ccafd4",
   "metadata": {},
   "outputs": [],
   "source": []
  }
 ],
 "metadata": {
  "kernelspec": {
   "display_name": "Python 3",
   "language": "python",
   "name": "python3"
  },
  "language_info": {
   "codemirror_mode": {
    "name": "ipython",
    "version": 3
   },
   "file_extension": ".py",
   "mimetype": "text/x-python",
   "name": "python",
   "nbconvert_exporter": "python",
   "pygments_lexer": "ipython3",
   "version": "3.13.2"
  }
 },
 "nbformat": 4,
 "nbformat_minor": 5
}
