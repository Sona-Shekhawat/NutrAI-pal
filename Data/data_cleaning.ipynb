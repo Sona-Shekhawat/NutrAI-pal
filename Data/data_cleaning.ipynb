{
 "cells": [
  {
   "cell_type": "markdown",
   "id": "a7687f87",
   "metadata": {},
   "source": [
    "### Data Cleaning"
   ]
  },
  {
   "cell_type": "markdown",
   "id": "074482bc",
   "metadata": {},
   "source": [
    "- Getting the scraped files and cleaning them for any inconsistencies \n",
    "- We'll be following through all the stages of data cleaning process, as follows "
   ]
  },
  {
   "cell_type": "markdown",
   "id": "642a117c",
   "metadata": {},
   "source": [
    "#### Pre-requisites"
   ]
  },
  {
   "cell_type": "code",
   "execution_count": 4,
   "id": "4f667bd7",
   "metadata": {},
   "outputs": [],
   "source": [
    "import warnings \n",
    "warnings.filterwarnings(action=\"ignore\")"
   ]
  },
  {
   "cell_type": "markdown",
   "id": "4c6f6c62",
   "metadata": {},
   "source": [
    "#### Import the dependencies"
   ]
  },
  {
   "cell_type": "code",
   "execution_count": 5,
   "id": "5f925dda",
   "metadata": {},
   "outputs": [],
   "source": [
    "import pandas as pd\n",
    "import numpy as np"
   ]
  },
  {
   "cell_type": "markdown",
   "id": "36e38a16",
   "metadata": {},
   "source": [
    "#### Load the data"
   ]
  },
  {
   "cell_type": "code",
   "execution_count": 17,
   "id": "6a0199a2",
   "metadata": {},
   "outputs": [],
   "source": [
    "df_bbc = pd.read_csv(\"recipies 1.csv\")\n",
    "df_tarladal_1 = pd.read_csv(\"indian_recipies_1.csv\")\n",
    "df_tarladal_2 = pd.read_csv(\"indian_recipies_2.csv\")"
   ]
  },
  {
   "cell_type": "markdown",
   "id": "030575dc",
   "metadata": {},
   "source": [
    "##### Concat tarladal's data"
   ]
  },
  {
   "cell_type": "code",
   "execution_count": 36,
   "id": "73a45f20",
   "metadata": {},
   "outputs": [],
   "source": [
    "df_tarladal  = pd.concat([df_tarladal_1,df_tarladal_2])"
   ]
  },
  {
   "cell_type": "markdown",
   "id": "b060d642",
   "metadata": {},
   "source": [
    "#### Exploratory Data Analysis"
   ]
  },
  {
   "cell_type": "code",
   "execution_count": 37,
   "id": "51b5cd1f",
   "metadata": {},
   "outputs": [
    {
     "name": "stdout",
     "output_type": "stream",
     "text": [
      "<class 'pandas.core.frame.DataFrame'>\n",
      "Index: 2114 entries, 0 to 1616\n",
      "Data columns (total 9 columns):\n",
      " #   Column        Non-Null Count  Dtype \n",
      "---  ------        --------------  ----- \n",
      " 0   Unnamed: 0    2114 non-null   int64 \n",
      " 1   name          2114 non-null   object\n",
      " 2   tags          2114 non-null   object\n",
      " 3   ingredients   2114 non-null   object\n",
      " 4   serving_size  2114 non-null   object\n",
      " 5   cook_time     2114 non-null   object\n",
      " 6   nutrition     1997 non-null   object\n",
      " 7   instructions  2033 non-null   object\n",
      " 8   link          2114 non-null   object\n",
      "dtypes: int64(1), object(8)\n",
      "memory usage: 165.2+ KB\n"
     ]
    }
   ],
   "source": [
    "df_tarladal.info()"
   ]
  },
  {
   "cell_type": "markdown",
   "id": "96e9e402",
   "metadata": {},
   "source": [
    "- Without instructions the recipies are of no use, since there are only 81 such recipes, we drop them.\n",
    "- Let's keep the nutrition column for now, we'll try to calculate the nutrions based on ingredients later "
   ]
  },
  {
   "cell_type": "code",
   "execution_count": 40,
   "id": "8ee35c01",
   "metadata": {},
   "outputs": [],
   "source": [
    "df_dropped = df_tarladal.drop(\"Unnamed: 0\", axis=1).drop_duplicates(subset=\"ingredients\")"
   ]
  },
  {
   "cell_type": "code",
   "execution_count": 41,
   "id": "e0367e2a",
   "metadata": {},
   "outputs": [
    {
     "name": "stdout",
     "output_type": "stream",
     "text": [
      "<class 'pandas.core.frame.DataFrame'>\n",
      "Index: 2098 entries, 0 to 1616\n",
      "Data columns (total 8 columns):\n",
      " #   Column        Non-Null Count  Dtype \n",
      "---  ------        --------------  ----- \n",
      " 0   name          2098 non-null   object\n",
      " 1   tags          2098 non-null   object\n",
      " 2   ingredients   2098 non-null   object\n",
      " 3   serving_size  2098 non-null   object\n",
      " 4   cook_time     2098 non-null   object\n",
      " 5   nutrition     1988 non-null   object\n",
      " 6   instructions  2017 non-null   object\n",
      " 7   link          2098 non-null   object\n",
      "dtypes: object(8)\n",
      "memory usage: 147.5+ KB\n"
     ]
    }
   ],
   "source": [
    "df_dropped.info()"
   ]
  },
  {
   "cell_type": "code",
   "execution_count": null,
   "id": "2fe90278",
   "metadata": {},
   "outputs": [],
   "source": []
  },
  {
   "cell_type": "code",
   "execution_count": null,
   "id": "00c525ed",
   "metadata": {},
   "outputs": [],
   "source": []
  }
 ],
 "metadata": {
  "kernelspec": {
   "display_name": "Python 3",
   "language": "python",
   "name": "python3"
  },
  "language_info": {
   "codemirror_mode": {
    "name": "ipython",
    "version": 3
   },
   "file_extension": ".py",
   "mimetype": "text/x-python",
   "name": "python",
   "nbconvert_exporter": "python",
   "pygments_lexer": "ipython3",
   "version": "3.13.2"
  }
 },
 "nbformat": 4,
 "nbformat_minor": 5
}
